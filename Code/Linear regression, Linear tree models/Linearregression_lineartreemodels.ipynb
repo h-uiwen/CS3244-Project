{
 "cells": [
  {
   "cell_type": "code",
   "execution_count": 1,
   "metadata": {},
   "outputs": [],
   "source": [
    "import pandas as pd \n",
    "import sklearn\n",
    "from sklearn.linear_model import LinearRegression\n",
    "from sklearn.linear_model import Ridge\n",
    "from sklearn.linear_model import Lasso\n",
    "from sklearn.model_selection import TimeSeriesSplit\n",
    "from sklearn.model_selection import cross_val_score\n",
    "import matplotlib.pyplot as plt\n",
    "import numpy as np"
   ]
  },
  {
   "cell_type": "markdown",
   "metadata": {},
   "source": [
    "## Data Preparation"
   ]
  },
  {
   "cell_type": "code",
   "execution_count": 2,
   "metadata": {},
   "outputs": [
    {
     "data": {
      "text/html": [
       "<div>\n",
       "<style scoped>\n",
       "    .dataframe tbody tr th:only-of-type {\n",
       "        vertical-align: middle;\n",
       "    }\n",
       "\n",
       "    .dataframe tbody tr th {\n",
       "        vertical-align: top;\n",
       "    }\n",
       "\n",
       "    .dataframe thead th {\n",
       "        text-align: right;\n",
       "    }\n",
       "</style>\n",
       "<table border=\"1\" class=\"dataframe\">\n",
       "  <thead>\n",
       "    <tr style=\"text-align: right;\">\n",
       "      <th></th>\n",
       "      <th>index</th>\n",
       "      <th>Date</th>\n",
       "      <th>Close</th>\n",
       "      <th>Volume</th>\n",
       "      <th>OpenInt</th>\n",
       "      <th>EGS</th>\n",
       "      <th>Company_Name</th>\n",
       "      <th>day</th>\n",
       "      <th>year</th>\n",
       "      <th>month</th>\n",
       "      <th>...</th>\n",
       "      <th>lag42</th>\n",
       "      <th>lag43</th>\n",
       "      <th>lag44</th>\n",
       "      <th>lag45</th>\n",
       "      <th>lag46</th>\n",
       "      <th>lag47</th>\n",
       "      <th>lag48</th>\n",
       "      <th>lag49</th>\n",
       "      <th>lag50</th>\n",
       "      <th>Tomorrow_Close</th>\n",
       "    </tr>\n",
       "  </thead>\n",
       "  <tbody>\n",
       "    <tr>\n",
       "      <th>0</th>\n",
       "      <td>0</td>\n",
       "      <td>3/1/1980</td>\n",
       "      <td>0.26459</td>\n",
       "      <td>12665490</td>\n",
       "      <td>0</td>\n",
       "      <td>2</td>\n",
       "      <td>INTC</td>\n",
       "      <td>3</td>\n",
       "      <td>1980</td>\n",
       "      <td>1</td>\n",
       "      <td>...</td>\n",
       "      <td>NaN</td>\n",
       "      <td>NaN</td>\n",
       "      <td>NaN</td>\n",
       "      <td>NaN</td>\n",
       "      <td>NaN</td>\n",
       "      <td>NaN</td>\n",
       "      <td>NaN</td>\n",
       "      <td>NaN</td>\n",
       "      <td>NaN</td>\n",
       "      <td>0.26459</td>\n",
       "    </tr>\n",
       "    <tr>\n",
       "      <th>1</th>\n",
       "      <td>1</td>\n",
       "      <td>4/1/1980</td>\n",
       "      <td>0.26459</td>\n",
       "      <td>13431648</td>\n",
       "      <td>0</td>\n",
       "      <td>2</td>\n",
       "      <td>INTC</td>\n",
       "      <td>4</td>\n",
       "      <td>1980</td>\n",
       "      <td>1</td>\n",
       "      <td>...</td>\n",
       "      <td>NaN</td>\n",
       "      <td>NaN</td>\n",
       "      <td>NaN</td>\n",
       "      <td>NaN</td>\n",
       "      <td>NaN</td>\n",
       "      <td>NaN</td>\n",
       "      <td>NaN</td>\n",
       "      <td>NaN</td>\n",
       "      <td>NaN</td>\n",
       "      <td>0.26459</td>\n",
       "    </tr>\n",
       "    <tr>\n",
       "      <th>2</th>\n",
       "      <td>2</td>\n",
       "      <td>7/1/1980</td>\n",
       "      <td>0.26459</td>\n",
       "      <td>11564146</td>\n",
       "      <td>0</td>\n",
       "      <td>2</td>\n",
       "      <td>INTC</td>\n",
       "      <td>0</td>\n",
       "      <td>1980</td>\n",
       "      <td>1</td>\n",
       "      <td>...</td>\n",
       "      <td>NaN</td>\n",
       "      <td>NaN</td>\n",
       "      <td>NaN</td>\n",
       "      <td>NaN</td>\n",
       "      <td>NaN</td>\n",
       "      <td>NaN</td>\n",
       "      <td>NaN</td>\n",
       "      <td>NaN</td>\n",
       "      <td>NaN</td>\n",
       "      <td>0.28077</td>\n",
       "    </tr>\n",
       "    <tr>\n",
       "      <th>3</th>\n",
       "      <td>3</td>\n",
       "      <td>8/1/1980</td>\n",
       "      <td>0.28077</td>\n",
       "      <td>15586456</td>\n",
       "      <td>0</td>\n",
       "      <td>2</td>\n",
       "      <td>INTC</td>\n",
       "      <td>1</td>\n",
       "      <td>1980</td>\n",
       "      <td>1</td>\n",
       "      <td>...</td>\n",
       "      <td>NaN</td>\n",
       "      <td>NaN</td>\n",
       "      <td>NaN</td>\n",
       "      <td>NaN</td>\n",
       "      <td>NaN</td>\n",
       "      <td>NaN</td>\n",
       "      <td>NaN</td>\n",
       "      <td>NaN</td>\n",
       "      <td>NaN</td>\n",
       "      <td>0.28868</td>\n",
       "    </tr>\n",
       "    <tr>\n",
       "      <th>4</th>\n",
       "      <td>4</td>\n",
       "      <td>9/1/1980</td>\n",
       "      <td>0.28868</td>\n",
       "      <td>19656654</td>\n",
       "      <td>0</td>\n",
       "      <td>2</td>\n",
       "      <td>INTC</td>\n",
       "      <td>2</td>\n",
       "      <td>1980</td>\n",
       "      <td>1</td>\n",
       "      <td>...</td>\n",
       "      <td>NaN</td>\n",
       "      <td>NaN</td>\n",
       "      <td>NaN</td>\n",
       "      <td>NaN</td>\n",
       "      <td>NaN</td>\n",
       "      <td>NaN</td>\n",
       "      <td>NaN</td>\n",
       "      <td>NaN</td>\n",
       "      <td>NaN</td>\n",
       "      <td>0.28868</td>\n",
       "    </tr>\n",
       "    <tr>\n",
       "      <th>...</th>\n",
       "      <td>...</td>\n",
       "      <td>...</td>\n",
       "      <td>...</td>\n",
       "      <td>...</td>\n",
       "      <td>...</td>\n",
       "      <td>...</td>\n",
       "      <td>...</td>\n",
       "      <td>...</td>\n",
       "      <td>...</td>\n",
       "      <td>...</td>\n",
       "      <td>...</td>\n",
       "      <td>...</td>\n",
       "      <td>...</td>\n",
       "      <td>...</td>\n",
       "      <td>...</td>\n",
       "      <td>...</td>\n",
       "      <td>...</td>\n",
       "      <td>...</td>\n",
       "      <td>...</td>\n",
       "      <td>...</td>\n",
       "      <td>...</td>\n",
       "    </tr>\n",
       "    <tr>\n",
       "      <th>168242</th>\n",
       "      <td>168242</td>\n",
       "      <td>10/11/2017</td>\n",
       "      <td>111.12000</td>\n",
       "      <td>2161752</td>\n",
       "      <td>0</td>\n",
       "      <td>1</td>\n",
       "      <td>SWKS</td>\n",
       "      <td>4</td>\n",
       "      <td>2017</td>\n",
       "      <td>11</td>\n",
       "      <td>...</td>\n",
       "      <td>106.800</td>\n",
       "      <td>106.870</td>\n",
       "      <td>107.190</td>\n",
       "      <td>104.640</td>\n",
       "      <td>106.430</td>\n",
       "      <td>106.170</td>\n",
       "      <td>106.93</td>\n",
       "      <td>105.570</td>\n",
       "      <td>105.360</td>\n",
       "      <td>110.41000</td>\n",
       "    </tr>\n",
       "    <tr>\n",
       "      <th>168243</th>\n",
       "      <td>168243</td>\n",
       "      <td>10/11/2017</td>\n",
       "      <td>52.33000</td>\n",
       "      <td>1023885</td>\n",
       "      <td>0</td>\n",
       "      <td>0</td>\n",
       "      <td>TEAM</td>\n",
       "      <td>4</td>\n",
       "      <td>2017</td>\n",
       "      <td>11</td>\n",
       "      <td>...</td>\n",
       "      <td>33.820</td>\n",
       "      <td>33.800</td>\n",
       "      <td>35.030</td>\n",
       "      <td>34.370</td>\n",
       "      <td>34.460</td>\n",
       "      <td>34.390</td>\n",
       "      <td>34.90</td>\n",
       "      <td>34.900</td>\n",
       "      <td>35.600</td>\n",
       "      <td>52.40000</td>\n",
       "    </tr>\n",
       "    <tr>\n",
       "      <th>168244</th>\n",
       "      <td>168244</td>\n",
       "      <td>10/11/2017</td>\n",
       "      <td>97.05000</td>\n",
       "      <td>4239733</td>\n",
       "      <td>0</td>\n",
       "      <td>1</td>\n",
       "      <td>TXN</td>\n",
       "      <td>4</td>\n",
       "      <td>2017</td>\n",
       "      <td>11</td>\n",
       "      <td>...</td>\n",
       "      <td>82.174</td>\n",
       "      <td>82.363</td>\n",
       "      <td>81.697</td>\n",
       "      <td>80.863</td>\n",
       "      <td>81.469</td>\n",
       "      <td>81.548</td>\n",
       "      <td>81.33</td>\n",
       "      <td>82.015</td>\n",
       "      <td>82.293</td>\n",
       "      <td>96.94000</td>\n",
       "    </tr>\n",
       "    <tr>\n",
       "      <th>168245</th>\n",
       "      <td>168245</td>\n",
       "      <td>10/11/2017</td>\n",
       "      <td>109.42000</td>\n",
       "      <td>497915</td>\n",
       "      <td>0</td>\n",
       "      <td>1</td>\n",
       "      <td>VRSN</td>\n",
       "      <td>4</td>\n",
       "      <td>2017</td>\n",
       "      <td>11</td>\n",
       "      <td>...</td>\n",
       "      <td>103.320</td>\n",
       "      <td>103.730</td>\n",
       "      <td>104.650</td>\n",
       "      <td>103.310</td>\n",
       "      <td>103.480</td>\n",
       "      <td>102.790</td>\n",
       "      <td>102.54</td>\n",
       "      <td>103.940</td>\n",
       "      <td>103.750</td>\n",
       "      <td>109.75000</td>\n",
       "    </tr>\n",
       "    <tr>\n",
       "      <th>168246</th>\n",
       "      <td>168246</td>\n",
       "      <td>10/11/2017</td>\n",
       "      <td>106.17000</td>\n",
       "      <td>2128347</td>\n",
       "      <td>0</td>\n",
       "      <td>0</td>\n",
       "      <td>WDAY</td>\n",
       "      <td>4</td>\n",
       "      <td>2017</td>\n",
       "      <td>11</td>\n",
       "      <td>...</td>\n",
       "      <td>107.020</td>\n",
       "      <td>106.980</td>\n",
       "      <td>108.270</td>\n",
       "      <td>107.900</td>\n",
       "      <td>109.820</td>\n",
       "      <td>108.500</td>\n",
       "      <td>108.16</td>\n",
       "      <td>108.840</td>\n",
       "      <td>109.690</td>\n",
       "      <td>107.31000</td>\n",
       "    </tr>\n",
       "  </tbody>\n",
       "</table>\n",
       "<p>168247 rows × 77 columns</p>\n",
       "</div>"
      ],
      "text/plain": [
       "         index        Date      Close    Volume  OpenInt  EGS Company_Name  \\\n",
       "0            0    3/1/1980    0.26459  12665490        0    2         INTC   \n",
       "1            1    4/1/1980    0.26459  13431648        0    2         INTC   \n",
       "2            2    7/1/1980    0.26459  11564146        0    2         INTC   \n",
       "3            3    8/1/1980    0.28077  15586456        0    2         INTC   \n",
       "4            4    9/1/1980    0.28868  19656654        0    2         INTC   \n",
       "...        ...         ...        ...       ...      ...  ...          ...   \n",
       "168242  168242  10/11/2017  111.12000   2161752        0    1         SWKS   \n",
       "168243  168243  10/11/2017   52.33000   1023885        0    0         TEAM   \n",
       "168244  168244  10/11/2017   97.05000   4239733        0    1          TXN   \n",
       "168245  168245  10/11/2017  109.42000    497915        0    1         VRSN   \n",
       "168246  168246  10/11/2017  106.17000   2128347        0    0         WDAY   \n",
       "\n",
       "        day  year  month  ...    lag42    lag43    lag44    lag45    lag46  \\\n",
       "0         3  1980      1  ...      NaN      NaN      NaN      NaN      NaN   \n",
       "1         4  1980      1  ...      NaN      NaN      NaN      NaN      NaN   \n",
       "2         0  1980      1  ...      NaN      NaN      NaN      NaN      NaN   \n",
       "3         1  1980      1  ...      NaN      NaN      NaN      NaN      NaN   \n",
       "4         2  1980      1  ...      NaN      NaN      NaN      NaN      NaN   \n",
       "...     ...   ...    ...  ...      ...      ...      ...      ...      ...   \n",
       "168242    4  2017     11  ...  106.800  106.870  107.190  104.640  106.430   \n",
       "168243    4  2017     11  ...   33.820   33.800   35.030   34.370   34.460   \n",
       "168244    4  2017     11  ...   82.174   82.363   81.697   80.863   81.469   \n",
       "168245    4  2017     11  ...  103.320  103.730  104.650  103.310  103.480   \n",
       "168246    4  2017     11  ...  107.020  106.980  108.270  107.900  109.820   \n",
       "\n",
       "          lag47   lag48    lag49    lag50  Tomorrow_Close  \n",
       "0           NaN     NaN      NaN      NaN         0.26459  \n",
       "1           NaN     NaN      NaN      NaN         0.26459  \n",
       "2           NaN     NaN      NaN      NaN         0.28077  \n",
       "3           NaN     NaN      NaN      NaN         0.28868  \n",
       "4           NaN     NaN      NaN      NaN         0.28868  \n",
       "...         ...     ...      ...      ...             ...  \n",
       "168242  106.170  106.93  105.570  105.360       110.41000  \n",
       "168243   34.390   34.90   34.900   35.600        52.40000  \n",
       "168244   81.548   81.33   82.015   82.293        96.94000  \n",
       "168245  102.790  102.54  103.940  103.750       109.75000  \n",
       "168246  108.500  108.16  108.840  109.690       107.31000  \n",
       "\n",
       "[168247 rows x 77 columns]"
      ]
     },
     "execution_count": 2,
     "metadata": {},
     "output_type": "execute_result"
    }
   ],
   "source": [
    "data = pd.read_csv(\"combined_stocks.csv\")\n",
    "data.reset_index()"
   ]
  },
  {
   "cell_type": "code",
   "execution_count": 3,
   "metadata": {},
   "outputs": [
    {
     "data": {
      "text/plain": [
       "Index(['Date', 'Close', 'Volume', 'OpenInt', 'EGS', 'Company_Name', 'day',\n",
       "       'year', 'month', 'h-c', 'c-l', 'c-o', 'ewm10', 'ewm50', 'ewm100',\n",
       "       'ewm200', 'ma10', 'ma50', 'ma100', 'ma200', 'std10', 'std50', 'std100',\n",
       "       'std200', 'UB', 'LB', 'lag2', 'lag3', 'lag4', 'lag5', 'lag6', 'lag7',\n",
       "       'lag8', 'lag9', 'lag10', 'lag11', 'lag12', 'lag13', 'lag14', 'lag15',\n",
       "       'lag16', 'lag17', 'lag18', 'lag19', 'lag20', 'lag21', 'lag22', 'lag23',\n",
       "       'lag24', 'lag25', 'lag26', 'lag27', 'lag28', 'lag29', 'lag30', 'lag31',\n",
       "       'lag32', 'lag33', 'lag34', 'lag35', 'lag36', 'lag37', 'lag38', 'lag39',\n",
       "       'lag40', 'lag41', 'lag42', 'lag43', 'lag44', 'lag45', 'lag46', 'lag47',\n",
       "       'lag48', 'lag49', 'lag50', 'Tomorrow_Close'],\n",
       "      dtype='object')"
      ]
     },
     "execution_count": 3,
     "metadata": {},
     "output_type": "execute_result"
    }
   ],
   "source": [
    "data.columns"
   ]
  },
  {
   "cell_type": "code",
   "execution_count": 4,
   "metadata": {},
   "outputs": [
    {
     "data": {
      "text/plain": [
       "168247"
      ]
     },
     "execution_count": 4,
     "metadata": {},
     "output_type": "execute_result"
    }
   ],
   "source": [
    "len(data)"
   ]
  },
  {
   "cell_type": "code",
   "execution_count": 5,
   "metadata": {},
   "outputs": [],
   "source": [
    "data = data.dropna()"
   ]
  },
  {
   "cell_type": "code",
   "execution_count": 6,
   "metadata": {},
   "outputs": [
    {
     "data": {
      "text/plain": [
       "161330"
      ]
     },
     "execution_count": 6,
     "metadata": {},
     "output_type": "execute_result"
    }
   ],
   "source": [
    "len(data)"
   ]
  },
  {
   "cell_type": "code",
   "execution_count": 7,
   "metadata": {},
   "outputs": [
    {
     "data": {
      "text/html": [
       "<div>\n",
       "<style scoped>\n",
       "    .dataframe tbody tr th:only-of-type {\n",
       "        vertical-align: middle;\n",
       "    }\n",
       "\n",
       "    .dataframe tbody tr th {\n",
       "        vertical-align: top;\n",
       "    }\n",
       "\n",
       "    .dataframe thead th {\n",
       "        text-align: right;\n",
       "    }\n",
       "</style>\n",
       "<table border=\"1\" class=\"dataframe\">\n",
       "  <thead>\n",
       "    <tr style=\"text-align: right;\">\n",
       "      <th></th>\n",
       "      <th>Date</th>\n",
       "      <th>Close</th>\n",
       "      <th>Volume</th>\n",
       "      <th>OpenInt</th>\n",
       "      <th>EGS</th>\n",
       "      <th>Company_Name</th>\n",
       "      <th>day</th>\n",
       "      <th>year</th>\n",
       "      <th>month</th>\n",
       "      <th>h-c</th>\n",
       "      <th>...</th>\n",
       "      <th>lag42</th>\n",
       "      <th>lag43</th>\n",
       "      <th>lag44</th>\n",
       "      <th>lag45</th>\n",
       "      <th>lag46</th>\n",
       "      <th>lag47</th>\n",
       "      <th>lag48</th>\n",
       "      <th>lag49</th>\n",
       "      <th>lag50</th>\n",
       "      <th>Tomorrow_Close</th>\n",
       "    </tr>\n",
       "  </thead>\n",
       "  <tbody>\n",
       "    <tr>\n",
       "      <th>199</th>\n",
       "      <td>15/10/1980</td>\n",
       "      <td>0.40097</td>\n",
       "      <td>8296020</td>\n",
       "      <td>0</td>\n",
       "      <td>2</td>\n",
       "      <td>INTC</td>\n",
       "      <td>2</td>\n",
       "      <td>1980</td>\n",
       "      <td>10</td>\n",
       "      <td>0.00817</td>\n",
       "      <td>...</td>\n",
       "      <td>0.37681</td>\n",
       "      <td>0.37681</td>\n",
       "      <td>0.37681</td>\n",
       "      <td>0.38489</td>\n",
       "      <td>0.38489</td>\n",
       "      <td>0.36091</td>\n",
       "      <td>0.36091</td>\n",
       "      <td>0.35285</td>\n",
       "      <td>0.35285</td>\n",
       "      <td>0.40914</td>\n",
       "    </tr>\n",
       "    <tr>\n",
       "      <th>200</th>\n",
       "      <td>16/10/1980</td>\n",
       "      <td>0.40914</td>\n",
       "      <td>5506736</td>\n",
       "      <td>0</td>\n",
       "      <td>2</td>\n",
       "      <td>INTC</td>\n",
       "      <td>3</td>\n",
       "      <td>1980</td>\n",
       "      <td>10</td>\n",
       "      <td>0.00793</td>\n",
       "      <td>...</td>\n",
       "      <td>0.36091</td>\n",
       "      <td>0.37681</td>\n",
       "      <td>0.37681</td>\n",
       "      <td>0.37681</td>\n",
       "      <td>0.38489</td>\n",
       "      <td>0.38489</td>\n",
       "      <td>0.36091</td>\n",
       "      <td>0.36091</td>\n",
       "      <td>0.35285</td>\n",
       "      <td>0.40914</td>\n",
       "    </tr>\n",
       "    <tr>\n",
       "      <th>201</th>\n",
       "      <td>17/10/1980</td>\n",
       "      <td>0.40914</td>\n",
       "      <td>7410151</td>\n",
       "      <td>0</td>\n",
       "      <td>2</td>\n",
       "      <td>INTC</td>\n",
       "      <td>4</td>\n",
       "      <td>1980</td>\n",
       "      <td>10</td>\n",
       "      <td>0.00793</td>\n",
       "      <td>...</td>\n",
       "      <td>0.36091</td>\n",
       "      <td>0.36091</td>\n",
       "      <td>0.37681</td>\n",
       "      <td>0.37681</td>\n",
       "      <td>0.37681</td>\n",
       "      <td>0.38489</td>\n",
       "      <td>0.38489</td>\n",
       "      <td>0.36091</td>\n",
       "      <td>0.36091</td>\n",
       "      <td>0.40914</td>\n",
       "    </tr>\n",
       "    <tr>\n",
       "      <th>202</th>\n",
       "      <td>20/10/1980</td>\n",
       "      <td>0.40914</td>\n",
       "      <td>8715007</td>\n",
       "      <td>0</td>\n",
       "      <td>2</td>\n",
       "      <td>INTC</td>\n",
       "      <td>0</td>\n",
       "      <td>1980</td>\n",
       "      <td>10</td>\n",
       "      <td>0.00000</td>\n",
       "      <td>...</td>\n",
       "      <td>0.36881</td>\n",
       "      <td>0.36091</td>\n",
       "      <td>0.36091</td>\n",
       "      <td>0.37681</td>\n",
       "      <td>0.37681</td>\n",
       "      <td>0.37681</td>\n",
       "      <td>0.38489</td>\n",
       "      <td>0.38489</td>\n",
       "      <td>0.36091</td>\n",
       "      <td>0.40097</td>\n",
       "    </tr>\n",
       "    <tr>\n",
       "      <th>203</th>\n",
       "      <td>21/10/1980</td>\n",
       "      <td>0.40097</td>\n",
       "      <td>8092510</td>\n",
       "      <td>0</td>\n",
       "      <td>2</td>\n",
       "      <td>INTC</td>\n",
       "      <td>1</td>\n",
       "      <td>1980</td>\n",
       "      <td>10</td>\n",
       "      <td>0.00000</td>\n",
       "      <td>...</td>\n",
       "      <td>0.36881</td>\n",
       "      <td>0.36881</td>\n",
       "      <td>0.36091</td>\n",
       "      <td>0.36091</td>\n",
       "      <td>0.37681</td>\n",
       "      <td>0.37681</td>\n",
       "      <td>0.37681</td>\n",
       "      <td>0.38489</td>\n",
       "      <td>0.38489</td>\n",
       "      <td>0.39291</td>\n",
       "    </tr>\n",
       "  </tbody>\n",
       "</table>\n",
       "<p>5 rows × 76 columns</p>\n",
       "</div>"
      ],
      "text/plain": [
       "           Date    Close   Volume  OpenInt  EGS Company_Name  day  year  \\\n",
       "199  15/10/1980  0.40097  8296020        0    2         INTC    2  1980   \n",
       "200  16/10/1980  0.40914  5506736        0    2         INTC    3  1980   \n",
       "201  17/10/1980  0.40914  7410151        0    2         INTC    4  1980   \n",
       "202  20/10/1980  0.40914  8715007        0    2         INTC    0  1980   \n",
       "203  21/10/1980  0.40097  8092510        0    2         INTC    1  1980   \n",
       "\n",
       "     month      h-c  ...    lag42    lag43    lag44    lag45    lag46  \\\n",
       "199     10  0.00817  ...  0.37681  0.37681  0.37681  0.38489  0.38489   \n",
       "200     10  0.00793  ...  0.36091  0.37681  0.37681  0.37681  0.38489   \n",
       "201     10  0.00793  ...  0.36091  0.36091  0.37681  0.37681  0.37681   \n",
       "202     10  0.00000  ...  0.36881  0.36091  0.36091  0.37681  0.37681   \n",
       "203     10  0.00000  ...  0.36881  0.36881  0.36091  0.36091  0.37681   \n",
       "\n",
       "       lag47    lag48    lag49    lag50  Tomorrow_Close  \n",
       "199  0.36091  0.36091  0.35285  0.35285         0.40914  \n",
       "200  0.38489  0.36091  0.36091  0.35285         0.40914  \n",
       "201  0.38489  0.38489  0.36091  0.36091         0.40914  \n",
       "202  0.37681  0.38489  0.38489  0.36091         0.40097  \n",
       "203  0.37681  0.37681  0.38489  0.38489         0.39291  \n",
       "\n",
       "[5 rows x 76 columns]"
      ]
     },
     "execution_count": 7,
     "metadata": {},
     "output_type": "execute_result"
    }
   ],
   "source": [
    "data.head()"
   ]
  },
  {
   "cell_type": "code",
   "execution_count": 8,
   "metadata": {},
   "outputs": [],
   "source": [
    "data = data.reset_index()"
   ]
  },
  {
   "cell_type": "code",
   "execution_count": 9,
   "metadata": {},
   "outputs": [],
   "source": [
    "X = data.loc[:, \"Close\":\"lag50\"]"
   ]
  },
  {
   "cell_type": "code",
   "execution_count": 10,
   "metadata": {},
   "outputs": [
    {
     "data": {
      "text/plain": [
       "Text(0.5, 1.0, 'Plot of standard deviations of stock prices against time')"
      ]
     },
     "execution_count": 10,
     "metadata": {},
     "output_type": "execute_result"
    },
    {
     "data": {
      "image/png": "[encoded data removed]",
      "text/plain": [
       "<Figure size 432x288 with 1 Axes>"
      ]
     },
     "metadata": {
      "needs_background": "light"
     },
     "output_type": "display_data"
    }
   ],
   "source": [
    "plt.plot(X[\"std50\"])\n",
    "plt.xlabel(\"Time\")\n",
    "plt.ylabel(\"50 days moving standard deviation\")\n",
    "plt.title(\"Plot of standard deviations of stock prices against time\")"
   ]
  },
  {
   "cell_type": "code",
   "execution_count": 11,
   "metadata": {},
   "outputs": [],
   "source": [
    "X = X.drop(\"Company_Name\", axis = 1)"
   ]
  },
  {
   "cell_type": "code",
   "execution_count": 12,
   "metadata": {},
   "outputs": [
    {
     "data": {
      "text/html": [
       "<div>\n",
       "<style scoped>\n",
       "    .dataframe tbody tr th:only-of-type {\n",
       "        vertical-align: middle;\n",
       "    }\n",
       "\n",
       "    .dataframe tbody tr th {\n",
       "        vertical-align: top;\n",
       "    }\n",
       "\n",
       "    .dataframe thead th {\n",
       "        text-align: right;\n",
       "    }\n",
       "</style>\n",
       "<table border=\"1\" class=\"dataframe\">\n",
       "  <thead>\n",
       "    <tr style=\"text-align: right;\">\n",
       "      <th></th>\n",
       "      <th>Close</th>\n",
       "      <th>Volume</th>\n",
       "      <th>OpenInt</th>\n",
       "      <th>EGS</th>\n",
       "      <th>day</th>\n",
       "      <th>year</th>\n",
       "      <th>month</th>\n",
       "      <th>h-c</th>\n",
       "      <th>c-l</th>\n",
       "      <th>c-o</th>\n",
       "      <th>...</th>\n",
       "      <th>lag41</th>\n",
       "      <th>lag42</th>\n",
       "      <th>lag43</th>\n",
       "      <th>lag44</th>\n",
       "      <th>lag45</th>\n",
       "      <th>lag46</th>\n",
       "      <th>lag47</th>\n",
       "      <th>lag48</th>\n",
       "      <th>lag49</th>\n",
       "      <th>lag50</th>\n",
       "    </tr>\n",
       "  </thead>\n",
       "  <tbody>\n",
       "    <tr>\n",
       "      <th>0</th>\n",
       "      <td>0.40097</td>\n",
       "      <td>8296020</td>\n",
       "      <td>0</td>\n",
       "      <td>2</td>\n",
       "      <td>2</td>\n",
       "      <td>1980</td>\n",
       "      <td>10</td>\n",
       "      <td>0.00817</td>\n",
       "      <td>0.0</td>\n",
       "      <td>0.0</td>\n",
       "      <td>...</td>\n",
       "      <td>0.36091</td>\n",
       "      <td>0.37681</td>\n",
       "      <td>0.37681</td>\n",
       "      <td>0.37681</td>\n",
       "      <td>0.38489</td>\n",
       "      <td>0.38489</td>\n",
       "      <td>0.36091</td>\n",
       "      <td>0.36091</td>\n",
       "      <td>0.35285</td>\n",
       "      <td>0.35285</td>\n",
       "    </tr>\n",
       "    <tr>\n",
       "      <th>1</th>\n",
       "      <td>0.40914</td>\n",
       "      <td>5506736</td>\n",
       "      <td>0</td>\n",
       "      <td>2</td>\n",
       "      <td>3</td>\n",
       "      <td>1980</td>\n",
       "      <td>10</td>\n",
       "      <td>0.00793</td>\n",
       "      <td>0.0</td>\n",
       "      <td>0.0</td>\n",
       "      <td>...</td>\n",
       "      <td>0.36091</td>\n",
       "      <td>0.36091</td>\n",
       "      <td>0.37681</td>\n",
       "      <td>0.37681</td>\n",
       "      <td>0.37681</td>\n",
       "      <td>0.38489</td>\n",
       "      <td>0.38489</td>\n",
       "      <td>0.36091</td>\n",
       "      <td>0.36091</td>\n",
       "      <td>0.35285</td>\n",
       "    </tr>\n",
       "    <tr>\n",
       "      <th>2</th>\n",
       "      <td>0.40914</td>\n",
       "      <td>7410151</td>\n",
       "      <td>0</td>\n",
       "      <td>2</td>\n",
       "      <td>4</td>\n",
       "      <td>1980</td>\n",
       "      <td>10</td>\n",
       "      <td>0.00793</td>\n",
       "      <td>0.0</td>\n",
       "      <td>0.0</td>\n",
       "      <td>...</td>\n",
       "      <td>0.36881</td>\n",
       "      <td>0.36091</td>\n",
       "      <td>0.36091</td>\n",
       "      <td>0.37681</td>\n",
       "      <td>0.37681</td>\n",
       "      <td>0.37681</td>\n",
       "      <td>0.38489</td>\n",
       "      <td>0.38489</td>\n",
       "      <td>0.36091</td>\n",
       "      <td>0.36091</td>\n",
       "    </tr>\n",
       "    <tr>\n",
       "      <th>3</th>\n",
       "      <td>0.40914</td>\n",
       "      <td>8715007</td>\n",
       "      <td>0</td>\n",
       "      <td>2</td>\n",
       "      <td>0</td>\n",
       "      <td>1980</td>\n",
       "      <td>10</td>\n",
       "      <td>0.00000</td>\n",
       "      <td>0.0</td>\n",
       "      <td>0.0</td>\n",
       "      <td>...</td>\n",
       "      <td>0.36881</td>\n",
       "      <td>0.36881</td>\n",
       "      <td>0.36091</td>\n",
       "      <td>0.36091</td>\n",
       "      <td>0.37681</td>\n",
       "      <td>0.37681</td>\n",
       "      <td>0.37681</td>\n",
       "      <td>0.38489</td>\n",
       "      <td>0.38489</td>\n",
       "      <td>0.36091</td>\n",
       "    </tr>\n",
       "    <tr>\n",
       "      <th>4</th>\n",
       "      <td>0.40097</td>\n",
       "      <td>8092510</td>\n",
       "      <td>0</td>\n",
       "      <td>2</td>\n",
       "      <td>1</td>\n",
       "      <td>1980</td>\n",
       "      <td>10</td>\n",
       "      <td>0.00000</td>\n",
       "      <td>0.0</td>\n",
       "      <td>0.0</td>\n",
       "      <td>...</td>\n",
       "      <td>0.36881</td>\n",
       "      <td>0.36881</td>\n",
       "      <td>0.36881</td>\n",
       "      <td>0.36091</td>\n",
       "      <td>0.36091</td>\n",
       "      <td>0.37681</td>\n",
       "      <td>0.37681</td>\n",
       "      <td>0.37681</td>\n",
       "      <td>0.38489</td>\n",
       "      <td>0.38489</td>\n",
       "    </tr>\n",
       "  </tbody>\n",
       "</table>\n",
       "<p>5 rows × 73 columns</p>\n",
       "</div>"
      ],
      "text/plain": [
       "     Close   Volume  OpenInt  EGS  day  year  month      h-c  c-l  c-o  ...  \\\n",
       "0  0.40097  8296020        0    2    2  1980     10  0.00817  0.0  0.0  ...   \n",
       "1  0.40914  5506736        0    2    3  1980     10  0.00793  0.0  0.0  ...   \n",
       "2  0.40914  7410151        0    2    4  1980     10  0.00793  0.0  0.0  ...   \n",
       "3  0.40914  8715007        0    2    0  1980     10  0.00000  0.0  0.0  ...   \n",
       "4  0.40097  8092510        0    2    1  1980     10  0.00000  0.0  0.0  ...   \n",
       "\n",
       "     lag41    lag42    lag43    lag44    lag45    lag46    lag47    lag48  \\\n",
       "0  0.36091  0.37681  0.37681  0.37681  0.38489  0.38489  0.36091  0.36091   \n",
       "1  0.36091  0.36091  0.37681  0.37681  0.37681  0.38489  0.38489  0.36091   \n",
       "2  0.36881  0.36091  0.36091  0.37681  0.37681  0.37681  0.38489  0.38489   \n",
       "3  0.36881  0.36881  0.36091  0.36091  0.37681  0.37681  0.37681  0.38489   \n",
       "4  0.36881  0.36881  0.36881  0.36091  0.36091  0.37681  0.37681  0.37681   \n",
       "\n",
       "     lag49    lag50  \n",
       "0  0.35285  0.35285  \n",
       "1  0.36091  0.35285  \n",
       "2  0.36091  0.36091  \n",
       "3  0.38489  0.36091  \n",
       "4  0.38489  0.38489  \n",
       "\n",
       "[5 rows x 73 columns]"
      ]
     },
     "execution_count": 12,
     "metadata": {},
     "output_type": "execute_result"
    }
   ],
   "source": [
    "X.head()"
   ]
  },
  {
   "cell_type": "code",
   "execution_count": 13,
   "metadata": {},
   "outputs": [
    {
     "name": "stderr",
     "output_type": "stream",
     "text": [
      "/var/folders/n5/gkbdqwls1h17gjm6d68_h8ph0000gn/T/ipykernel_88612/3095439742.py:5: SettingWithCopyWarning: \n",
      "A value is trying to be set on a copy of a slice from a DataFrame\n",
      "\n",
      "See the caveats in the documentation: https://pandas.pydata.org/pandas-docs/stable/user_guide/indexing.html#returning-a-view-versus-a-copy\n",
      "  X['month'][i] = months[X['month'][i]-1]\n",
      "/Users/zhangaijia/anaconda3/lib/python3.8/site-packages/pandas/core/indexing.py:1732: SettingWithCopyWarning: \n",
      "A value is trying to be set on a copy of a slice from a DataFrame\n",
      "\n",
      "See the caveats in the documentation: https://pandas.pydata.org/pandas-docs/stable/user_guide/indexing.html#returning-a-view-versus-a-copy\n",
      "  self._setitem_single_block(indexer, value, name)\n",
      "/var/folders/n5/gkbdqwls1h17gjm6d68_h8ph0000gn/T/ipykernel_88612/3095439742.py:6: SettingWithCopyWarning: \n",
      "A value is trying to be set on a copy of a slice from a DataFrame\n",
      "\n",
      "See the caveats in the documentation: https://pandas.pydata.org/pandas-docs/stable/user_guide/indexing.html#returning-a-view-versus-a-copy\n",
      "  X['day'][i] = days[X['day'][i]]\n",
      "/var/folders/n5/gkbdqwls1h17gjm6d68_h8ph0000gn/T/ipykernel_88612/3095439742.py:7: SettingWithCopyWarning: \n",
      "A value is trying to be set on a copy of a slice from a DataFrame\n",
      "\n",
      "See the caveats in the documentation: https://pandas.pydata.org/pandas-docs/stable/user_guide/indexing.html#returning-a-view-versus-a-copy\n",
      "  X['EGS'][i]= egs[X['EGS'][i]]\n"
     ]
    }
   ],
   "source": [
    "egs = [\"zero\", \"one\", \"two\"]\n",
    "months = ['Jan', 'Feb', 'Mar', 'Apr', 'May', 'Jun', 'Jul', 'Aug', 'Sep', 'Oct', 'Nov', 'Dec']\n",
    "days = ['Mon', 'Tue', 'Wed', 'Thu', 'Fri']\n",
    "for i in range(len(X)):\n",
    "  X['month'][i] = months[X['month'][i]-1]\n",
    "  X['day'][i] = days[X['day'][i]]\n",
    "  X['EGS'][i]= egs[X['EGS'][i]]"
   ]
  },
  {
   "cell_type": "code",
   "execution_count": 14,
   "metadata": {},
   "outputs": [
    {
     "data": {
      "text/html": [
       "<div>\n",
       "<style scoped>\n",
       "    .dataframe tbody tr th:only-of-type {\n",
       "        vertical-align: middle;\n",
       "    }\n",
       "\n",
       "    .dataframe tbody tr th {\n",
       "        vertical-align: top;\n",
       "    }\n",
       "\n",
       "    .dataframe thead th {\n",
       "        text-align: right;\n",
       "    }\n",
       "</style>\n",
       "<table border=\"1\" class=\"dataframe\">\n",
       "  <thead>\n",
       "    <tr style=\"text-align: right;\">\n",
       "      <th></th>\n",
       "      <th>Close</th>\n",
       "      <th>Volume</th>\n",
       "      <th>OpenInt</th>\n",
       "      <th>EGS</th>\n",
       "      <th>day</th>\n",
       "      <th>year</th>\n",
       "      <th>month</th>\n",
       "      <th>h-c</th>\n",
       "      <th>c-l</th>\n",
       "      <th>c-o</th>\n",
       "      <th>...</th>\n",
       "      <th>lag41</th>\n",
       "      <th>lag42</th>\n",
       "      <th>lag43</th>\n",
       "      <th>lag44</th>\n",
       "      <th>lag45</th>\n",
       "      <th>lag46</th>\n",
       "      <th>lag47</th>\n",
       "      <th>lag48</th>\n",
       "      <th>lag49</th>\n",
       "      <th>lag50</th>\n",
       "    </tr>\n",
       "  </thead>\n",
       "  <tbody>\n",
       "    <tr>\n",
       "      <th>0</th>\n",
       "      <td>0.40097</td>\n",
       "      <td>8296020</td>\n",
       "      <td>0</td>\n",
       "      <td>two</td>\n",
       "      <td>Wed</td>\n",
       "      <td>1980</td>\n",
       "      <td>Oct</td>\n",
       "      <td>0.00817</td>\n",
       "      <td>0.0</td>\n",
       "      <td>0.0</td>\n",
       "      <td>...</td>\n",
       "      <td>0.36091</td>\n",
       "      <td>0.37681</td>\n",
       "      <td>0.37681</td>\n",
       "      <td>0.37681</td>\n",
       "      <td>0.38489</td>\n",
       "      <td>0.38489</td>\n",
       "      <td>0.36091</td>\n",
       "      <td>0.36091</td>\n",
       "      <td>0.35285</td>\n",
       "      <td>0.35285</td>\n",
       "    </tr>\n",
       "    <tr>\n",
       "      <th>1</th>\n",
       "      <td>0.40914</td>\n",
       "      <td>5506736</td>\n",
       "      <td>0</td>\n",
       "      <td>two</td>\n",
       "      <td>Thu</td>\n",
       "      <td>1980</td>\n",
       "      <td>Oct</td>\n",
       "      <td>0.00793</td>\n",
       "      <td>0.0</td>\n",
       "      <td>0.0</td>\n",
       "      <td>...</td>\n",
       "      <td>0.36091</td>\n",
       "      <td>0.36091</td>\n",
       "      <td>0.37681</td>\n",
       "      <td>0.37681</td>\n",
       "      <td>0.37681</td>\n",
       "      <td>0.38489</td>\n",
       "      <td>0.38489</td>\n",
       "      <td>0.36091</td>\n",
       "      <td>0.36091</td>\n",
       "      <td>0.35285</td>\n",
       "    </tr>\n",
       "    <tr>\n",
       "      <th>2</th>\n",
       "      <td>0.40914</td>\n",
       "      <td>7410151</td>\n",
       "      <td>0</td>\n",
       "      <td>two</td>\n",
       "      <td>Fri</td>\n",
       "      <td>1980</td>\n",
       "      <td>Oct</td>\n",
       "      <td>0.00793</td>\n",
       "      <td>0.0</td>\n",
       "      <td>0.0</td>\n",
       "      <td>...</td>\n",
       "      <td>0.36881</td>\n",
       "      <td>0.36091</td>\n",
       "      <td>0.36091</td>\n",
       "      <td>0.37681</td>\n",
       "      <td>0.37681</td>\n",
       "      <td>0.37681</td>\n",
       "      <td>0.38489</td>\n",
       "      <td>0.38489</td>\n",
       "      <td>0.36091</td>\n",
       "      <td>0.36091</td>\n",
       "    </tr>\n",
       "    <tr>\n",
       "      <th>3</th>\n",
       "      <td>0.40914</td>\n",
       "      <td>8715007</td>\n",
       "      <td>0</td>\n",
       "      <td>two</td>\n",
       "      <td>Mon</td>\n",
       "      <td>1980</td>\n",
       "      <td>Oct</td>\n",
       "      <td>0.00000</td>\n",
       "      <td>0.0</td>\n",
       "      <td>0.0</td>\n",
       "      <td>...</td>\n",
       "      <td>0.36881</td>\n",
       "      <td>0.36881</td>\n",
       "      <td>0.36091</td>\n",
       "      <td>0.36091</td>\n",
       "      <td>0.37681</td>\n",
       "      <td>0.37681</td>\n",
       "      <td>0.37681</td>\n",
       "      <td>0.38489</td>\n",
       "      <td>0.38489</td>\n",
       "      <td>0.36091</td>\n",
       "    </tr>\n",
       "    <tr>\n",
       "      <th>4</th>\n",
       "      <td>0.40097</td>\n",
       "      <td>8092510</td>\n",
       "      <td>0</td>\n",
       "      <td>two</td>\n",
       "      <td>Tue</td>\n",
       "      <td>1980</td>\n",
       "      <td>Oct</td>\n",
       "      <td>0.00000</td>\n",
       "      <td>0.0</td>\n",
       "      <td>0.0</td>\n",
       "      <td>...</td>\n",
       "      <td>0.36881</td>\n",
       "      <td>0.36881</td>\n",
       "      <td>0.36881</td>\n",
       "      <td>0.36091</td>\n",
       "      <td>0.36091</td>\n",
       "      <td>0.37681</td>\n",
       "      <td>0.37681</td>\n",
       "      <td>0.37681</td>\n",
       "      <td>0.38489</td>\n",
       "      <td>0.38489</td>\n",
       "    </tr>\n",
       "  </tbody>\n",
       "</table>\n",
       "<p>5 rows × 73 columns</p>\n",
       "</div>"
      ],
      "text/plain": [
       "     Close   Volume  OpenInt  EGS  day  year month      h-c  c-l  c-o  ...  \\\n",
       "0  0.40097  8296020        0  two  Wed  1980   Oct  0.00817  0.0  0.0  ...   \n",
       "1  0.40914  5506736        0  two  Thu  1980   Oct  0.00793  0.0  0.0  ...   \n",
       "2  0.40914  7410151        0  two  Fri  1980   Oct  0.00793  0.0  0.0  ...   \n",
       "3  0.40914  8715007        0  two  Mon  1980   Oct  0.00000  0.0  0.0  ...   \n",
       "4  0.40097  8092510        0  two  Tue  1980   Oct  0.00000  0.0  0.0  ...   \n",
       "\n",
       "     lag41    lag42    lag43    lag44    lag45    lag46    lag47    lag48  \\\n",
       "0  0.36091  0.37681  0.37681  0.37681  0.38489  0.38489  0.36091  0.36091   \n",
       "1  0.36091  0.36091  0.37681  0.37681  0.37681  0.38489  0.38489  0.36091   \n",
       "2  0.36881  0.36091  0.36091  0.37681  0.37681  0.37681  0.38489  0.38489   \n",
       "3  0.36881  0.36881  0.36091  0.36091  0.37681  0.37681  0.37681  0.38489   \n",
       "4  0.36881  0.36881  0.36881  0.36091  0.36091  0.37681  0.37681  0.37681   \n",
       "\n",
       "     lag49    lag50  \n",
       "0  0.35285  0.35285  \n",
       "1  0.36091  0.35285  \n",
       "2  0.36091  0.36091  \n",
       "3  0.38489  0.36091  \n",
       "4  0.38489  0.38489  \n",
       "\n",
       "[5 rows x 73 columns]"
      ]
     },
     "execution_count": 14,
     "metadata": {},
     "output_type": "execute_result"
    }
   ],
   "source": [
    "X.head()"
   ]
  },
  {
   "cell_type": "code",
   "execution_count": 15,
   "metadata": {},
   "outputs": [],
   "source": [
    "X = pd.get_dummies(data=X, drop_first=False)"
   ]
  },
  {
   "cell_type": "code",
   "execution_count": 16,
   "metadata": {},
   "outputs": [
    {
     "data": {
      "text/html": [
       "<div>\n",
       "<style scoped>\n",
       "    .dataframe tbody tr th:only-of-type {\n",
       "        vertical-align: middle;\n",
       "    }\n",
       "\n",
       "    .dataframe tbody tr th {\n",
       "        vertical-align: top;\n",
       "    }\n",
       "\n",
       "    .dataframe thead th {\n",
       "        text-align: right;\n",
       "    }\n",
       "</style>\n",
       "<table border=\"1\" class=\"dataframe\">\n",
       "  <thead>\n",
       "    <tr style=\"text-align: right;\">\n",
       "      <th></th>\n",
       "      <th>Close</th>\n",
       "      <th>Volume</th>\n",
       "      <th>OpenInt</th>\n",
       "      <th>year</th>\n",
       "      <th>h-c</th>\n",
       "      <th>c-l</th>\n",
       "      <th>c-o</th>\n",
       "      <th>ewm10</th>\n",
       "      <th>ewm50</th>\n",
       "      <th>ewm100</th>\n",
       "      <th>...</th>\n",
       "      <th>month_Dec</th>\n",
       "      <th>month_Feb</th>\n",
       "      <th>month_Jan</th>\n",
       "      <th>month_Jul</th>\n",
       "      <th>month_Jun</th>\n",
       "      <th>month_Mar</th>\n",
       "      <th>month_May</th>\n",
       "      <th>month_Nov</th>\n",
       "      <th>month_Oct</th>\n",
       "      <th>month_Sep</th>\n",
       "    </tr>\n",
       "  </thead>\n",
       "  <tbody>\n",
       "    <tr>\n",
       "      <th>0</th>\n",
       "      <td>0.40097</td>\n",
       "      <td>8296020</td>\n",
       "      <td>0</td>\n",
       "      <td>1980</td>\n",
       "      <td>0.00817</td>\n",
       "      <td>0.0</td>\n",
       "      <td>0.0</td>\n",
       "      <td>0.395752</td>\n",
       "      <td>0.372162</td>\n",
       "      <td>0.348589</td>\n",
       "      <td>...</td>\n",
       "      <td>0</td>\n",
       "      <td>0</td>\n",
       "      <td>0</td>\n",
       "      <td>0</td>\n",
       "      <td>0</td>\n",
       "      <td>0</td>\n",
       "      <td>0</td>\n",
       "      <td>0</td>\n",
       "      <td>1</td>\n",
       "      <td>0</td>\n",
       "    </tr>\n",
       "    <tr>\n",
       "      <th>1</th>\n",
       "      <td>0.40914</td>\n",
       "      <td>5506736</td>\n",
       "      <td>0</td>\n",
       "      <td>1980</td>\n",
       "      <td>0.00793</td>\n",
       "      <td>0.0</td>\n",
       "      <td>0.0</td>\n",
       "      <td>0.398186</td>\n",
       "      <td>0.373612</td>\n",
       "      <td>0.349810</td>\n",
       "      <td>...</td>\n",
       "      <td>0</td>\n",
       "      <td>0</td>\n",
       "      <td>0</td>\n",
       "      <td>0</td>\n",
       "      <td>0</td>\n",
       "      <td>0</td>\n",
       "      <td>0</td>\n",
       "      <td>0</td>\n",
       "      <td>1</td>\n",
       "      <td>0</td>\n",
       "    </tr>\n",
       "    <tr>\n",
       "      <th>2</th>\n",
       "      <td>0.40914</td>\n",
       "      <td>7410151</td>\n",
       "      <td>0</td>\n",
       "      <td>1980</td>\n",
       "      <td>0.00793</td>\n",
       "      <td>0.0</td>\n",
       "      <td>0.0</td>\n",
       "      <td>0.400178</td>\n",
       "      <td>0.375006</td>\n",
       "      <td>0.351006</td>\n",
       "      <td>...</td>\n",
       "      <td>0</td>\n",
       "      <td>0</td>\n",
       "      <td>0</td>\n",
       "      <td>0</td>\n",
       "      <td>0</td>\n",
       "      <td>0</td>\n",
       "      <td>0</td>\n",
       "      <td>0</td>\n",
       "      <td>1</td>\n",
       "      <td>0</td>\n",
       "    </tr>\n",
       "    <tr>\n",
       "      <th>3</th>\n",
       "      <td>0.40914</td>\n",
       "      <td>8715007</td>\n",
       "      <td>0</td>\n",
       "      <td>1980</td>\n",
       "      <td>0.00000</td>\n",
       "      <td>0.0</td>\n",
       "      <td>0.0</td>\n",
       "      <td>0.401807</td>\n",
       "      <td>0.376345</td>\n",
       "      <td>0.352177</td>\n",
       "      <td>...</td>\n",
       "      <td>0</td>\n",
       "      <td>0</td>\n",
       "      <td>0</td>\n",
       "      <td>0</td>\n",
       "      <td>0</td>\n",
       "      <td>0</td>\n",
       "      <td>0</td>\n",
       "      <td>0</td>\n",
       "      <td>1</td>\n",
       "      <td>0</td>\n",
       "    </tr>\n",
       "    <tr>\n",
       "      <th>4</th>\n",
       "      <td>0.40097</td>\n",
       "      <td>8092510</td>\n",
       "      <td>0</td>\n",
       "      <td>1980</td>\n",
       "      <td>0.00000</td>\n",
       "      <td>0.0</td>\n",
       "      <td>0.0</td>\n",
       "      <td>0.401655</td>\n",
       "      <td>0.377311</td>\n",
       "      <td>0.353160</td>\n",
       "      <td>...</td>\n",
       "      <td>0</td>\n",
       "      <td>0</td>\n",
       "      <td>0</td>\n",
       "      <td>0</td>\n",
       "      <td>0</td>\n",
       "      <td>0</td>\n",
       "      <td>0</td>\n",
       "      <td>0</td>\n",
       "      <td>1</td>\n",
       "      <td>0</td>\n",
       "    </tr>\n",
       "  </tbody>\n",
       "</table>\n",
       "<p>5 rows × 90 columns</p>\n",
       "</div>"
      ],
      "text/plain": [
       "     Close   Volume  OpenInt  year      h-c  c-l  c-o     ewm10     ewm50  \\\n",
       "0  0.40097  8296020        0  1980  0.00817  0.0  0.0  0.395752  0.372162   \n",
       "1  0.40914  5506736        0  1980  0.00793  0.0  0.0  0.398186  0.373612   \n",
       "2  0.40914  7410151        0  1980  0.00793  0.0  0.0  0.400178  0.375006   \n",
       "3  0.40914  8715007        0  1980  0.00000  0.0  0.0  0.401807  0.376345   \n",
       "4  0.40097  8092510        0  1980  0.00000  0.0  0.0  0.401655  0.377311   \n",
       "\n",
       "     ewm100  ...  month_Dec  month_Feb  month_Jan  month_Jul  month_Jun  \\\n",
       "0  0.348589  ...          0          0          0          0          0   \n",
       "1  0.349810  ...          0          0          0          0          0   \n",
       "2  0.351006  ...          0          0          0          0          0   \n",
       "3  0.352177  ...          0          0          0          0          0   \n",
       "4  0.353160  ...          0          0          0          0          0   \n",
       "\n",
       "   month_Mar  month_May  month_Nov  month_Oct  month_Sep  \n",
       "0          0          0          0          1          0  \n",
       "1          0          0          0          1          0  \n",
       "2          0          0          0          1          0  \n",
       "3          0          0          0          1          0  \n",
       "4          0          0          0          1          0  \n",
       "\n",
       "[5 rows x 90 columns]"
      ]
     },
     "execution_count": 16,
     "metadata": {},
     "output_type": "execute_result"
    }
   ],
   "source": [
    "X.head()"
   ]
  },
  {
   "cell_type": "code",
   "execution_count": 17,
   "metadata": {},
   "outputs": [],
   "source": [
    "X.drop('month_Jan', axis=1, inplace=True)\n",
    "X.drop(\"day_Mon\", axis=1, inplace=True)\n",
    "X.drop(\"EGS_zero\", axis = 1, inplace=True)\n",
    "X.drop(\"OpenInt\", axis = 1, inplace=True)"
   ]
  },
  {
   "cell_type": "code",
   "execution_count": 18,
   "metadata": {},
   "outputs": [
    {
     "data": {
      "text/html": [
       "<div>\n",
       "<style scoped>\n",
       "    .dataframe tbody tr th:only-of-type {\n",
       "        vertical-align: middle;\n",
       "    }\n",
       "\n",
       "    .dataframe tbody tr th {\n",
       "        vertical-align: top;\n",
       "    }\n",
       "\n",
       "    .dataframe thead th {\n",
       "        text-align: right;\n",
       "    }\n",
       "</style>\n",
       "<table border=\"1\" class=\"dataframe\">\n",
       "  <thead>\n",
       "    <tr style=\"text-align: right;\">\n",
       "      <th></th>\n",
       "      <th>Close</th>\n",
       "      <th>Volume</th>\n",
       "      <th>year</th>\n",
       "      <th>h-c</th>\n",
       "      <th>c-l</th>\n",
       "      <th>c-o</th>\n",
       "      <th>ewm10</th>\n",
       "      <th>ewm50</th>\n",
       "      <th>ewm100</th>\n",
       "      <th>ewm200</th>\n",
       "      <th>...</th>\n",
       "      <th>month_Aug</th>\n",
       "      <th>month_Dec</th>\n",
       "      <th>month_Feb</th>\n",
       "      <th>month_Jul</th>\n",
       "      <th>month_Jun</th>\n",
       "      <th>month_Mar</th>\n",
       "      <th>month_May</th>\n",
       "      <th>month_Nov</th>\n",
       "      <th>month_Oct</th>\n",
       "      <th>month_Sep</th>\n",
       "    </tr>\n",
       "  </thead>\n",
       "  <tbody>\n",
       "    <tr>\n",
       "      <th>0</th>\n",
       "      <td>0.40097</td>\n",
       "      <td>8296020</td>\n",
       "      <td>1980</td>\n",
       "      <td>0.00817</td>\n",
       "      <td>0.0</td>\n",
       "      <td>0.0</td>\n",
       "      <td>0.395752</td>\n",
       "      <td>0.372162</td>\n",
       "      <td>0.348589</td>\n",
       "      <td>0.327908</td>\n",
       "      <td>...</td>\n",
       "      <td>0</td>\n",
       "      <td>0</td>\n",
       "      <td>0</td>\n",
       "      <td>0</td>\n",
       "      <td>0</td>\n",
       "      <td>0</td>\n",
       "      <td>0</td>\n",
       "      <td>0</td>\n",
       "      <td>1</td>\n",
       "      <td>0</td>\n",
       "    </tr>\n",
       "    <tr>\n",
       "      <th>1</th>\n",
       "      <td>0.40914</td>\n",
       "      <td>5506736</td>\n",
       "      <td>1980</td>\n",
       "      <td>0.00793</td>\n",
       "      <td>0.0</td>\n",
       "      <td>0.0</td>\n",
       "      <td>0.398186</td>\n",
       "      <td>0.373612</td>\n",
       "      <td>0.349810</td>\n",
       "      <td>0.328841</td>\n",
       "      <td>...</td>\n",
       "      <td>0</td>\n",
       "      <td>0</td>\n",
       "      <td>0</td>\n",
       "      <td>0</td>\n",
       "      <td>0</td>\n",
       "      <td>0</td>\n",
       "      <td>0</td>\n",
       "      <td>0</td>\n",
       "      <td>1</td>\n",
       "      <td>0</td>\n",
       "    </tr>\n",
       "    <tr>\n",
       "      <th>2</th>\n",
       "      <td>0.40914</td>\n",
       "      <td>7410151</td>\n",
       "      <td>1980</td>\n",
       "      <td>0.00793</td>\n",
       "      <td>0.0</td>\n",
       "      <td>0.0</td>\n",
       "      <td>0.400178</td>\n",
       "      <td>0.375006</td>\n",
       "      <td>0.351006</td>\n",
       "      <td>0.329762</td>\n",
       "      <td>...</td>\n",
       "      <td>0</td>\n",
       "      <td>0</td>\n",
       "      <td>0</td>\n",
       "      <td>0</td>\n",
       "      <td>0</td>\n",
       "      <td>0</td>\n",
       "      <td>0</td>\n",
       "      <td>0</td>\n",
       "      <td>1</td>\n",
       "      <td>0</td>\n",
       "    </tr>\n",
       "    <tr>\n",
       "      <th>3</th>\n",
       "      <td>0.40914</td>\n",
       "      <td>8715007</td>\n",
       "      <td>1980</td>\n",
       "      <td>0.00000</td>\n",
       "      <td>0.0</td>\n",
       "      <td>0.0</td>\n",
       "      <td>0.401807</td>\n",
       "      <td>0.376345</td>\n",
       "      <td>0.352177</td>\n",
       "      <td>0.330672</td>\n",
       "      <td>...</td>\n",
       "      <td>0</td>\n",
       "      <td>0</td>\n",
       "      <td>0</td>\n",
       "      <td>0</td>\n",
       "      <td>0</td>\n",
       "      <td>0</td>\n",
       "      <td>0</td>\n",
       "      <td>0</td>\n",
       "      <td>1</td>\n",
       "      <td>0</td>\n",
       "    </tr>\n",
       "    <tr>\n",
       "      <th>4</th>\n",
       "      <td>0.40097</td>\n",
       "      <td>8092510</td>\n",
       "      <td>1980</td>\n",
       "      <td>0.00000</td>\n",
       "      <td>0.0</td>\n",
       "      <td>0.0</td>\n",
       "      <td>0.401655</td>\n",
       "      <td>0.377311</td>\n",
       "      <td>0.353160</td>\n",
       "      <td>0.331476</td>\n",
       "      <td>...</td>\n",
       "      <td>0</td>\n",
       "      <td>0</td>\n",
       "      <td>0</td>\n",
       "      <td>0</td>\n",
       "      <td>0</td>\n",
       "      <td>0</td>\n",
       "      <td>0</td>\n",
       "      <td>0</td>\n",
       "      <td>1</td>\n",
       "      <td>0</td>\n",
       "    </tr>\n",
       "  </tbody>\n",
       "</table>\n",
       "<p>5 rows × 86 columns</p>\n",
       "</div>"
      ],
      "text/plain": [
       "     Close   Volume  year      h-c  c-l  c-o     ewm10     ewm50    ewm100  \\\n",
       "0  0.40097  8296020  1980  0.00817  0.0  0.0  0.395752  0.372162  0.348589   \n",
       "1  0.40914  5506736  1980  0.00793  0.0  0.0  0.398186  0.373612  0.349810   \n",
       "2  0.40914  7410151  1980  0.00793  0.0  0.0  0.400178  0.375006  0.351006   \n",
       "3  0.40914  8715007  1980  0.00000  0.0  0.0  0.401807  0.376345  0.352177   \n",
       "4  0.40097  8092510  1980  0.00000  0.0  0.0  0.401655  0.377311  0.353160   \n",
       "\n",
       "     ewm200  ...  month_Aug  month_Dec  month_Feb  month_Jul  month_Jun  \\\n",
       "0  0.327908  ...          0          0          0          0          0   \n",
       "1  0.328841  ...          0          0          0          0          0   \n",
       "2  0.329762  ...          0          0          0          0          0   \n",
       "3  0.330672  ...          0          0          0          0          0   \n",
       "4  0.331476  ...          0          0          0          0          0   \n",
       "\n",
       "   month_Mar  month_May  month_Nov  month_Oct  month_Sep  \n",
       "0          0          0          0          1          0  \n",
       "1          0          0          0          1          0  \n",
       "2          0          0          0          1          0  \n",
       "3          0          0          0          1          0  \n",
       "4          0          0          0          1          0  \n",
       "\n",
       "[5 rows x 86 columns]"
      ]
     },
     "execution_count": 18,
     "metadata": {},
     "output_type": "execute_result"
    }
   ],
   "source": [
    "X.head()"
   ]
  },
  {
   "cell_type": "code",
   "execution_count": 19,
   "metadata": {},
   "outputs": [],
   "source": [
    "Y = data[\"Tomorrow_Close\"]"
   ]
  },
  {
   "cell_type": "code",
   "execution_count": 20,
   "metadata": {},
   "outputs": [],
   "source": [
    "X_test = X.tail(30000)\n",
    "Y_test = Y.tail(30000)"
   ]
  },
  {
   "cell_type": "code",
   "execution_count": 21,
   "metadata": {},
   "outputs": [
    {
     "data": {
      "text/html": [
       "<div>\n",
       "<style scoped>\n",
       "    .dataframe tbody tr th:only-of-type {\n",
       "        vertical-align: middle;\n",
       "    }\n",
       "\n",
       "    .dataframe tbody tr th {\n",
       "        vertical-align: top;\n",
       "    }\n",
       "\n",
       "    .dataframe thead th {\n",
       "        text-align: right;\n",
       "    }\n",
       "</style>\n",
       "<table border=\"1\" class=\"dataframe\">\n",
       "  <thead>\n",
       "    <tr style=\"text-align: right;\">\n",
       "      <th></th>\n",
       "      <th>Close</th>\n",
       "      <th>Volume</th>\n",
       "      <th>year</th>\n",
       "      <th>h-c</th>\n",
       "      <th>c-l</th>\n",
       "      <th>c-o</th>\n",
       "      <th>ewm10</th>\n",
       "      <th>ewm50</th>\n",
       "      <th>ewm100</th>\n",
       "      <th>ewm200</th>\n",
       "      <th>...</th>\n",
       "      <th>month_Aug</th>\n",
       "      <th>month_Dec</th>\n",
       "      <th>month_Feb</th>\n",
       "      <th>month_Jul</th>\n",
       "      <th>month_Jun</th>\n",
       "      <th>month_Mar</th>\n",
       "      <th>month_May</th>\n",
       "      <th>month_Nov</th>\n",
       "      <th>month_Oct</th>\n",
       "      <th>month_Sep</th>\n",
       "    </tr>\n",
       "  </thead>\n",
       "  <tbody>\n",
       "    <tr>\n",
       "      <th>131330</th>\n",
       "      <td>81.190</td>\n",
       "      <td>382287</td>\n",
       "      <td>2014</td>\n",
       "      <td>0.752</td>\n",
       "      <td>0.490</td>\n",
       "      <td>-0.260</td>\n",
       "      <td>82.600160</td>\n",
       "      <td>82.833075</td>\n",
       "      <td>83.257915</td>\n",
       "      <td>81.987836</td>\n",
       "      <td>...</td>\n",
       "      <td>0</td>\n",
       "      <td>0</td>\n",
       "      <td>0</td>\n",
       "      <td>0</td>\n",
       "      <td>0</td>\n",
       "      <td>1</td>\n",
       "      <td>0</td>\n",
       "      <td>0</td>\n",
       "      <td>0</td>\n",
       "      <td>0</td>\n",
       "    </tr>\n",
       "    <tr>\n",
       "      <th>131331</th>\n",
       "      <td>59.763</td>\n",
       "      <td>2494793</td>\n",
       "      <td>2014</td>\n",
       "      <td>0.117</td>\n",
       "      <td>2.582</td>\n",
       "      <td>1.333</td>\n",
       "      <td>58.851388</td>\n",
       "      <td>54.132910</td>\n",
       "      <td>49.919022</td>\n",
       "      <td>44.720392</td>\n",
       "      <td>...</td>\n",
       "      <td>0</td>\n",
       "      <td>0</td>\n",
       "      <td>0</td>\n",
       "      <td>0</td>\n",
       "      <td>0</td>\n",
       "      <td>1</td>\n",
       "      <td>0</td>\n",
       "      <td>0</td>\n",
       "      <td>0</td>\n",
       "      <td>0</td>\n",
       "    </tr>\n",
       "    <tr>\n",
       "      <th>131332</th>\n",
       "      <td>174.180</td>\n",
       "      <td>4052786</td>\n",
       "      <td>2014</td>\n",
       "      <td>1.270</td>\n",
       "      <td>4.920</td>\n",
       "      <td>2.420</td>\n",
       "      <td>175.621760</td>\n",
       "      <td>169.917644</td>\n",
       "      <td>163.563615</td>\n",
       "      <td>149.881461</td>\n",
       "      <td>...</td>\n",
       "      <td>0</td>\n",
       "      <td>0</td>\n",
       "      <td>0</td>\n",
       "      <td>0</td>\n",
       "      <td>0</td>\n",
       "      <td>1</td>\n",
       "      <td>0</td>\n",
       "      <td>0</td>\n",
       "      <td>0</td>\n",
       "      <td>0</td>\n",
       "    </tr>\n",
       "    <tr>\n",
       "      <th>131333</th>\n",
       "      <td>15.520</td>\n",
       "      <td>2540762</td>\n",
       "      <td>2014</td>\n",
       "      <td>0.080</td>\n",
       "      <td>0.165</td>\n",
       "      <td>-0.010</td>\n",
       "      <td>15.531756</td>\n",
       "      <td>14.705522</td>\n",
       "      <td>14.329646</td>\n",
       "      <td>14.059103</td>\n",
       "      <td>...</td>\n",
       "      <td>0</td>\n",
       "      <td>0</td>\n",
       "      <td>0</td>\n",
       "      <td>0</td>\n",
       "      <td>0</td>\n",
       "      <td>1</td>\n",
       "      <td>0</td>\n",
       "      <td>0</td>\n",
       "      <td>0</td>\n",
       "      <td>0</td>\n",
       "    </tr>\n",
       "    <tr>\n",
       "      <th>131334</th>\n",
       "      <td>51.360</td>\n",
       "      <td>4430526</td>\n",
       "      <td>2014</td>\n",
       "      <td>0.438</td>\n",
       "      <td>1.074</td>\n",
       "      <td>-0.379</td>\n",
       "      <td>52.020034</td>\n",
       "      <td>49.865588</td>\n",
       "      <td>47.616333</td>\n",
       "      <td>44.114624</td>\n",
       "      <td>...</td>\n",
       "      <td>0</td>\n",
       "      <td>0</td>\n",
       "      <td>0</td>\n",
       "      <td>0</td>\n",
       "      <td>0</td>\n",
       "      <td>1</td>\n",
       "      <td>0</td>\n",
       "      <td>0</td>\n",
       "      <td>0</td>\n",
       "      <td>0</td>\n",
       "    </tr>\n",
       "    <tr>\n",
       "      <th>...</th>\n",
       "      <td>...</td>\n",
       "      <td>...</td>\n",
       "      <td>...</td>\n",
       "      <td>...</td>\n",
       "      <td>...</td>\n",
       "      <td>...</td>\n",
       "      <td>...</td>\n",
       "      <td>...</td>\n",
       "      <td>...</td>\n",
       "      <td>...</td>\n",
       "      <td>...</td>\n",
       "      <td>...</td>\n",
       "      <td>...</td>\n",
       "      <td>...</td>\n",
       "      <td>...</td>\n",
       "      <td>...</td>\n",
       "      <td>...</td>\n",
       "      <td>...</td>\n",
       "      <td>...</td>\n",
       "      <td>...</td>\n",
       "      <td>...</td>\n",
       "    </tr>\n",
       "    <tr>\n",
       "      <th>161325</th>\n",
       "      <td>111.120</td>\n",
       "      <td>2161752</td>\n",
       "      <td>2017</td>\n",
       "      <td>1.480</td>\n",
       "      <td>1.590</td>\n",
       "      <td>-0.590</td>\n",
       "      <td>111.356977</td>\n",
       "      <td>106.983353</td>\n",
       "      <td>104.741142</td>\n",
       "      <td>99.776384</td>\n",
       "      <td>...</td>\n",
       "      <td>0</td>\n",
       "      <td>0</td>\n",
       "      <td>0</td>\n",
       "      <td>0</td>\n",
       "      <td>0</td>\n",
       "      <td>0</td>\n",
       "      <td>0</td>\n",
       "      <td>1</td>\n",
       "      <td>0</td>\n",
       "      <td>0</td>\n",
       "    </tr>\n",
       "    <tr>\n",
       "      <th>161326</th>\n",
       "      <td>52.330</td>\n",
       "      <td>1023885</td>\n",
       "      <td>2017</td>\n",
       "      <td>0.130</td>\n",
       "      <td>1.050</td>\n",
       "      <td>0.050</td>\n",
       "      <td>50.402332</td>\n",
       "      <td>42.837982</td>\n",
       "      <td>39.463636</td>\n",
       "      <td>36.153968</td>\n",
       "      <td>...</td>\n",
       "      <td>0</td>\n",
       "      <td>0</td>\n",
       "      <td>0</td>\n",
       "      <td>0</td>\n",
       "      <td>0</td>\n",
       "      <td>0</td>\n",
       "      <td>0</td>\n",
       "      <td>1</td>\n",
       "      <td>0</td>\n",
       "      <td>0</td>\n",
       "    </tr>\n",
       "    <tr>\n",
       "      <th>161327</th>\n",
       "      <td>97.050</td>\n",
       "      <td>4239733</td>\n",
       "      <td>2017</td>\n",
       "      <td>0.980</td>\n",
       "      <td>1.420</td>\n",
       "      <td>-0.550</td>\n",
       "      <td>97.153276</td>\n",
       "      <td>91.313149</td>\n",
       "      <td>87.082707</td>\n",
       "      <td>82.025967</td>\n",
       "      <td>...</td>\n",
       "      <td>0</td>\n",
       "      <td>0</td>\n",
       "      <td>0</td>\n",
       "      <td>0</td>\n",
       "      <td>0</td>\n",
       "      <td>0</td>\n",
       "      <td>0</td>\n",
       "      <td>1</td>\n",
       "      <td>0</td>\n",
       "      <td>0</td>\n",
       "    </tr>\n",
       "    <tr>\n",
       "      <th>161328</th>\n",
       "      <td>109.420</td>\n",
       "      <td>497915</td>\n",
       "      <td>2017</td>\n",
       "      <td>0.200</td>\n",
       "      <td>0.960</td>\n",
       "      <td>-0.040</td>\n",
       "      <td>109.108105</td>\n",
       "      <td>106.525932</td>\n",
       "      <td>102.705838</td>\n",
       "      <td>96.958312</td>\n",
       "      <td>...</td>\n",
       "      <td>0</td>\n",
       "      <td>0</td>\n",
       "      <td>0</td>\n",
       "      <td>0</td>\n",
       "      <td>0</td>\n",
       "      <td>0</td>\n",
       "      <td>0</td>\n",
       "      <td>1</td>\n",
       "      <td>0</td>\n",
       "      <td>0</td>\n",
       "    </tr>\n",
       "    <tr>\n",
       "      <th>161329</th>\n",
       "      <td>106.170</td>\n",
       "      <td>2128347</td>\n",
       "      <td>2017</td>\n",
       "      <td>3.190</td>\n",
       "      <td>1.670</td>\n",
       "      <td>-2.250</td>\n",
       "      <td>108.702774</td>\n",
       "      <td>106.756415</td>\n",
       "      <td>103.780160</td>\n",
       "      <td>98.232219</td>\n",
       "      <td>...</td>\n",
       "      <td>0</td>\n",
       "      <td>0</td>\n",
       "      <td>0</td>\n",
       "      <td>0</td>\n",
       "      <td>0</td>\n",
       "      <td>0</td>\n",
       "      <td>0</td>\n",
       "      <td>1</td>\n",
       "      <td>0</td>\n",
       "      <td>0</td>\n",
       "    </tr>\n",
       "  </tbody>\n",
       "</table>\n",
       "<p>30000 rows × 86 columns</p>\n",
       "</div>"
      ],
      "text/plain": [
       "          Close   Volume  year    h-c    c-l    c-o       ewm10       ewm50  \\\n",
       "131330   81.190   382287  2014  0.752  0.490 -0.260   82.600160   82.833075   \n",
       "131331   59.763  2494793  2014  0.117  2.582  1.333   58.851388   54.132910   \n",
       "131332  174.180  4052786  2014  1.270  4.920  2.420  175.621760  169.917644   \n",
       "131333   15.520  2540762  2014  0.080  0.165 -0.010   15.531756   14.705522   \n",
       "131334   51.360  4430526  2014  0.438  1.074 -0.379   52.020034   49.865588   \n",
       "...         ...      ...   ...    ...    ...    ...         ...         ...   \n",
       "161325  111.120  2161752  2017  1.480  1.590 -0.590  111.356977  106.983353   \n",
       "161326   52.330  1023885  2017  0.130  1.050  0.050   50.402332   42.837982   \n",
       "161327   97.050  4239733  2017  0.980  1.420 -0.550   97.153276   91.313149   \n",
       "161328  109.420   497915  2017  0.200  0.960 -0.040  109.108105  106.525932   \n",
       "161329  106.170  2128347  2017  3.190  1.670 -2.250  108.702774  106.756415   \n",
       "\n",
       "            ewm100      ewm200  ...  month_Aug  month_Dec  month_Feb  \\\n",
       "131330   83.257915   81.987836  ...          0          0          0   \n",
       "131331   49.919022   44.720392  ...          0          0          0   \n",
       "131332  163.563615  149.881461  ...          0          0          0   \n",
       "131333   14.329646   14.059103  ...          0          0          0   \n",
       "131334   47.616333   44.114624  ...          0          0          0   \n",
       "...            ...         ...  ...        ...        ...        ...   \n",
       "161325  104.741142   99.776384  ...          0          0          0   \n",
       "161326   39.463636   36.153968  ...          0          0          0   \n",
       "161327   87.082707   82.025967  ...          0          0          0   \n",
       "161328  102.705838   96.958312  ...          0          0          0   \n",
       "161329  103.780160   98.232219  ...          0          0          0   \n",
       "\n",
       "        month_Jul  month_Jun  month_Mar  month_May  month_Nov  month_Oct  \\\n",
       "131330          0          0          1          0          0          0   \n",
       "131331          0          0          1          0          0          0   \n",
       "131332          0          0          1          0          0          0   \n",
       "131333          0          0          1          0          0          0   \n",
       "131334          0          0          1          0          0          0   \n",
       "...           ...        ...        ...        ...        ...        ...   \n",
       "161325          0          0          0          0          1          0   \n",
       "161326          0          0          0          0          1          0   \n",
       "161327          0          0          0          0          1          0   \n",
       "161328          0          0          0          0          1          0   \n",
       "161329          0          0          0          0          1          0   \n",
       "\n",
       "        month_Sep  \n",
       "131330          0  \n",
       "131331          0  \n",
       "131332          0  \n",
       "131333          0  \n",
       "131334          0  \n",
       "...           ...  \n",
       "161325          0  \n",
       "161326          0  \n",
       "161327          0  \n",
       "161328          0  \n",
       "161329          0  \n",
       "\n",
       "[30000 rows x 86 columns]"
      ]
     },
     "execution_count": 21,
     "metadata": {},
     "output_type": "execute_result"
    }
   ],
   "source": [
    "X_test"
   ]
  },
  {
   "cell_type": "code",
   "execution_count": 22,
   "metadata": {},
   "outputs": [],
   "source": [
    "X_train = X[:131330]\n",
    "Y_train = Y[:131330]"
   ]
  },
  {
   "cell_type": "code",
   "execution_count": 23,
   "metadata": {},
   "outputs": [
    {
     "data": {
      "text/html": [
       "<div>\n",
       "<style scoped>\n",
       "    .dataframe tbody tr th:only-of-type {\n",
       "        vertical-align: middle;\n",
       "    }\n",
       "\n",
       "    .dataframe tbody tr th {\n",
       "        vertical-align: top;\n",
       "    }\n",
       "\n",
       "    .dataframe thead th {\n",
       "        text-align: right;\n",
       "    }\n",
       "</style>\n",
       "<table border=\"1\" class=\"dataframe\">\n",
       "  <thead>\n",
       "    <tr style=\"text-align: right;\">\n",
       "      <th></th>\n",
       "      <th>Close</th>\n",
       "      <th>Volume</th>\n",
       "      <th>year</th>\n",
       "      <th>h-c</th>\n",
       "      <th>c-l</th>\n",
       "      <th>c-o</th>\n",
       "      <th>ewm10</th>\n",
       "      <th>ewm50</th>\n",
       "      <th>ewm100</th>\n",
       "      <th>ewm200</th>\n",
       "      <th>...</th>\n",
       "      <th>month_Aug</th>\n",
       "      <th>month_Dec</th>\n",
       "      <th>month_Feb</th>\n",
       "      <th>month_Jul</th>\n",
       "      <th>month_Jun</th>\n",
       "      <th>month_Mar</th>\n",
       "      <th>month_May</th>\n",
       "      <th>month_Nov</th>\n",
       "      <th>month_Oct</th>\n",
       "      <th>month_Sep</th>\n",
       "    </tr>\n",
       "  </thead>\n",
       "  <tbody>\n",
       "    <tr>\n",
       "      <th>0</th>\n",
       "      <td>0.40097</td>\n",
       "      <td>8296020</td>\n",
       "      <td>1980</td>\n",
       "      <td>0.00817</td>\n",
       "      <td>0.000</td>\n",
       "      <td>0.000</td>\n",
       "      <td>0.395752</td>\n",
       "      <td>0.372162</td>\n",
       "      <td>0.348589</td>\n",
       "      <td>0.327908</td>\n",
       "      <td>...</td>\n",
       "      <td>0</td>\n",
       "      <td>0</td>\n",
       "      <td>0</td>\n",
       "      <td>0</td>\n",
       "      <td>0</td>\n",
       "      <td>0</td>\n",
       "      <td>0</td>\n",
       "      <td>0</td>\n",
       "      <td>1</td>\n",
       "      <td>0</td>\n",
       "    </tr>\n",
       "    <tr>\n",
       "      <th>1</th>\n",
       "      <td>0.40914</td>\n",
       "      <td>5506736</td>\n",
       "      <td>1980</td>\n",
       "      <td>0.00793</td>\n",
       "      <td>0.000</td>\n",
       "      <td>0.000</td>\n",
       "      <td>0.398186</td>\n",
       "      <td>0.373612</td>\n",
       "      <td>0.349810</td>\n",
       "      <td>0.328841</td>\n",
       "      <td>...</td>\n",
       "      <td>0</td>\n",
       "      <td>0</td>\n",
       "      <td>0</td>\n",
       "      <td>0</td>\n",
       "      <td>0</td>\n",
       "      <td>0</td>\n",
       "      <td>0</td>\n",
       "      <td>0</td>\n",
       "      <td>1</td>\n",
       "      <td>0</td>\n",
       "    </tr>\n",
       "    <tr>\n",
       "      <th>2</th>\n",
       "      <td>0.40914</td>\n",
       "      <td>7410151</td>\n",
       "      <td>1980</td>\n",
       "      <td>0.00793</td>\n",
       "      <td>0.000</td>\n",
       "      <td>0.000</td>\n",
       "      <td>0.400178</td>\n",
       "      <td>0.375006</td>\n",
       "      <td>0.351006</td>\n",
       "      <td>0.329762</td>\n",
       "      <td>...</td>\n",
       "      <td>0</td>\n",
       "      <td>0</td>\n",
       "      <td>0</td>\n",
       "      <td>0</td>\n",
       "      <td>0</td>\n",
       "      <td>0</td>\n",
       "      <td>0</td>\n",
       "      <td>0</td>\n",
       "      <td>1</td>\n",
       "      <td>0</td>\n",
       "    </tr>\n",
       "    <tr>\n",
       "      <th>3</th>\n",
       "      <td>0.40914</td>\n",
       "      <td>8715007</td>\n",
       "      <td>1980</td>\n",
       "      <td>0.00000</td>\n",
       "      <td>0.000</td>\n",
       "      <td>0.000</td>\n",
       "      <td>0.401807</td>\n",
       "      <td>0.376345</td>\n",
       "      <td>0.352177</td>\n",
       "      <td>0.330672</td>\n",
       "      <td>...</td>\n",
       "      <td>0</td>\n",
       "      <td>0</td>\n",
       "      <td>0</td>\n",
       "      <td>0</td>\n",
       "      <td>0</td>\n",
       "      <td>0</td>\n",
       "      <td>0</td>\n",
       "      <td>0</td>\n",
       "      <td>1</td>\n",
       "      <td>0</td>\n",
       "    </tr>\n",
       "    <tr>\n",
       "      <th>4</th>\n",
       "      <td>0.40097</td>\n",
       "      <td>8092510</td>\n",
       "      <td>1980</td>\n",
       "      <td>0.00000</td>\n",
       "      <td>0.000</td>\n",
       "      <td>0.000</td>\n",
       "      <td>0.401655</td>\n",
       "      <td>0.377311</td>\n",
       "      <td>0.353160</td>\n",
       "      <td>0.331476</td>\n",
       "      <td>...</td>\n",
       "      <td>0</td>\n",
       "      <td>0</td>\n",
       "      <td>0</td>\n",
       "      <td>0</td>\n",
       "      <td>0</td>\n",
       "      <td>0</td>\n",
       "      <td>0</td>\n",
       "      <td>0</td>\n",
       "      <td>1</td>\n",
       "      <td>0</td>\n",
       "    </tr>\n",
       "    <tr>\n",
       "      <th>...</th>\n",
       "      <td>...</td>\n",
       "      <td>...</td>\n",
       "      <td>...</td>\n",
       "      <td>...</td>\n",
       "      <td>...</td>\n",
       "      <td>...</td>\n",
       "      <td>...</td>\n",
       "      <td>...</td>\n",
       "      <td>...</td>\n",
       "      <td>...</td>\n",
       "      <td>...</td>\n",
       "      <td>...</td>\n",
       "      <td>...</td>\n",
       "      <td>...</td>\n",
       "      <td>...</td>\n",
       "      <td>...</td>\n",
       "      <td>...</td>\n",
       "      <td>...</td>\n",
       "      <td>...</td>\n",
       "      <td>...</td>\n",
       "      <td>...</td>\n",
       "    </tr>\n",
       "    <tr>\n",
       "      <th>131325</th>\n",
       "      <td>68.06000</td>\n",
       "      <td>2433603</td>\n",
       "      <td>2014</td>\n",
       "      <td>0.04000</td>\n",
       "      <td>1.310</td>\n",
       "      <td>1.000</td>\n",
       "      <td>68.122016</td>\n",
       "      <td>64.106186</td>\n",
       "      <td>60.287052</td>\n",
       "      <td>54.950559</td>\n",
       "      <td>...</td>\n",
       "      <td>0</td>\n",
       "      <td>0</td>\n",
       "      <td>0</td>\n",
       "      <td>0</td>\n",
       "      <td>0</td>\n",
       "      <td>1</td>\n",
       "      <td>0</td>\n",
       "      <td>0</td>\n",
       "      <td>0</td>\n",
       "      <td>0</td>\n",
       "    </tr>\n",
       "    <tr>\n",
       "      <th>131326</th>\n",
       "      <td>47.15900</td>\n",
       "      <td>1635168</td>\n",
       "      <td>2014</td>\n",
       "      <td>0.00000</td>\n",
       "      <td>0.549</td>\n",
       "      <td>0.500</td>\n",
       "      <td>46.818284</td>\n",
       "      <td>45.555591</td>\n",
       "      <td>44.780004</td>\n",
       "      <td>43.371396</td>\n",
       "      <td>...</td>\n",
       "      <td>0</td>\n",
       "      <td>0</td>\n",
       "      <td>0</td>\n",
       "      <td>0</td>\n",
       "      <td>0</td>\n",
       "      <td>1</td>\n",
       "      <td>0</td>\n",
       "      <td>0</td>\n",
       "      <td>0</td>\n",
       "      <td>0</td>\n",
       "    </tr>\n",
       "    <tr>\n",
       "      <th>131327</th>\n",
       "      <td>52.34000</td>\n",
       "      <td>1982479</td>\n",
       "      <td>2014</td>\n",
       "      <td>0.27000</td>\n",
       "      <td>0.710</td>\n",
       "      <td>-0.250</td>\n",
       "      <td>53.104171</td>\n",
       "      <td>51.706788</td>\n",
       "      <td>48.835162</td>\n",
       "      <td>44.983838</td>\n",
       "      <td>...</td>\n",
       "      <td>0</td>\n",
       "      <td>0</td>\n",
       "      <td>0</td>\n",
       "      <td>0</td>\n",
       "      <td>0</td>\n",
       "      <td>1</td>\n",
       "      <td>0</td>\n",
       "      <td>0</td>\n",
       "      <td>0</td>\n",
       "      <td>0</td>\n",
       "    </tr>\n",
       "    <tr>\n",
       "      <th>131328</th>\n",
       "      <td>18.40200</td>\n",
       "      <td>10802911</td>\n",
       "      <td>2014</td>\n",
       "      <td>0.01000</td>\n",
       "      <td>0.554</td>\n",
       "      <td>0.387</td>\n",
       "      <td>18.112920</td>\n",
       "      <td>17.149781</td>\n",
       "      <td>16.587655</td>\n",
       "      <td>15.638892</td>\n",
       "      <td>...</td>\n",
       "      <td>0</td>\n",
       "      <td>0</td>\n",
       "      <td>0</td>\n",
       "      <td>0</td>\n",
       "      <td>0</td>\n",
       "      <td>1</td>\n",
       "      <td>0</td>\n",
       "      <td>0</td>\n",
       "      <td>0</td>\n",
       "      <td>0</td>\n",
       "    </tr>\n",
       "    <tr>\n",
       "      <th>131329</th>\n",
       "      <td>3.91000</td>\n",
       "      <td>14745331</td>\n",
       "      <td>2014</td>\n",
       "      <td>0.02000</td>\n",
       "      <td>0.060</td>\n",
       "      <td>0.050</td>\n",
       "      <td>3.798153</td>\n",
       "      <td>3.723068</td>\n",
       "      <td>3.700373</td>\n",
       "      <td>3.665318</td>\n",
       "      <td>...</td>\n",
       "      <td>0</td>\n",
       "      <td>0</td>\n",
       "      <td>0</td>\n",
       "      <td>0</td>\n",
       "      <td>0</td>\n",
       "      <td>1</td>\n",
       "      <td>0</td>\n",
       "      <td>0</td>\n",
       "      <td>0</td>\n",
       "      <td>0</td>\n",
       "    </tr>\n",
       "  </tbody>\n",
       "</table>\n",
       "<p>131330 rows × 86 columns</p>\n",
       "</div>"
      ],
      "text/plain": [
       "           Close    Volume  year      h-c    c-l    c-o      ewm10      ewm50  \\\n",
       "0        0.40097   8296020  1980  0.00817  0.000  0.000   0.395752   0.372162   \n",
       "1        0.40914   5506736  1980  0.00793  0.000  0.000   0.398186   0.373612   \n",
       "2        0.40914   7410151  1980  0.00793  0.000  0.000   0.400178   0.375006   \n",
       "3        0.40914   8715007  1980  0.00000  0.000  0.000   0.401807   0.376345   \n",
       "4        0.40097   8092510  1980  0.00000  0.000  0.000   0.401655   0.377311   \n",
       "...          ...       ...   ...      ...    ...    ...        ...        ...   \n",
       "131325  68.06000   2433603  2014  0.04000  1.310  1.000  68.122016  64.106186   \n",
       "131326  47.15900   1635168  2014  0.00000  0.549  0.500  46.818284  45.555591   \n",
       "131327  52.34000   1982479  2014  0.27000  0.710 -0.250  53.104171  51.706788   \n",
       "131328  18.40200  10802911  2014  0.01000  0.554  0.387  18.112920  17.149781   \n",
       "131329   3.91000  14745331  2014  0.02000  0.060  0.050   3.798153   3.723068   \n",
       "\n",
       "           ewm100     ewm200  ...  month_Aug  month_Dec  month_Feb  month_Jul  \\\n",
       "0        0.348589   0.327908  ...          0          0          0          0   \n",
       "1        0.349810   0.328841  ...          0          0          0          0   \n",
       "2        0.351006   0.329762  ...          0          0          0          0   \n",
       "3        0.352177   0.330672  ...          0          0          0          0   \n",
       "4        0.353160   0.331476  ...          0          0          0          0   \n",
       "...           ...        ...  ...        ...        ...        ...        ...   \n",
       "131325  60.287052  54.950559  ...          0          0          0          0   \n",
       "131326  44.780004  43.371396  ...          0          0          0          0   \n",
       "131327  48.835162  44.983838  ...          0          0          0          0   \n",
       "131328  16.587655  15.638892  ...          0          0          0          0   \n",
       "131329   3.700373   3.665318  ...          0          0          0          0   \n",
       "\n",
       "        month_Jun  month_Mar  month_May  month_Nov  month_Oct  month_Sep  \n",
       "0               0          0          0          0          1          0  \n",
       "1               0          0          0          0          1          0  \n",
       "2               0          0          0          0          1          0  \n",
       "3               0          0          0          0          1          0  \n",
       "4               0          0          0          0          1          0  \n",
       "...           ...        ...        ...        ...        ...        ...  \n",
       "131325          0          1          0          0          0          0  \n",
       "131326          0          1          0          0          0          0  \n",
       "131327          0          1          0          0          0          0  \n",
       "131328          0          1          0          0          0          0  \n",
       "131329          0          1          0          0          0          0  \n",
       "\n",
       "[131330 rows x 86 columns]"
      ]
     },
     "execution_count": 23,
     "metadata": {},
     "output_type": "execute_result"
    }
   ],
   "source": [
    "X_train"
   ]
  },
  {
   "cell_type": "code",
   "execution_count": 24,
   "metadata": {},
   "outputs": [],
   "source": [
    "#tscv = TimeSeriesSplit(n_splits = 5)\n",
    "tscv = TimeSeriesSplit(n_splits = 3, max_train_size=30000)\n"
   ]
  },
  {
   "cell_type": "code",
   "execution_count": 25,
   "metadata": {},
   "outputs": [
    {
     "name": "stdout",
     "output_type": "stream",
     "text": [
      "TRAIN: [ 2834  2835  2836 ... 32831 32832 32833] TEST: [32834 32835 32836 ... 65663 65664 65665]\n",
      "30000 32832\n",
      "TRAIN: [35666 35667 35668 ... 65663 65664 65665] TEST: [65666 65667 65668 ... 98495 98496 98497]\n",
      "30000 32832\n",
      "TRAIN: [68498 68499 68500 ... 98495 98496 98497] TEST: [ 98498  98499  98500 ... 131327 131328 131329]\n",
      "30000 32832\n"
     ]
    }
   ],
   "source": [
    "for train_index, test_index in tscv.split(X_train):\n",
    "    print(\"TRAIN:\", train_index, \"TEST:\", test_index)\n",
    "    print(len(train_index), len(test_index))"
   ]
  },
  {
   "cell_type": "code",
   "execution_count": 26,
   "metadata": {},
   "outputs": [],
   "source": [
    "Y_train = np.array(Y_train).reshape(-1,1)\n",
    "Y_test = np.array(Y_test).reshape(-1,1)\n"
   ]
  },
  {
   "cell_type": "markdown",
   "metadata": {},
   "source": [
    "## Linear Regression"
   ]
  },
  {
   "cell_type": "code",
   "execution_count": 27,
   "metadata": {},
   "outputs": [],
   "source": [
    "lr = LinearRegression()"
   ]
  },
  {
   "cell_type": "code",
   "execution_count": 28,
   "metadata": {},
   "outputs": [],
   "source": [
    "cv_results = cross_val_score(lr, X_train, Y_train, cv = tscv, scoring = 'neg_root_mean_squared_error')"
   ]
  },
  {
   "cell_type": "code",
   "execution_count": 29,
   "metadata": {},
   "outputs": [
    {
     "data": {
      "text/plain": [
       "array([-1.34817509, -1.13677545, -1.30697967])"
      ]
     },
     "execution_count": 29,
     "metadata": {},
     "output_type": "execute_result"
    }
   ],
   "source": [
    "cv_results"
   ]
  },
  {
   "cell_type": "code",
   "execution_count": 30,
   "metadata": {},
   "outputs": [
    {
     "data": {
      "text/plain": [
       "-1.2639767380482865"
      ]
     },
     "execution_count": 30,
     "metadata": {},
     "output_type": "execute_result"
    }
   ],
   "source": [
    "cv_results.mean()"
   ]
  },
  {
   "cell_type": "code",
   "execution_count": 31,
   "metadata": {},
   "outputs": [],
   "source": [
    "lr.fit(X_train, Y_train)\n",
    "Y_test_pred = lr.predict(X_test)\n",
    "Y_train_pred = lr.predict(X_train)"
   ]
  },
  {
   "cell_type": "code",
   "execution_count": 32,
   "metadata": {},
   "outputs": [
    {
     "name": "stdout",
     "output_type": "stream",
     "text": [
      "1.1235780560956559\n",
      "7.456050270495296\n"
     ]
    }
   ],
   "source": [
    "print(sklearn.metrics.mean_squared_error(Y_train, Y_train_pred))\n",
    "print(sklearn.metrics.mean_squared_error(Y_test, Y_test_pred))"
   ]
  },
  {
   "cell_type": "markdown",
   "metadata": {},
   "source": [
    "## Feature selection"
   ]
  },
  {
   "cell_type": "markdown",
   "metadata": {},
   "source": [
    "### removing highly correlated columns"
   ]
  },
  {
   "cell_type": "code",
   "execution_count": 33,
   "metadata": {},
   "outputs": [
    {
     "name": "stderr",
     "output_type": "stream",
     "text": [
      "/var/folders/n5/gkbdqwls1h17gjm6d68_h8ph0000gn/T/ipykernel_88612/285798651.py:2: DeprecationWarning: `np.bool` is a deprecated alias for the builtin `bool`. To silence this warning, use `bool` by itself. Doing this will not modify any behavior and is safe. If you specifically wanted the numpy scalar type, use `np.bool_` here.\n",
      "Deprecated in NumPy 1.20; for more details and guidance: https://numpy.org/devdocs/release/1.20.0-notes.html#deprecations\n",
      "  upper_tri = cor_matrix.where(np.triu(np.ones(cor_matrix.shape),k=1).astype(np.bool))\n"
     ]
    }
   ],
   "source": [
    "cor_matrix = X_train.corr().abs()\n",
    "upper_tri = cor_matrix.where(np.triu(np.ones(cor_matrix.shape),k=1).astype(np.bool))\n"
   ]
  },
  {
   "cell_type": "code",
   "execution_count": 34,
   "metadata": {},
   "outputs": [
    {
     "name": "stdout",
     "output_type": "stream",
     "text": [
      "\n",
      "['ewm10', 'ewm50', 'ewm100', 'ewm200', 'ma10', 'ma50', 'ma100', 'ma200', 'UB', 'LB', 'lag2', 'lag3', 'lag4', 'lag5', 'lag6', 'lag7', 'lag8', 'lag9', 'lag10', 'lag11', 'lag12', 'lag13', 'lag14', 'lag15', 'lag16', 'lag17', 'lag18', 'lag19', 'lag20', 'lag21', 'lag22', 'lag23', 'lag24', 'lag25', 'lag26', 'lag27', 'lag28', 'lag29', 'lag30', 'lag31', 'lag32', 'lag33', 'lag34', 'lag35', 'lag36', 'lag37', 'lag38', 'lag39', 'lag40', 'lag41', 'lag42', 'lag43', 'lag44', 'lag45', 'lag46', 'lag47', 'lag48', 'lag49', 'lag50']\n"
     ]
    }
   ],
   "source": [
    "to_drop = [column for column in upper_tri.columns if any(upper_tri[column] > 0.95)]\n",
    "print(); print(to_drop)"
   ]
  },
  {
   "cell_type": "code",
   "execution_count": 35,
   "metadata": {},
   "outputs": [],
   "source": [
    "X_train_v1 = pd.DataFrame()\n",
    "for column in X_train.columns:\n",
    "    if column not in to_drop:\n",
    "        X_train_v1[column] = X_train[column]\n",
    "\n"
   ]
  },
  {
   "cell_type": "code",
   "execution_count": 36,
   "metadata": {},
   "outputs": [
    {
     "data": {
      "text/html": [
       "<div>\n",
       "<style scoped>\n",
       "    .dataframe tbody tr th:only-of-type {\n",
       "        vertical-align: middle;\n",
       "    }\n",
       "\n",
       "    .dataframe tbody tr th {\n",
       "        vertical-align: top;\n",
       "    }\n",
       "\n",
       "    .dataframe thead th {\n",
       "        text-align: right;\n",
       "    }\n",
       "</style>\n",
       "<table border=\"1\" class=\"dataframe\">\n",
       "  <thead>\n",
       "    <tr style=\"text-align: right;\">\n",
       "      <th></th>\n",
       "      <th>Close</th>\n",
       "      <th>Volume</th>\n",
       "      <th>year</th>\n",
       "      <th>h-c</th>\n",
       "      <th>c-l</th>\n",
       "      <th>c-o</th>\n",
       "      <th>std10</th>\n",
       "      <th>std50</th>\n",
       "      <th>std100</th>\n",
       "      <th>std200</th>\n",
       "      <th>...</th>\n",
       "      <th>month_Aug</th>\n",
       "      <th>month_Dec</th>\n",
       "      <th>month_Feb</th>\n",
       "      <th>month_Jul</th>\n",
       "      <th>month_Jun</th>\n",
       "      <th>month_Mar</th>\n",
       "      <th>month_May</th>\n",
       "      <th>month_Nov</th>\n",
       "      <th>month_Oct</th>\n",
       "      <th>month_Sep</th>\n",
       "    </tr>\n",
       "  </thead>\n",
       "  <tbody>\n",
       "    <tr>\n",
       "      <th>0</th>\n",
       "      <td>0.40097</td>\n",
       "      <td>8296020</td>\n",
       "      <td>1980</td>\n",
       "      <td>0.00817</td>\n",
       "      <td>0.0</td>\n",
       "      <td>0.0</td>\n",
       "      <td>0.012150</td>\n",
       "      <td>0.014639</td>\n",
       "      <td>0.045390</td>\n",
       "      <td>0.047705</td>\n",
       "      <td>...</td>\n",
       "      <td>0</td>\n",
       "      <td>0</td>\n",
       "      <td>0</td>\n",
       "      <td>0</td>\n",
       "      <td>0</td>\n",
       "      <td>0</td>\n",
       "      <td>0</td>\n",
       "      <td>0</td>\n",
       "      <td>1</td>\n",
       "      <td>0</td>\n",
       "    </tr>\n",
       "    <tr>\n",
       "      <th>1</th>\n",
       "      <td>0.40914</td>\n",
       "      <td>5506736</td>\n",
       "      <td>1980</td>\n",
       "      <td>0.00793</td>\n",
       "      <td>0.0</td>\n",
       "      <td>0.0</td>\n",
       "      <td>0.010634</td>\n",
       "      <td>0.014879</td>\n",
       "      <td>0.045470</td>\n",
       "      <td>0.048177</td>\n",
       "      <td>...</td>\n",
       "      <td>0</td>\n",
       "      <td>0</td>\n",
       "      <td>0</td>\n",
       "      <td>0</td>\n",
       "      <td>0</td>\n",
       "      <td>0</td>\n",
       "      <td>0</td>\n",
       "      <td>0</td>\n",
       "      <td>1</td>\n",
       "      <td>0</td>\n",
       "    </tr>\n",
       "    <tr>\n",
       "      <th>2</th>\n",
       "      <td>0.40914</td>\n",
       "      <td>7410151</td>\n",
       "      <td>1980</td>\n",
       "      <td>0.00793</td>\n",
       "      <td>0.0</td>\n",
       "      <td>0.0</td>\n",
       "      <td>0.007439</td>\n",
       "      <td>0.015029</td>\n",
       "      <td>0.045509</td>\n",
       "      <td>0.048633</td>\n",
       "      <td>...</td>\n",
       "      <td>0</td>\n",
       "      <td>0</td>\n",
       "      <td>0</td>\n",
       "      <td>0</td>\n",
       "      <td>0</td>\n",
       "      <td>0</td>\n",
       "      <td>0</td>\n",
       "      <td>0</td>\n",
       "      <td>1</td>\n",
       "      <td>0</td>\n",
       "    </tr>\n",
       "    <tr>\n",
       "      <th>3</th>\n",
       "      <td>0.40914</td>\n",
       "      <td>8715007</td>\n",
       "      <td>1980</td>\n",
       "      <td>0.00000</td>\n",
       "      <td>0.0</td>\n",
       "      <td>0.0</td>\n",
       "      <td>0.004306</td>\n",
       "      <td>0.015349</td>\n",
       "      <td>0.045625</td>\n",
       "      <td>0.049075</td>\n",
       "      <td>...</td>\n",
       "      <td>0</td>\n",
       "      <td>0</td>\n",
       "      <td>0</td>\n",
       "      <td>0</td>\n",
       "      <td>0</td>\n",
       "      <td>0</td>\n",
       "      <td>0</td>\n",
       "      <td>0</td>\n",
       "      <td>1</td>\n",
       "      <td>0</td>\n",
       "    </tr>\n",
       "    <tr>\n",
       "      <th>4</th>\n",
       "      <td>0.40097</td>\n",
       "      <td>8092510</td>\n",
       "      <td>1980</td>\n",
       "      <td>0.00000</td>\n",
       "      <td>0.0</td>\n",
       "      <td>0.0</td>\n",
       "      <td>0.004219</td>\n",
       "      <td>0.015347</td>\n",
       "      <td>0.045591</td>\n",
       "      <td>0.049480</td>\n",
       "      <td>...</td>\n",
       "      <td>0</td>\n",
       "      <td>0</td>\n",
       "      <td>0</td>\n",
       "      <td>0</td>\n",
       "      <td>0</td>\n",
       "      <td>0</td>\n",
       "      <td>0</td>\n",
       "      <td>0</td>\n",
       "      <td>1</td>\n",
       "      <td>0</td>\n",
       "    </tr>\n",
       "  </tbody>\n",
       "</table>\n",
       "<p>5 rows × 27 columns</p>\n",
       "</div>"
      ],
      "text/plain": [
       "     Close   Volume  year      h-c  c-l  c-o     std10     std50    std100  \\\n",
       "0  0.40097  8296020  1980  0.00817  0.0  0.0  0.012150  0.014639  0.045390   \n",
       "1  0.40914  5506736  1980  0.00793  0.0  0.0  0.010634  0.014879  0.045470   \n",
       "2  0.40914  7410151  1980  0.00793  0.0  0.0  0.007439  0.015029  0.045509   \n",
       "3  0.40914  8715007  1980  0.00000  0.0  0.0  0.004306  0.015349  0.045625   \n",
       "4  0.40097  8092510  1980  0.00000  0.0  0.0  0.004219  0.015347  0.045591   \n",
       "\n",
       "     std200  ...  month_Aug  month_Dec  month_Feb  month_Jul  month_Jun  \\\n",
       "0  0.047705  ...          0          0          0          0          0   \n",
       "1  0.048177  ...          0          0          0          0          0   \n",
       "2  0.048633  ...          0          0          0          0          0   \n",
       "3  0.049075  ...          0          0          0          0          0   \n",
       "4  0.049480  ...          0          0          0          0          0   \n",
       "\n",
       "   month_Mar  month_May  month_Nov  month_Oct  month_Sep  \n",
       "0          0          0          0          1          0  \n",
       "1          0          0          0          1          0  \n",
       "2          0          0          0          1          0  \n",
       "3          0          0          0          1          0  \n",
       "4          0          0          0          1          0  \n",
       "\n",
       "[5 rows x 27 columns]"
      ]
     },
     "execution_count": 36,
     "metadata": {},
     "output_type": "execute_result"
    }
   ],
   "source": [
    "X_train_v1.head()"
   ]
  },
  {
   "cell_type": "code",
   "execution_count": 37,
   "metadata": {},
   "outputs": [],
   "source": [
    "X_test_v1 = pd.DataFrame()\n",
    "for column in X_test.columns:\n",
    "    if column not in to_drop:\n",
    "        X_test_v1[column] = X_test[column]"
   ]
  },
  {
   "cell_type": "markdown",
   "metadata": {},
   "source": [
    "### Scaling"
   ]
  },
  {
   "cell_type": "code",
   "execution_count": 42,
   "metadata": {},
   "outputs": [],
   "source": [
    "from sklearn.preprocessing import StandardScaler\n",
    "scaler = StandardScaler()\n"
   ]
  },
  {
   "cell_type": "code",
   "execution_count": 43,
   "metadata": {},
   "outputs": [
    {
     "data": {
      "text/plain": [
       "Index(['Close', 'Volume', 'year', 'h-c', 'c-l', 'c-o', 'std10', 'std50',\n",
       "       'std100', 'std200', 'EGS_one', 'EGS_two', 'day_Fri', 'day_Thu',\n",
       "       'day_Tue', 'day_Wed', 'month_Apr', 'month_Aug', 'month_Dec',\n",
       "       'month_Feb', 'month_Jul', 'month_Jun', 'month_Mar', 'month_May',\n",
       "       'month_Nov', 'month_Oct', 'month_Sep'],\n",
       "      dtype='object')"
      ]
     },
     "execution_count": 43,
     "metadata": {},
     "output_type": "execute_result"
    }
   ],
   "source": [
    "X_train_v1.columns"
   ]
  },
  {
   "cell_type": "code",
   "execution_count": 44,
   "metadata": {},
   "outputs": [],
   "source": [
    "X_train_cont = X_train_v1.loc[:, :\"std200\"]\n",
    "X_test_cont = X_test_v1.loc[:, :\"std200\"]"
   ]
  },
  {
   "cell_type": "code",
   "execution_count": 45,
   "metadata": {},
   "outputs": [],
   "source": [
    "X_train_discrete = X_train_v1.loc[:,'EGS_one':'month_Sep']\n",
    "X_test_discrete = X_test_v1.loc[:,'EGS_one':'month_Sep']"
   ]
  },
  {
   "cell_type": "code",
   "execution_count": 46,
   "metadata": {},
   "outputs": [],
   "source": [
    "scaler.fit(X_train_cont)\n",
    "X_train_cont_scaled = pd.DataFrame(scaler.transform(X_train_cont))\n",
    "X_test_cont_scaled = pd.DataFrame(scaler.transform(X_test_cont))"
   ]
  },
  {
   "cell_type": "code",
   "execution_count": 47,
   "metadata": {},
   "outputs": [
    {
     "data": {
      "text/html": [
       "<div>\n",
       "<style scoped>\n",
       "    .dataframe tbody tr th:only-of-type {\n",
       "        vertical-align: middle;\n",
       "    }\n",
       "\n",
       "    .dataframe tbody tr th {\n",
       "        vertical-align: top;\n",
       "    }\n",
       "\n",
       "    .dataframe thead th {\n",
       "        text-align: right;\n",
       "    }\n",
       "</style>\n",
       "<table border=\"1\" class=\"dataframe\">\n",
       "  <thead>\n",
       "    <tr style=\"text-align: right;\">\n",
       "      <th></th>\n",
       "      <th>0</th>\n",
       "      <th>1</th>\n",
       "      <th>2</th>\n",
       "      <th>3</th>\n",
       "      <th>4</th>\n",
       "      <th>5</th>\n",
       "      <th>6</th>\n",
       "      <th>7</th>\n",
       "      <th>8</th>\n",
       "      <th>9</th>\n",
       "    </tr>\n",
       "  </thead>\n",
       "  <tbody>\n",
       "    <tr>\n",
       "      <th>0</th>\n",
       "      <td>-0.570437</td>\n",
       "      <td>-0.337498</td>\n",
       "      <td>-2.718544</td>\n",
       "      <td>-0.455498</td>\n",
       "      <td>-0.479176</td>\n",
       "      <td>0.003352</td>\n",
       "      <td>-0.552212</td>\n",
       "      <td>-0.562786</td>\n",
       "      <td>-0.556743</td>\n",
       "      <td>-0.589938</td>\n",
       "    </tr>\n",
       "    <tr>\n",
       "      <th>1</th>\n",
       "      <td>-0.570233</td>\n",
       "      <td>-0.400513</td>\n",
       "      <td>-2.718544</td>\n",
       "      <td>-0.455795</td>\n",
       "      <td>-0.479176</td>\n",
       "      <td>0.003352</td>\n",
       "      <td>-0.553439</td>\n",
       "      <td>-0.562695</td>\n",
       "      <td>-0.556721</td>\n",
       "      <td>-0.589845</td>\n",
       "    </tr>\n",
       "    <tr>\n",
       "      <th>2</th>\n",
       "      <td>-0.570233</td>\n",
       "      <td>-0.357511</td>\n",
       "      <td>-2.718544</td>\n",
       "      <td>-0.455795</td>\n",
       "      <td>-0.479176</td>\n",
       "      <td>0.003352</td>\n",
       "      <td>-0.556028</td>\n",
       "      <td>-0.562638</td>\n",
       "      <td>-0.556711</td>\n",
       "      <td>-0.589756</td>\n",
       "    </tr>\n",
       "    <tr>\n",
       "      <th>3</th>\n",
       "      <td>-0.570233</td>\n",
       "      <td>-0.328032</td>\n",
       "      <td>-2.718544</td>\n",
       "      <td>-0.465602</td>\n",
       "      <td>-0.479176</td>\n",
       "      <td>0.003352</td>\n",
       "      <td>-0.558566</td>\n",
       "      <td>-0.562517</td>\n",
       "      <td>-0.556680</td>\n",
       "      <td>-0.589669</td>\n",
       "    </tr>\n",
       "    <tr>\n",
       "      <th>4</th>\n",
       "      <td>-0.570437</td>\n",
       "      <td>-0.342096</td>\n",
       "      <td>-2.718544</td>\n",
       "      <td>-0.465602</td>\n",
       "      <td>-0.479176</td>\n",
       "      <td>0.003352</td>\n",
       "      <td>-0.558636</td>\n",
       "      <td>-0.562517</td>\n",
       "      <td>-0.556689</td>\n",
       "      <td>-0.589589</td>\n",
       "    </tr>\n",
       "    <tr>\n",
       "      <th>...</th>\n",
       "      <td>...</td>\n",
       "      <td>...</td>\n",
       "      <td>...</td>\n",
       "      <td>...</td>\n",
       "      <td>...</td>\n",
       "      <td>...</td>\n",
       "      <td>...</td>\n",
       "      <td>...</td>\n",
       "      <td>...</td>\n",
       "      <td>...</td>\n",
       "    </tr>\n",
       "    <tr>\n",
       "      <th>131325</th>\n",
       "      <td>1.120509</td>\n",
       "      <td>-0.469940</td>\n",
       "      <td>1.480192</td>\n",
       "      <td>-0.416133</td>\n",
       "      <td>1.151038</td>\n",
       "      <td>1.115971</td>\n",
       "      <td>-0.005035</td>\n",
       "      <td>1.022276</td>\n",
       "      <td>0.746449</td>\n",
       "      <td>0.859685</td>\n",
       "    </tr>\n",
       "    <tr>\n",
       "      <th>131326</th>\n",
       "      <td>0.598148</td>\n",
       "      <td>-0.487978</td>\n",
       "      <td>1.480192</td>\n",
       "      <td>-0.465602</td>\n",
       "      <td>0.204020</td>\n",
       "      <td>0.559662</td>\n",
       "      <td>-0.244950</td>\n",
       "      <td>-0.116341</td>\n",
       "      <td>-0.248284</td>\n",
       "      <td>-0.242822</td>\n",
       "    </tr>\n",
       "    <tr>\n",
       "      <th>131327</th>\n",
       "      <td>0.727632</td>\n",
       "      <td>-0.480132</td>\n",
       "      <td>1.480192</td>\n",
       "      <td>-0.131684</td>\n",
       "      <td>0.404375</td>\n",
       "      <td>-0.274803</td>\n",
       "      <td>0.080347</td>\n",
       "      <td>0.124173</td>\n",
       "      <td>0.692414</td>\n",
       "      <td>0.719452</td>\n",
       "    </tr>\n",
       "    <tr>\n",
       "      <th>131328</th>\n",
       "      <td>-0.120552</td>\n",
       "      <td>-0.280863</td>\n",
       "      <td>1.480192</td>\n",
       "      <td>-0.453235</td>\n",
       "      <td>0.210242</td>\n",
       "      <td>0.433936</td>\n",
       "      <td>-0.332030</td>\n",
       "      <td>-0.223519</td>\n",
       "      <td>-0.363706</td>\n",
       "      <td>-0.367125</td>\n",
       "    </tr>\n",
       "    <tr>\n",
       "      <th>131329</th>\n",
       "      <td>-0.482739</td>\n",
       "      <td>-0.191797</td>\n",
       "      <td>1.480192</td>\n",
       "      <td>-0.440868</td>\n",
       "      <td>-0.404510</td>\n",
       "      <td>0.058983</td>\n",
       "      <td>-0.482384</td>\n",
       "      <td>-0.460733</td>\n",
       "      <td>-0.494573</td>\n",
       "      <td>-0.543371</td>\n",
       "    </tr>\n",
       "  </tbody>\n",
       "</table>\n",
       "<p>131330 rows × 10 columns</p>\n",
       "</div>"
      ],
      "text/plain": [
       "               0         1         2         3         4         5         6  \\\n",
       "0      -0.570437 -0.337498 -2.718544 -0.455498 -0.479176  0.003352 -0.552212   \n",
       "1      -0.570233 -0.400513 -2.718544 -0.455795 -0.479176  0.003352 -0.553439   \n",
       "2      -0.570233 -0.357511 -2.718544 -0.455795 -0.479176  0.003352 -0.556028   \n",
       "3      -0.570233 -0.328032 -2.718544 -0.465602 -0.479176  0.003352 -0.558566   \n",
       "4      -0.570437 -0.342096 -2.718544 -0.465602 -0.479176  0.003352 -0.558636   \n",
       "...          ...       ...       ...       ...       ...       ...       ...   \n",
       "131325  1.120509 -0.469940  1.480192 -0.416133  1.151038  1.115971 -0.005035   \n",
       "131326  0.598148 -0.487978  1.480192 -0.465602  0.204020  0.559662 -0.244950   \n",
       "131327  0.727632 -0.480132  1.480192 -0.131684  0.404375 -0.274803  0.080347   \n",
       "131328 -0.120552 -0.280863  1.480192 -0.453235  0.210242  0.433936 -0.332030   \n",
       "131329 -0.482739 -0.191797  1.480192 -0.440868 -0.404510  0.058983 -0.482384   \n",
       "\n",
       "               7         8         9  \n",
       "0      -0.562786 -0.556743 -0.589938  \n",
       "1      -0.562695 -0.556721 -0.589845  \n",
       "2      -0.562638 -0.556711 -0.589756  \n",
       "3      -0.562517 -0.556680 -0.589669  \n",
       "4      -0.562517 -0.556689 -0.589589  \n",
       "...          ...       ...       ...  \n",
       "131325  1.022276  0.746449  0.859685  \n",
       "131326 -0.116341 -0.248284 -0.242822  \n",
       "131327  0.124173  0.692414  0.719452  \n",
       "131328 -0.223519 -0.363706 -0.367125  \n",
       "131329 -0.460733 -0.494573 -0.543371  \n",
       "\n",
       "[131330 rows x 10 columns]"
      ]
     },
     "execution_count": 47,
     "metadata": {},
     "output_type": "execute_result"
    }
   ],
   "source": [
    "X_train_cont_scaled"
   ]
  },
  {
   "cell_type": "code",
   "execution_count": 48,
   "metadata": {},
   "outputs": [],
   "source": [
    "X_test_discrete = X_test_discrete.reset_index()"
   ]
  },
  {
   "cell_type": "code",
   "execution_count": 49,
   "metadata": {},
   "outputs": [],
   "source": [
    "X_test_discrete = X_test_discrete.drop(\"index\", axis = 1)"
   ]
  },
  {
   "cell_type": "code",
   "execution_count": 50,
   "metadata": {},
   "outputs": [],
   "source": [
    "X_train_scaled = pd.concat([X_train_cont_scaled, X_train_discrete], axis = 1)\n",
    "X_test_scaled = pd.concat([X_test_cont_scaled, X_test_discrete], axis = 1)"
   ]
  },
  {
   "cell_type": "code",
   "execution_count": 51,
   "metadata": {},
   "outputs": [
    {
     "data": {
      "text/html": [
       "<div>\n",
       "<style scoped>\n",
       "    .dataframe tbody tr th:only-of-type {\n",
       "        vertical-align: middle;\n",
       "    }\n",
       "\n",
       "    .dataframe tbody tr th {\n",
       "        vertical-align: top;\n",
       "    }\n",
       "\n",
       "    .dataframe thead th {\n",
       "        text-align: right;\n",
       "    }\n",
       "</style>\n",
       "<table border=\"1\" class=\"dataframe\">\n",
       "  <thead>\n",
       "    <tr style=\"text-align: right;\">\n",
       "      <th></th>\n",
       "      <th>0</th>\n",
       "      <th>1</th>\n",
       "      <th>2</th>\n",
       "      <th>3</th>\n",
       "      <th>4</th>\n",
       "      <th>5</th>\n",
       "      <th>6</th>\n",
       "      <th>7</th>\n",
       "      <th>8</th>\n",
       "      <th>9</th>\n",
       "      <th>...</th>\n",
       "      <th>month_Aug</th>\n",
       "      <th>month_Dec</th>\n",
       "      <th>month_Feb</th>\n",
       "      <th>month_Jul</th>\n",
       "      <th>month_Jun</th>\n",
       "      <th>month_Mar</th>\n",
       "      <th>month_May</th>\n",
       "      <th>month_Nov</th>\n",
       "      <th>month_Oct</th>\n",
       "      <th>month_Sep</th>\n",
       "    </tr>\n",
       "  </thead>\n",
       "  <tbody>\n",
       "    <tr>\n",
       "      <th>0</th>\n",
       "      <td>-0.570437</td>\n",
       "      <td>-0.337498</td>\n",
       "      <td>-2.718544</td>\n",
       "      <td>-0.455498</td>\n",
       "      <td>-0.479176</td>\n",
       "      <td>0.003352</td>\n",
       "      <td>-0.552212</td>\n",
       "      <td>-0.562786</td>\n",
       "      <td>-0.556743</td>\n",
       "      <td>-0.589938</td>\n",
       "      <td>...</td>\n",
       "      <td>0</td>\n",
       "      <td>0</td>\n",
       "      <td>0</td>\n",
       "      <td>0</td>\n",
       "      <td>0</td>\n",
       "      <td>0</td>\n",
       "      <td>0</td>\n",
       "      <td>0</td>\n",
       "      <td>1</td>\n",
       "      <td>0</td>\n",
       "    </tr>\n",
       "    <tr>\n",
       "      <th>1</th>\n",
       "      <td>-0.570233</td>\n",
       "      <td>-0.400513</td>\n",
       "      <td>-2.718544</td>\n",
       "      <td>-0.455795</td>\n",
       "      <td>-0.479176</td>\n",
       "      <td>0.003352</td>\n",
       "      <td>-0.553439</td>\n",
       "      <td>-0.562695</td>\n",
       "      <td>-0.556721</td>\n",
       "      <td>-0.589845</td>\n",
       "      <td>...</td>\n",
       "      <td>0</td>\n",
       "      <td>0</td>\n",
       "      <td>0</td>\n",
       "      <td>0</td>\n",
       "      <td>0</td>\n",
       "      <td>0</td>\n",
       "      <td>0</td>\n",
       "      <td>0</td>\n",
       "      <td>1</td>\n",
       "      <td>0</td>\n",
       "    </tr>\n",
       "    <tr>\n",
       "      <th>2</th>\n",
       "      <td>-0.570233</td>\n",
       "      <td>-0.357511</td>\n",
       "      <td>-2.718544</td>\n",
       "      <td>-0.455795</td>\n",
       "      <td>-0.479176</td>\n",
       "      <td>0.003352</td>\n",
       "      <td>-0.556028</td>\n",
       "      <td>-0.562638</td>\n",
       "      <td>-0.556711</td>\n",
       "      <td>-0.589756</td>\n",
       "      <td>...</td>\n",
       "      <td>0</td>\n",
       "      <td>0</td>\n",
       "      <td>0</td>\n",
       "      <td>0</td>\n",
       "      <td>0</td>\n",
       "      <td>0</td>\n",
       "      <td>0</td>\n",
       "      <td>0</td>\n",
       "      <td>1</td>\n",
       "      <td>0</td>\n",
       "    </tr>\n",
       "    <tr>\n",
       "      <th>3</th>\n",
       "      <td>-0.570233</td>\n",
       "      <td>-0.328032</td>\n",
       "      <td>-2.718544</td>\n",
       "      <td>-0.465602</td>\n",
       "      <td>-0.479176</td>\n",
       "      <td>0.003352</td>\n",
       "      <td>-0.558566</td>\n",
       "      <td>-0.562517</td>\n",
       "      <td>-0.556680</td>\n",
       "      <td>-0.589669</td>\n",
       "      <td>...</td>\n",
       "      <td>0</td>\n",
       "      <td>0</td>\n",
       "      <td>0</td>\n",
       "      <td>0</td>\n",
       "      <td>0</td>\n",
       "      <td>0</td>\n",
       "      <td>0</td>\n",
       "      <td>0</td>\n",
       "      <td>1</td>\n",
       "      <td>0</td>\n",
       "    </tr>\n",
       "    <tr>\n",
       "      <th>4</th>\n",
       "      <td>-0.570437</td>\n",
       "      <td>-0.342096</td>\n",
       "      <td>-2.718544</td>\n",
       "      <td>-0.465602</td>\n",
       "      <td>-0.479176</td>\n",
       "      <td>0.003352</td>\n",
       "      <td>-0.558636</td>\n",
       "      <td>-0.562517</td>\n",
       "      <td>-0.556689</td>\n",
       "      <td>-0.589589</td>\n",
       "      <td>...</td>\n",
       "      <td>0</td>\n",
       "      <td>0</td>\n",
       "      <td>0</td>\n",
       "      <td>0</td>\n",
       "      <td>0</td>\n",
       "      <td>0</td>\n",
       "      <td>0</td>\n",
       "      <td>0</td>\n",
       "      <td>1</td>\n",
       "      <td>0</td>\n",
       "    </tr>\n",
       "    <tr>\n",
       "      <th>...</th>\n",
       "      <td>...</td>\n",
       "      <td>...</td>\n",
       "      <td>...</td>\n",
       "      <td>...</td>\n",
       "      <td>...</td>\n",
       "      <td>...</td>\n",
       "      <td>...</td>\n",
       "      <td>...</td>\n",
       "      <td>...</td>\n",
       "      <td>...</td>\n",
       "      <td>...</td>\n",
       "      <td>...</td>\n",
       "      <td>...</td>\n",
       "      <td>...</td>\n",
       "      <td>...</td>\n",
       "      <td>...</td>\n",
       "      <td>...</td>\n",
       "      <td>...</td>\n",
       "      <td>...</td>\n",
       "      <td>...</td>\n",
       "      <td>...</td>\n",
       "    </tr>\n",
       "    <tr>\n",
       "      <th>131325</th>\n",
       "      <td>1.120509</td>\n",
       "      <td>-0.469940</td>\n",
       "      <td>1.480192</td>\n",
       "      <td>-0.416133</td>\n",
       "      <td>1.151038</td>\n",
       "      <td>1.115971</td>\n",
       "      <td>-0.005035</td>\n",
       "      <td>1.022276</td>\n",
       "      <td>0.746449</td>\n",
       "      <td>0.859685</td>\n",
       "      <td>...</td>\n",
       "      <td>0</td>\n",
       "      <td>0</td>\n",
       "      <td>0</td>\n",
       "      <td>0</td>\n",
       "      <td>0</td>\n",
       "      <td>1</td>\n",
       "      <td>0</td>\n",
       "      <td>0</td>\n",
       "      <td>0</td>\n",
       "      <td>0</td>\n",
       "    </tr>\n",
       "    <tr>\n",
       "      <th>131326</th>\n",
       "      <td>0.598148</td>\n",
       "      <td>-0.487978</td>\n",
       "      <td>1.480192</td>\n",
       "      <td>-0.465602</td>\n",
       "      <td>0.204020</td>\n",
       "      <td>0.559662</td>\n",
       "      <td>-0.244950</td>\n",
       "      <td>-0.116341</td>\n",
       "      <td>-0.248284</td>\n",
       "      <td>-0.242822</td>\n",
       "      <td>...</td>\n",
       "      <td>0</td>\n",
       "      <td>0</td>\n",
       "      <td>0</td>\n",
       "      <td>0</td>\n",
       "      <td>0</td>\n",
       "      <td>1</td>\n",
       "      <td>0</td>\n",
       "      <td>0</td>\n",
       "      <td>0</td>\n",
       "      <td>0</td>\n",
       "    </tr>\n",
       "    <tr>\n",
       "      <th>131327</th>\n",
       "      <td>0.727632</td>\n",
       "      <td>-0.480132</td>\n",
       "      <td>1.480192</td>\n",
       "      <td>-0.131684</td>\n",
       "      <td>0.404375</td>\n",
       "      <td>-0.274803</td>\n",
       "      <td>0.080347</td>\n",
       "      <td>0.124173</td>\n",
       "      <td>0.692414</td>\n",
       "      <td>0.719452</td>\n",
       "      <td>...</td>\n",
       "      <td>0</td>\n",
       "      <td>0</td>\n",
       "      <td>0</td>\n",
       "      <td>0</td>\n",
       "      <td>0</td>\n",
       "      <td>1</td>\n",
       "      <td>0</td>\n",
       "      <td>0</td>\n",
       "      <td>0</td>\n",
       "      <td>0</td>\n",
       "    </tr>\n",
       "    <tr>\n",
       "      <th>131328</th>\n",
       "      <td>-0.120552</td>\n",
       "      <td>-0.280863</td>\n",
       "      <td>1.480192</td>\n",
       "      <td>-0.453235</td>\n",
       "      <td>0.210242</td>\n",
       "      <td>0.433936</td>\n",
       "      <td>-0.332030</td>\n",
       "      <td>-0.223519</td>\n",
       "      <td>-0.363706</td>\n",
       "      <td>-0.367125</td>\n",
       "      <td>...</td>\n",
       "      <td>0</td>\n",
       "      <td>0</td>\n",
       "      <td>0</td>\n",
       "      <td>0</td>\n",
       "      <td>0</td>\n",
       "      <td>1</td>\n",
       "      <td>0</td>\n",
       "      <td>0</td>\n",
       "      <td>0</td>\n",
       "      <td>0</td>\n",
       "    </tr>\n",
       "    <tr>\n",
       "      <th>131329</th>\n",
       "      <td>-0.482739</td>\n",
       "      <td>-0.191797</td>\n",
       "      <td>1.480192</td>\n",
       "      <td>-0.440868</td>\n",
       "      <td>-0.404510</td>\n",
       "      <td>0.058983</td>\n",
       "      <td>-0.482384</td>\n",
       "      <td>-0.460733</td>\n",
       "      <td>-0.494573</td>\n",
       "      <td>-0.543371</td>\n",
       "      <td>...</td>\n",
       "      <td>0</td>\n",
       "      <td>0</td>\n",
       "      <td>0</td>\n",
       "      <td>0</td>\n",
       "      <td>0</td>\n",
       "      <td>1</td>\n",
       "      <td>0</td>\n",
       "      <td>0</td>\n",
       "      <td>0</td>\n",
       "      <td>0</td>\n",
       "    </tr>\n",
       "  </tbody>\n",
       "</table>\n",
       "<p>131330 rows × 27 columns</p>\n",
       "</div>"
      ],
      "text/plain": [
       "               0         1         2         3         4         5         6  \\\n",
       "0      -0.570437 -0.337498 -2.718544 -0.455498 -0.479176  0.003352 -0.552212   \n",
       "1      -0.570233 -0.400513 -2.718544 -0.455795 -0.479176  0.003352 -0.553439   \n",
       "2      -0.570233 -0.357511 -2.718544 -0.455795 -0.479176  0.003352 -0.556028   \n",
       "3      -0.570233 -0.328032 -2.718544 -0.465602 -0.479176  0.003352 -0.558566   \n",
       "4      -0.570437 -0.342096 -2.718544 -0.465602 -0.479176  0.003352 -0.558636   \n",
       "...          ...       ...       ...       ...       ...       ...       ...   \n",
       "131325  1.120509 -0.469940  1.480192 -0.416133  1.151038  1.115971 -0.005035   \n",
       "131326  0.598148 -0.487978  1.480192 -0.465602  0.204020  0.559662 -0.244950   \n",
       "131327  0.727632 -0.480132  1.480192 -0.131684  0.404375 -0.274803  0.080347   \n",
       "131328 -0.120552 -0.280863  1.480192 -0.453235  0.210242  0.433936 -0.332030   \n",
       "131329 -0.482739 -0.191797  1.480192 -0.440868 -0.404510  0.058983 -0.482384   \n",
       "\n",
       "               7         8         9  ...  month_Aug  month_Dec  month_Feb  \\\n",
       "0      -0.562786 -0.556743 -0.589938  ...          0          0          0   \n",
       "1      -0.562695 -0.556721 -0.589845  ...          0          0          0   \n",
       "2      -0.562638 -0.556711 -0.589756  ...          0          0          0   \n",
       "3      -0.562517 -0.556680 -0.589669  ...          0          0          0   \n",
       "4      -0.562517 -0.556689 -0.589589  ...          0          0          0   \n",
       "...          ...       ...       ...  ...        ...        ...        ...   \n",
       "131325  1.022276  0.746449  0.859685  ...          0          0          0   \n",
       "131326 -0.116341 -0.248284 -0.242822  ...          0          0          0   \n",
       "131327  0.124173  0.692414  0.719452  ...          0          0          0   \n",
       "131328 -0.223519 -0.363706 -0.367125  ...          0          0          0   \n",
       "131329 -0.460733 -0.494573 -0.543371  ...          0          0          0   \n",
       "\n",
       "        month_Jul  month_Jun  month_Mar  month_May  month_Nov  month_Oct  \\\n",
       "0               0          0          0          0          0          1   \n",
       "1               0          0          0          0          0          1   \n",
       "2               0          0          0          0          0          1   \n",
       "3               0          0          0          0          0          1   \n",
       "4               0          0          0          0          0          1   \n",
       "...           ...        ...        ...        ...        ...        ...   \n",
       "131325          0          0          1          0          0          0   \n",
       "131326          0          0          1          0          0          0   \n",
       "131327          0          0          1          0          0          0   \n",
       "131328          0          0          1          0          0          0   \n",
       "131329          0          0          1          0          0          0   \n",
       "\n",
       "        month_Sep  \n",
       "0               0  \n",
       "1               0  \n",
       "2               0  \n",
       "3               0  \n",
       "4               0  \n",
       "...           ...  \n",
       "131325          0  \n",
       "131326          0  \n",
       "131327          0  \n",
       "131328          0  \n",
       "131329          0  \n",
       "\n",
       "[131330 rows x 27 columns]"
      ]
     },
     "execution_count": 51,
     "metadata": {},
     "output_type": "execute_result"
    }
   ],
   "source": [
    "X_train_scaled"
   ]
  },
  {
   "cell_type": "code",
   "execution_count": 52,
   "metadata": {},
   "outputs": [],
   "source": [
    "col_names = ['Close', 'Volume', 'year', 'h-c', 'c-l', 'c-o', 'std10', 'std50',\n",
    "       'std100', 'std200', 'EGS_one', 'EGS_two', 'day_Fri', 'day_Thu',\n",
    "       'day_Tue', 'day_Wed', 'month_Apr', 'month_Aug', 'month_Dec',\n",
    "       'month_Feb', 'month_Jul', 'month_Jun', 'month_Mar', 'month_May',\n",
    "       'month_Nov', 'month_Oct', 'month_Sep']"
   ]
  },
  {
   "cell_type": "code",
   "execution_count": 53,
   "metadata": {},
   "outputs": [],
   "source": [
    "X_train_scaled.columns = col_names\n",
    "X_test_scaled.columns = col_names"
   ]
  },
  {
   "cell_type": "code",
   "execution_count": 54,
   "metadata": {},
   "outputs": [
    {
     "data": {
      "text/html": [
       "<div>\n",
       "<style scoped>\n",
       "    .dataframe tbody tr th:only-of-type {\n",
       "        vertical-align: middle;\n",
       "    }\n",
       "\n",
       "    .dataframe tbody tr th {\n",
       "        vertical-align: top;\n",
       "    }\n",
       "\n",
       "    .dataframe thead th {\n",
       "        text-align: right;\n",
       "    }\n",
       "</style>\n",
       "<table border=\"1\" class=\"dataframe\">\n",
       "  <thead>\n",
       "    <tr style=\"text-align: right;\">\n",
       "      <th></th>\n",
       "      <th>Close</th>\n",
       "      <th>Volume</th>\n",
       "      <th>year</th>\n",
       "      <th>h-c</th>\n",
       "      <th>c-l</th>\n",
       "      <th>c-o</th>\n",
       "      <th>std10</th>\n",
       "      <th>std50</th>\n",
       "      <th>std100</th>\n",
       "      <th>std200</th>\n",
       "      <th>...</th>\n",
       "      <th>month_Aug</th>\n",
       "      <th>month_Dec</th>\n",
       "      <th>month_Feb</th>\n",
       "      <th>month_Jul</th>\n",
       "      <th>month_Jun</th>\n",
       "      <th>month_Mar</th>\n",
       "      <th>month_May</th>\n",
       "      <th>month_Nov</th>\n",
       "      <th>month_Oct</th>\n",
       "      <th>month_Sep</th>\n",
       "    </tr>\n",
       "  </thead>\n",
       "  <tbody>\n",
       "    <tr>\n",
       "      <th>0</th>\n",
       "      <td>1.448657</td>\n",
       "      <td>-0.516283</td>\n",
       "      <td>1.480192</td>\n",
       "      <td>0.464421</td>\n",
       "      <td>0.130598</td>\n",
       "      <td>-0.285929</td>\n",
       "      <td>0.094937</td>\n",
       "      <td>0.408643</td>\n",
       "      <td>0.142394</td>\n",
       "      <td>0.338796</td>\n",
       "      <td>...</td>\n",
       "      <td>0</td>\n",
       "      <td>0</td>\n",
       "      <td>0</td>\n",
       "      <td>0</td>\n",
       "      <td>0</td>\n",
       "      <td>1</td>\n",
       "      <td>0</td>\n",
       "      <td>0</td>\n",
       "      <td>0</td>\n",
       "      <td>0</td>\n",
       "    </tr>\n",
       "    <tr>\n",
       "      <th>1</th>\n",
       "      <td>0.913149</td>\n",
       "      <td>-0.468558</td>\n",
       "      <td>1.480192</td>\n",
       "      <td>-0.320905</td>\n",
       "      <td>2.733963</td>\n",
       "      <td>1.486474</td>\n",
       "      <td>0.044519</td>\n",
       "      <td>0.698630</td>\n",
       "      <td>1.037634</td>\n",
       "      <td>0.936449</td>\n",
       "      <td>...</td>\n",
       "      <td>0</td>\n",
       "      <td>0</td>\n",
       "      <td>0</td>\n",
       "      <td>0</td>\n",
       "      <td>0</td>\n",
       "      <td>1</td>\n",
       "      <td>0</td>\n",
       "      <td>0</td>\n",
       "      <td>0</td>\n",
       "      <td>0</td>\n",
       "    </tr>\n",
       "    <tr>\n",
       "      <th>2</th>\n",
       "      <td>3.772680</td>\n",
       "      <td>-0.433360</td>\n",
       "      <td>1.480192</td>\n",
       "      <td>1.105049</td>\n",
       "      <td>5.643460</td>\n",
       "      <td>2.695891</td>\n",
       "      <td>3.456732</td>\n",
       "      <td>2.507122</td>\n",
       "      <td>1.725706</td>\n",
       "      <td>4.821896</td>\n",
       "      <td>...</td>\n",
       "      <td>0</td>\n",
       "      <td>0</td>\n",
       "      <td>0</td>\n",
       "      <td>0</td>\n",
       "      <td>0</td>\n",
       "      <td>1</td>\n",
       "      <td>0</td>\n",
       "      <td>0</td>\n",
       "      <td>0</td>\n",
       "      <td>0</td>\n",
       "    </tr>\n",
       "    <tr>\n",
       "      <th>3</th>\n",
       "      <td>-0.192580</td>\n",
       "      <td>-0.467519</td>\n",
       "      <td>1.480192</td>\n",
       "      <td>-0.366664</td>\n",
       "      <td>-0.273844</td>\n",
       "      <td>-0.007774</td>\n",
       "      <td>-0.366429</td>\n",
       "      <td>-0.336467</td>\n",
       "      <td>-0.341316</td>\n",
       "      <td>-0.439368</td>\n",
       "      <td>...</td>\n",
       "      <td>0</td>\n",
       "      <td>0</td>\n",
       "      <td>0</td>\n",
       "      <td>0</td>\n",
       "      <td>0</td>\n",
       "      <td>1</td>\n",
       "      <td>0</td>\n",
       "      <td>0</td>\n",
       "      <td>0</td>\n",
       "      <td>0</td>\n",
       "    </tr>\n",
       "    <tr>\n",
       "      <th>4</th>\n",
       "      <td>0.703140</td>\n",
       "      <td>-0.424826</td>\n",
       "      <td>1.480192</td>\n",
       "      <td>0.076087</td>\n",
       "      <td>0.857350</td>\n",
       "      <td>-0.418331</td>\n",
       "      <td>0.072899</td>\n",
       "      <td>0.050484</td>\n",
       "      <td>0.135199</td>\n",
       "      <td>0.702923</td>\n",
       "      <td>...</td>\n",
       "      <td>0</td>\n",
       "      <td>0</td>\n",
       "      <td>0</td>\n",
       "      <td>0</td>\n",
       "      <td>0</td>\n",
       "      <td>1</td>\n",
       "      <td>0</td>\n",
       "      <td>0</td>\n",
       "      <td>0</td>\n",
       "      <td>0</td>\n",
       "    </tr>\n",
       "    <tr>\n",
       "      <th>...</th>\n",
       "      <td>...</td>\n",
       "      <td>...</td>\n",
       "      <td>...</td>\n",
       "      <td>...</td>\n",
       "      <td>...</td>\n",
       "      <td>...</td>\n",
       "      <td>...</td>\n",
       "      <td>...</td>\n",
       "      <td>...</td>\n",
       "      <td>...</td>\n",
       "      <td>...</td>\n",
       "      <td>...</td>\n",
       "      <td>...</td>\n",
       "      <td>...</td>\n",
       "      <td>...</td>\n",
       "      <td>...</td>\n",
       "      <td>...</td>\n",
       "      <td>...</td>\n",
       "      <td>...</td>\n",
       "      <td>...</td>\n",
       "      <td>...</td>\n",
       "    </tr>\n",
       "    <tr>\n",
       "      <th>29995</th>\n",
       "      <td>2.196673</td>\n",
       "      <td>-0.476082</td>\n",
       "      <td>1.850668</td>\n",
       "      <td>1.364763</td>\n",
       "      <td>1.499481</td>\n",
       "      <td>-0.653094</td>\n",
       "      <td>1.309430</td>\n",
       "      <td>0.841110</td>\n",
       "      <td>0.464997</td>\n",
       "      <td>0.424089</td>\n",
       "      <td>...</td>\n",
       "      <td>0</td>\n",
       "      <td>0</td>\n",
       "      <td>0</td>\n",
       "      <td>0</td>\n",
       "      <td>0</td>\n",
       "      <td>0</td>\n",
       "      <td>0</td>\n",
       "      <td>1</td>\n",
       "      <td>0</td>\n",
       "      <td>0</td>\n",
       "    </tr>\n",
       "    <tr>\n",
       "      <th>29996</th>\n",
       "      <td>0.727382</td>\n",
       "      <td>-0.501788</td>\n",
       "      <td>1.850668</td>\n",
       "      <td>-0.304827</td>\n",
       "      <td>0.827484</td>\n",
       "      <td>0.058983</td>\n",
       "      <td>1.114808</td>\n",
       "      <td>1.871280</td>\n",
       "      <td>0.809524</td>\n",
       "      <td>0.449986</td>\n",
       "      <td>...</td>\n",
       "      <td>0</td>\n",
       "      <td>0</td>\n",
       "      <td>0</td>\n",
       "      <td>0</td>\n",
       "      <td>0</td>\n",
       "      <td>0</td>\n",
       "      <td>0</td>\n",
       "      <td>1</td>\n",
       "      <td>0</td>\n",
       "      <td>0</td>\n",
       "    </tr>\n",
       "    <tr>\n",
       "      <th>29997</th>\n",
       "      <td>1.845033</td>\n",
       "      <td>-0.429137</td>\n",
       "      <td>1.850668</td>\n",
       "      <td>0.746396</td>\n",
       "      <td>1.287926</td>\n",
       "      <td>-0.608589</td>\n",
       "      <td>0.192947</td>\n",
       "      <td>1.564670</td>\n",
       "      <td>1.214666</td>\n",
       "      <td>0.579344</td>\n",
       "      <td>...</td>\n",
       "      <td>0</td>\n",
       "      <td>0</td>\n",
       "      <td>0</td>\n",
       "      <td>0</td>\n",
       "      <td>0</td>\n",
       "      <td>0</td>\n",
       "      <td>0</td>\n",
       "      <td>1</td>\n",
       "      <td>0</td>\n",
       "      <td>0</td>\n",
       "    </tr>\n",
       "    <tr>\n",
       "      <th>29998</th>\n",
       "      <td>2.154186</td>\n",
       "      <td>-0.513671</td>\n",
       "      <td>1.850668</td>\n",
       "      <td>-0.218256</td>\n",
       "      <td>0.715484</td>\n",
       "      <td>-0.041153</td>\n",
       "      <td>0.122558</td>\n",
       "      <td>0.323272</td>\n",
       "      <td>0.805822</td>\n",
       "      <td>1.128250</td>\n",
       "      <td>...</td>\n",
       "      <td>0</td>\n",
       "      <td>0</td>\n",
       "      <td>0</td>\n",
       "      <td>0</td>\n",
       "      <td>0</td>\n",
       "      <td>0</td>\n",
       "      <td>0</td>\n",
       "      <td>1</td>\n",
       "      <td>0</td>\n",
       "      <td>0</td>\n",
       "    </tr>\n",
       "    <tr>\n",
       "      <th>29999</th>\n",
       "      <td>2.072961</td>\n",
       "      <td>-0.476836</td>\n",
       "      <td>1.850668</td>\n",
       "      <td>3.479576</td>\n",
       "      <td>1.599036</td>\n",
       "      <td>-2.500042</td>\n",
       "      <td>0.665940</td>\n",
       "      <td>0.437395</td>\n",
       "      <td>0.441375</td>\n",
       "      <td>1.266003</td>\n",
       "      <td>...</td>\n",
       "      <td>0</td>\n",
       "      <td>0</td>\n",
       "      <td>0</td>\n",
       "      <td>0</td>\n",
       "      <td>0</td>\n",
       "      <td>0</td>\n",
       "      <td>0</td>\n",
       "      <td>1</td>\n",
       "      <td>0</td>\n",
       "      <td>0</td>\n",
       "    </tr>\n",
       "  </tbody>\n",
       "</table>\n",
       "<p>30000 rows × 27 columns</p>\n",
       "</div>"
      ],
      "text/plain": [
       "          Close    Volume      year       h-c       c-l       c-o     std10  \\\n",
       "0      1.448657 -0.516283  1.480192  0.464421  0.130598 -0.285929  0.094937   \n",
       "1      0.913149 -0.468558  1.480192 -0.320905  2.733963  1.486474  0.044519   \n",
       "2      3.772680 -0.433360  1.480192  1.105049  5.643460  2.695891  3.456732   \n",
       "3     -0.192580 -0.467519  1.480192 -0.366664 -0.273844 -0.007774 -0.366429   \n",
       "4      0.703140 -0.424826  1.480192  0.076087  0.857350 -0.418331  0.072899   \n",
       "...         ...       ...       ...       ...       ...       ...       ...   \n",
       "29995  2.196673 -0.476082  1.850668  1.364763  1.499481 -0.653094  1.309430   \n",
       "29996  0.727382 -0.501788  1.850668 -0.304827  0.827484  0.058983  1.114808   \n",
       "29997  1.845033 -0.429137  1.850668  0.746396  1.287926 -0.608589  0.192947   \n",
       "29998  2.154186 -0.513671  1.850668 -0.218256  0.715484 -0.041153  0.122558   \n",
       "29999  2.072961 -0.476836  1.850668  3.479576  1.599036 -2.500042  0.665940   \n",
       "\n",
       "          std50    std100    std200  ...  month_Aug  month_Dec  month_Feb  \\\n",
       "0      0.408643  0.142394  0.338796  ...          0          0          0   \n",
       "1      0.698630  1.037634  0.936449  ...          0          0          0   \n",
       "2      2.507122  1.725706  4.821896  ...          0          0          0   \n",
       "3     -0.336467 -0.341316 -0.439368  ...          0          0          0   \n",
       "4      0.050484  0.135199  0.702923  ...          0          0          0   \n",
       "...         ...       ...       ...  ...        ...        ...        ...   \n",
       "29995  0.841110  0.464997  0.424089  ...          0          0          0   \n",
       "29996  1.871280  0.809524  0.449986  ...          0          0          0   \n",
       "29997  1.564670  1.214666  0.579344  ...          0          0          0   \n",
       "29998  0.323272  0.805822  1.128250  ...          0          0          0   \n",
       "29999  0.437395  0.441375  1.266003  ...          0          0          0   \n",
       "\n",
       "       month_Jul  month_Jun  month_Mar  month_May  month_Nov  month_Oct  \\\n",
       "0              0          0          1          0          0          0   \n",
       "1              0          0          1          0          0          0   \n",
       "2              0          0          1          0          0          0   \n",
       "3              0          0          1          0          0          0   \n",
       "4              0          0          1          0          0          0   \n",
       "...          ...        ...        ...        ...        ...        ...   \n",
       "29995          0          0          0          0          1          0   \n",
       "29996          0          0          0          0          1          0   \n",
       "29997          0          0          0          0          1          0   \n",
       "29998          0          0          0          0          1          0   \n",
       "29999          0          0          0          0          1          0   \n",
       "\n",
       "       month_Sep  \n",
       "0              0  \n",
       "1              0  \n",
       "2              0  \n",
       "3              0  \n",
       "4              0  \n",
       "...          ...  \n",
       "29995          0  \n",
       "29996          0  \n",
       "29997          0  \n",
       "29998          0  \n",
       "29999          0  \n",
       "\n",
       "[30000 rows x 27 columns]"
      ]
     },
     "execution_count": 54,
     "metadata": {},
     "output_type": "execute_result"
    }
   ],
   "source": [
    "X_test_scaled"
   ]
  },
  {
   "cell_type": "markdown",
   "metadata": {},
   "source": [
    "### Linear Regression"
   ]
  },
  {
   "cell_type": "code",
   "execution_count": 101,
   "metadata": {},
   "outputs": [
    {
     "data": {
      "text/plain": [
       "-1.24689008717122"
      ]
     },
     "execution_count": 101,
     "metadata": {},
     "output_type": "execute_result"
    }
   ],
   "source": [
    "lr2 = LinearRegression()\n",
    "cv_results_2 = cross_val_score(lr2, X_train_scaled, Y_train, cv = tscv, scoring = 'neg_root_mean_squared_error')\n",
    "cv_results_2.mean()"
   ]
  },
  {
   "cell_type": "code",
   "execution_count": 102,
   "metadata": {},
   "outputs": [
    {
     "name": "stdout",
     "output_type": "stream",
     "text": [
      "1.069643725585062\n",
      "2.7163750706597836\n"
     ]
    }
   ],
   "source": [
    "lr2.fit(X_train_scaled, Y_train)\n",
    "Y_test_pred_2 = lr2.predict(X_test_scaled)\n",
    "Y_train_pred_2 = lr2.predict(X_train_scaled)\n",
    "print(np.sqrt(sklearn.metrics.mean_squared_error(Y_train, Y_train_pred_2)))\n",
    "print(np.sqrt(sklearn.metrics.mean_squared_error(Y_test, Y_test_pred_2)))"
   ]
  },
  {
   "cell_type": "code",
   "execution_count": 103,
   "metadata": {},
   "outputs": [
    {
     "data": {
      "text/plain": [
       "array([[ 4.00541477e+01,  6.60073825e-04,  2.23080550e-03,\n",
       "         8.93738964e-02, -1.05325752e-01,  1.05496344e-01,\n",
       "         4.64701757e-02, -2.47469929e-02, -3.89847860e-03,\n",
       "        -2.72151328e-02,  1.09366930e-02, -4.49143904e-03,\n",
       "         2.29345131e-02,  4.95431772e-02,  3.94299105e-02,\n",
       "         3.13975186e-02,  1.84751507e-02,  4.05797050e-03,\n",
       "         3.11774699e-02,  2.09828422e-02,  3.13096848e-03,\n",
       "        -1.00211203e-02,  1.32189060e-02, -1.22952095e-02,\n",
       "         9.75469356e-03,  3.19506199e-02, -1.21580389e-02]])"
      ]
     },
     "execution_count": 103,
     "metadata": {},
     "output_type": "execute_result"
    }
   ],
   "source": [
    "lr2.coef_"
   ]
  },
  {
   "cell_type": "markdown",
   "metadata": {},
   "source": [
    "### Lasso"
   ]
  },
  {
   "cell_type": "code",
   "execution_count": 55,
   "metadata": {},
   "outputs": [],
   "source": [
    "lasso = Lasso()\n"
   ]
  },
  {
   "cell_type": "code",
   "execution_count": 56,
   "metadata": {},
   "outputs": [],
   "source": [
    "param_grid = {'alpha': np.linspace(0, 10, 100)}"
   ]
  },
  {
   "cell_type": "code",
   "execution_count": 57,
   "metadata": {},
   "outputs": [],
   "source": [
    "from sklearn.model_selection import GridSearchCV\n",
    "\n",
    "lasso_cv = GridSearchCV(lasso, param_grid, cv=tscv, scoring = 'neg_root_mean_squared_error')"
   ]
  },
  {
   "cell_type": "code",
   "execution_count": 58,
   "metadata": {},
   "outputs": [
    {
     "name": "stderr",
     "output_type": "stream",
     "text": [
      "/Users/zhangaijia/anaconda3/lib/python3.8/site-packages/sklearn/model_selection/_validation.py:680: UserWarning: With alpha=0, this algorithm does not converge well. You are advised to use the LinearRegression estimator\n",
      "  estimator.fit(X_train, y_train, **fit_params)\n",
      "/Users/zhangaijia/anaconda3/lib/python3.8/site-packages/sklearn/linear_model/_coordinate_descent.py:647: UserWarning: Coordinate descent with no regularization may lead to unexpected results and is discouraged.\n",
      "  model = cd_fast.enet_coordinate_descent(\n",
      "/Users/zhangaijia/anaconda3/lib/python3.8/site-packages/sklearn/linear_model/_coordinate_descent.py:647: ConvergenceWarning: Objective did not converge. You might want to increase the number of iterations, check the scale of the features or consider increasing regularisation. Duality gap: 5.746e+02, tolerance: 5.700e+01 Linear regression models with null weight for the l1 regularization term are more efficiently fitted using one of the solvers implemented in sklearn.linear_model.Ridge/RidgeCV instead.\n",
      "  model = cd_fast.enet_coordinate_descent(\n",
      "/Users/zhangaijia/anaconda3/lib/python3.8/site-packages/sklearn/model_selection/_validation.py:680: UserWarning: With alpha=0, this algorithm does not converge well. You are advised to use the LinearRegression estimator\n",
      "  estimator.fit(X_train, y_train, **fit_params)\n",
      "/Users/zhangaijia/anaconda3/lib/python3.8/site-packages/sklearn/linear_model/_coordinate_descent.py:647: UserWarning: Coordinate descent with no regularization may lead to unexpected results and is discouraged.\n",
      "  model = cd_fast.enet_coordinate_descent(\n",
      "/Users/zhangaijia/anaconda3/lib/python3.8/site-packages/sklearn/linear_model/_coordinate_descent.py:647: ConvergenceWarning: Objective did not converge. You might want to increase the number of iterations, check the scale of the features or consider increasing regularisation. Duality gap: 2.899e+04, tolerance: 9.675e+02 Linear regression models with null weight for the l1 regularization term are more efficiently fitted using one of the solvers implemented in sklearn.linear_model.Ridge/RidgeCV instead.\n",
      "  model = cd_fast.enet_coordinate_descent(\n",
      "/Users/zhangaijia/anaconda3/lib/python3.8/site-packages/sklearn/model_selection/_validation.py:680: UserWarning: With alpha=0, this algorithm does not converge well. You are advised to use the LinearRegression estimator\n",
      "  estimator.fit(X_train, y_train, **fit_params)\n",
      "/Users/zhangaijia/anaconda3/lib/python3.8/site-packages/sklearn/linear_model/_coordinate_descent.py:647: UserWarning: Coordinate descent with no regularization may lead to unexpected results and is discouraged.\n",
      "  model = cd_fast.enet_coordinate_descent(\n",
      "/Users/zhangaijia/anaconda3/lib/python3.8/site-packages/sklearn/linear_model/_coordinate_descent.py:647: ConvergenceWarning: Objective did not converge. You might want to increase the number of iterations, check the scale of the features or consider increasing regularisation. Duality gap: 1.839e+04, tolerance: 4.409e+03 Linear regression models with null weight for the l1 regularization term are more efficiently fitted using one of the solvers implemented in sklearn.linear_model.Ridge/RidgeCV instead.\n",
      "  model = cd_fast.enet_coordinate_descent(\n",
      "/Users/zhangaijia/anaconda3/lib/python3.8/site-packages/sklearn/model_selection/_search.py:926: UserWarning: With alpha=0, this algorithm does not converge well. You are advised to use the LinearRegression estimator\n",
      "  self.best_estimator_.fit(X, y, **fit_params)\n",
      "/Users/zhangaijia/anaconda3/lib/python3.8/site-packages/sklearn/linear_model/_coordinate_descent.py:647: UserWarning: Coordinate descent with no regularization may lead to unexpected results and is discouraged.\n",
      "  model = cd_fast.enet_coordinate_descent(\n",
      "/Users/zhangaijia/anaconda3/lib/python3.8/site-packages/sklearn/linear_model/_coordinate_descent.py:647: ConvergenceWarning: Objective did not converge. You might want to increase the number of iterations, check the scale of the features or consider increasing regularisation. Duality gap: 7.513e+04, tolerance: 2.106e+04 Linear regression models with null weight for the l1 regularization term are more efficiently fitted using one of the solvers implemented in sklearn.linear_model.Ridge/RidgeCV instead.\n",
      "  model = cd_fast.enet_coordinate_descent(\n"
     ]
    },
    {
     "data": {
      "text/plain": [
       "GridSearchCV(cv=TimeSeriesSplit(gap=0, max_train_size=30000, n_splits=3, test_size=None),\n",
       "             estimator=Lasso(),\n",
       "             param_grid={'alpha': array([ 0.        ,  0.1010101 ,  0.2020202 ,  0.3030303 ,  0.4040404 ,\n",
       "        0.50505051,  0.60606061,  0.70707071,  0.80808081,  0.90909091,\n",
       "        1.01010101,  1.11111111,  1.21212121,  1.31313131,  1.41414141,\n",
       "        1.51515152,  1.61616162,  1.71717172,  1.81818182,  1.91919192,\n",
       "        2.02020202,...\n",
       "        7.07070707,  7.17171717,  7.27272727,  7.37373737,  7.47474747,\n",
       "        7.57575758,  7.67676768,  7.77777778,  7.87878788,  7.97979798,\n",
       "        8.08080808,  8.18181818,  8.28282828,  8.38383838,  8.48484848,\n",
       "        8.58585859,  8.68686869,  8.78787879,  8.88888889,  8.98989899,\n",
       "        9.09090909,  9.19191919,  9.29292929,  9.39393939,  9.49494949,\n",
       "        9.5959596 ,  9.6969697 ,  9.7979798 ,  9.8989899 , 10.        ])},\n",
       "             scoring='neg_root_mean_squared_error')"
      ]
     },
     "execution_count": 58,
     "metadata": {},
     "output_type": "execute_result"
    }
   ],
   "source": [
    "lasso_cv.fit(X_train_scaled, Y_train)"
   ]
  },
  {
   "cell_type": "code",
   "execution_count": 59,
   "metadata": {},
   "outputs": [
    {
     "name": "stdout",
     "output_type": "stream",
     "text": [
      "{'alpha': 0.0}\n",
      "-1.2468900871712196\n"
     ]
    }
   ],
   "source": [
    "print(lasso_cv.best_params_)\n",
    "print(lasso_cv.best_score_)"
   ]
  },
  {
   "cell_type": "markdown",
   "metadata": {},
   "source": [
    "### Ridge"
   ]
  },
  {
   "cell_type": "code",
   "execution_count": 60,
   "metadata": {},
   "outputs": [],
   "source": [
    "ridge = Ridge()"
   ]
  },
  {
   "cell_type": "code",
   "execution_count": 61,
   "metadata": {},
   "outputs": [],
   "source": [
    "ridge_cv = GridSearchCV(ridge, param_grid, cv=tscv, scoring = 'neg_root_mean_squared_error')"
   ]
  },
  {
   "cell_type": "code",
   "execution_count": 62,
   "metadata": {},
   "outputs": [
    {
     "data": {
      "text/plain": [
       "GridSearchCV(cv=TimeSeriesSplit(gap=0, max_train_size=30000, n_splits=3, test_size=None),\n",
       "             estimator=Ridge(),\n",
       "             param_grid={'alpha': array([ 0.        ,  0.1010101 ,  0.2020202 ,  0.3030303 ,  0.4040404 ,\n",
       "        0.50505051,  0.60606061,  0.70707071,  0.80808081,  0.90909091,\n",
       "        1.01010101,  1.11111111,  1.21212121,  1.31313131,  1.41414141,\n",
       "        1.51515152,  1.61616162,  1.71717172,  1.81818182,  1.91919192,\n",
       "        2.02020202,...\n",
       "        7.07070707,  7.17171717,  7.27272727,  7.37373737,  7.47474747,\n",
       "        7.57575758,  7.67676768,  7.77777778,  7.87878788,  7.97979798,\n",
       "        8.08080808,  8.18181818,  8.28282828,  8.38383838,  8.48484848,\n",
       "        8.58585859,  8.68686869,  8.78787879,  8.88888889,  8.98989899,\n",
       "        9.09090909,  9.19191919,  9.29292929,  9.39393939,  9.49494949,\n",
       "        9.5959596 ,  9.6969697 ,  9.7979798 ,  9.8989899 , 10.        ])},\n",
       "             scoring='neg_root_mean_squared_error')"
      ]
     },
     "execution_count": 62,
     "metadata": {},
     "output_type": "execute_result"
    }
   ],
   "source": [
    "ridge_cv.fit(X_train_scaled, Y_train)"
   ]
  },
  {
   "cell_type": "code",
   "execution_count": 63,
   "metadata": {},
   "outputs": [
    {
     "name": "stdout",
     "output_type": "stream",
     "text": [
      "{'alpha': 0.10101010101010101}\n",
      "-1.246889968234491\n"
     ]
    }
   ],
   "source": [
    "print(ridge_cv.best_params_)\n",
    "print(ridge_cv.best_score_)"
   ]
  },
  {
   "cell_type": "code",
   "execution_count": 64,
   "metadata": {},
   "outputs": [
    {
     "name": "stdout",
     "output_type": "stream",
     "text": [
      "1.1441377027373592\n",
      "7.378705699994064\n"
     ]
    }
   ],
   "source": [
    "ridge = Ridge(alpha=0.1)\n",
    "ridge.fit(X_train_scaled, Y_train)\n",
    "Y_train_ridge_pred = ridge.predict(X_train_scaled)\n",
    "Y_test_ridge_pred = ridge.predict(X_test_scaled)\n",
    "\n",
    "print(np.sqrt(sklearn.metrics.mean_squared_error(Y_train, Y_train_ridge_pred)))\n",
    "print(np.sqrt(sklearn.metrics.mean_squared_error(Y_test, Y_test_ridge_pred)))\n"
   ]
  },
  {
   "cell_type": "markdown",
   "metadata": {},
   "source": [
    "#### Feature Importance"
   ]
  },
  {
   "cell_type": "code",
   "execution_count": 78,
   "metadata": {},
   "outputs": [
    {
     "data": {
      "image/png": "[encoded data removed]",
      "text/plain": [
       "<Figure size 648x504 with 1 Axes>"
      ]
     },
     "metadata": {
      "needs_background": "light"
     },
     "output_type": "display_data"
    }
   ],
   "source": [
    "coefs = pd.DataFrame(\n",
    "   ridge.coef_.T,\n",
    "   columns=['Coefficients'], \n",
    "   index=X_train_scaled.columns\n",
    ")\n",
    "\n",
    "coefs.plot(kind='barh', figsize=(9, 7))\n",
    "plt.title('Ridge model')\n",
    "plt.axvline(x=0, color='.5')\n",
    "plt.subplots_adjust(left=.3)"
   ]
  },
  {
   "cell_type": "code",
   "execution_count": 100,
   "metadata": {},
   "outputs": [
    {
     "data": {
      "text/plain": [
       "array([[ 4.00540476e+01,  6.58404160e-04,  2.24739998e-03,\n",
       "         8.93692124e-02, -1.05326908e-01,  1.05496873e-01,\n",
       "         4.64816936e-02, -2.47211937e-02, -3.88554886e-03,\n",
       "        -2.71802430e-02,  1.09440556e-02, -4.48435273e-03,\n",
       "         2.29340023e-02,  4.95426664e-02,  3.94289674e-02,\n",
       "         3.13967446e-02,  1.84731757e-02,  4.05940844e-03,\n",
       "         3.11758943e-02,  2.09807614e-02,  3.13229499e-03,\n",
       "        -1.00214110e-02,  1.32155395e-02, -1.22964854e-02,\n",
       "         9.75275456e-03,  3.19501311e-02, -1.21552191e-02]])"
      ]
     },
     "execution_count": 100,
     "metadata": {},
     "output_type": "execute_result"
    }
   ],
   "source": [
    "ridge.coef_"
   ]
  },
  {
   "cell_type": "code",
   "execution_count": 113,
   "metadata": {},
   "outputs": [
    {
     "data": {
      "text/plain": [
       "array([23.19871557])"
      ]
     },
     "execution_count": 113,
     "metadata": {},
     "output_type": "execute_result"
    }
   ],
   "source": [
    "ridge.intercept_"
   ]
  },
  {
   "cell_type": "code",
   "execution_count": 105,
   "metadata": {},
   "outputs": [
    {
     "data": {
      "text/plain": [
       "array([[40.01251361]])"
      ]
     },
     "execution_count": 105,
     "metadata": {},
     "output_type": "execute_result"
    }
   ],
   "source": [
    "LinearRegression().fit(np.array(X_train_scaled[\"Close\"]).reshape(-1,1), np.array(X_train[\"Close\"]).reshape(-1,1)).coef_"
   ]
  },
  {
   "cell_type": "code",
   "execution_count": 111,
   "metadata": {},
   "outputs": [
    {
     "data": {
      "text/plain": [
       "array([23.22560493])"
      ]
     },
     "execution_count": 111,
     "metadata": {},
     "output_type": "execute_result"
    }
   ],
   "source": [
    "LinearRegression().fit(np.array(X_train_scaled[\"Close\"]).reshape(-1,1), np.array(X_train[\"Close\"]).reshape(-1,1)).intercept_"
   ]
  },
  {
   "cell_type": "markdown",
   "metadata": {},
   "source": [
    "### RFE"
   ]
  },
  {
   "cell_type": "code",
   "execution_count": 79,
   "metadata": {},
   "outputs": [
    {
     "data": {
      "text/plain": [
       "RFECV(cv=TimeSeriesSplit(gap=0, max_train_size=30000, n_splits=3, test_size=None),\n",
       "      estimator=LinearRegression(), scoring='neg_root_mean_squared_error')"
      ]
     },
     "execution_count": 79,
     "metadata": {},
     "output_type": "execute_result"
    }
   ],
   "source": [
    "from sklearn.feature_selection import RFECV\n",
    "linreg_rfe = LinearRegression()\n",
    "rfecv = RFECV(estimator=linreg_rfe, cv=tscv, scoring='neg_root_mean_squared_error')\n",
    "rfecv.fit(X_train_scaled, Y_train)"
   ]
  },
  {
   "cell_type": "code",
   "execution_count": 80,
   "metadata": {},
   "outputs": [
    {
     "data": {
      "text/plain": [
       "{'mean_test_score': array([-1.22948988, -1.23046708, -1.24155472, -1.24242193, -1.24243588,\n",
       "        -1.24792486, -1.24796275, -1.24813428, -1.24856877, -1.24855488,\n",
       "        -1.24960976, -1.24753256, -1.24662252, -1.24723774, -1.24710951,\n",
       "        -1.24729322, -1.24709798, -1.24708439, -1.24698271, -1.24688797,\n",
       "        -1.24692992, -1.2468588 , -1.24684562, -1.24686973, -1.24688638,\n",
       "        -1.24689083, -1.24689009]),\n",
       " 'std_test_score': array([0.11048797, 0.10870779, 0.09051144, 0.09095181, 0.09100701,\n",
       "        0.08397424, 0.0840816 , 0.08358232, 0.08297942, 0.08320322,\n",
       "        0.08341051, 0.08641897, 0.08763162, 0.08670061, 0.08672523,\n",
       "        0.0862077 , 0.08593023, 0.08582504, 0.08585528, 0.08630684,\n",
       "        0.08631371, 0.08627283, 0.0862855 , 0.08624747, 0.0862268 ,\n",
       "        0.08623242, 0.08623342]),\n",
       " 'split0_test_score': array([-1.33970974, -1.33860034, -1.33692549, -1.3379347 , -1.33824558,\n",
       "        -1.33871779, -1.33889794, -1.33864527, -1.33865356, -1.33859129,\n",
       "        -1.33857303, -1.33856749, -1.3385142 , -1.33851284, -1.33850675,\n",
       "        -1.33848039, -1.33847023, -1.3384721 , -1.33846437, -1.33846574,\n",
       "        -1.33840434, -1.33841004, -1.33840434, -1.33840802, -1.33840934,\n",
       "        -1.33840738, -1.33839614]),\n",
       " 'split1_test_score': array([-1.07846294, -1.0817618 , -1.11993157, -1.1200577 , -1.12010798,\n",
       "        -1.13623367, -1.13614257, -1.13703939, -1.13839633, -1.13792991,\n",
       "        -1.13804518, -1.13139754, -1.12866354, -1.13069789, -1.13058147,\n",
       "        -1.13161878, -1.13202641, -1.13221598, -1.13210416, -1.13121746,\n",
       "        -1.13119695, -1.13123849, -1.13120546, -1.13129017, -1.13133771,\n",
       "        -1.13132865, -1.13132097]),\n",
       " 'split2_test_score': array([-1.27029697, -1.2710391 , -1.26780711, -1.26927339, -1.26895407,\n",
       "        -1.26882313, -1.26884774, -1.26871817, -1.26865642, -1.26914345,\n",
       "        -1.27221107, -1.27263265, -1.27268981, -1.27250248, -1.2722403 ,\n",
       "        -1.2717805 , -1.27079729, -1.2705651 , -1.2703796 , -1.2709807 ,\n",
       "        -1.27118846, -1.27092788, -1.27092705, -1.27091101, -1.27091208,\n",
       "        -1.27093648, -1.27095315])}"
      ]
     },
     "execution_count": 80,
     "metadata": {},
     "output_type": "execute_result"
    }
   ],
   "source": [
    "rfecv.cv_results_"
   ]
  },
  {
   "cell_type": "code",
   "execution_count": 81,
   "metadata": {},
   "outputs": [
    {
     "data": {
      "image/png": "[encoded data removed]",
      "text/plain": [
       "<Figure size 1152x432 with 1 Axes>"
      ]
     },
     "metadata": {
      "needs_background": "light"
     },
     "output_type": "display_data"
    }
   ],
   "source": [
    "plt.figure( figsize=(16, 6))\n",
    "plt.title('Total features selected versus validation score')\n",
    "plt.xlabel('Total features selected')\n",
    "plt.ylabel('CV score')\n",
    "plt.plot(range(1, len(rfecv.cv_results_['mean_test_score']) + 1), rfecv.cv_results_['mean_test_score'])\n",
    "plt.show()"
   ]
  },
  {
   "cell_type": "code",
   "execution_count": 82,
   "metadata": {},
   "outputs": [
    {
     "data": {
      "text/html": [
       "<div>\n",
       "<style scoped>\n",
       "    .dataframe tbody tr th:only-of-type {\n",
       "        vertical-align: middle;\n",
       "    }\n",
       "\n",
       "    .dataframe tbody tr th {\n",
       "        vertical-align: top;\n",
       "    }\n",
       "\n",
       "    .dataframe thead th {\n",
       "        text-align: right;\n",
       "    }\n",
       "</style>\n",
       "<table border=\"1\" class=\"dataframe\">\n",
       "  <thead>\n",
       "    <tr style=\"text-align: right;\">\n",
       "      <th></th>\n",
       "      <th>feature</th>\n",
       "      <th>support</th>\n",
       "      <th>ranking</th>\n",
       "    </tr>\n",
       "  </thead>\n",
       "  <tbody>\n",
       "    <tr>\n",
       "      <th>0</th>\n",
       "      <td>0</td>\n",
       "      <td>True</td>\n",
       "      <td>1</td>\n",
       "    </tr>\n",
       "    <tr>\n",
       "      <th>4</th>\n",
       "      <td>4</td>\n",
       "      <td>False</td>\n",
       "      <td>2</td>\n",
       "    </tr>\n",
       "    <tr>\n",
       "      <th>5</th>\n",
       "      <td>5</td>\n",
       "      <td>False</td>\n",
       "      <td>3</td>\n",
       "    </tr>\n",
       "    <tr>\n",
       "      <th>3</th>\n",
       "      <td>3</td>\n",
       "      <td>False</td>\n",
       "      <td>4</td>\n",
       "    </tr>\n",
       "    <tr>\n",
       "      <th>6</th>\n",
       "      <td>6</td>\n",
       "      <td>False</td>\n",
       "      <td>5</td>\n",
       "    </tr>\n",
       "    <tr>\n",
       "      <th>9</th>\n",
       "      <td>9</td>\n",
       "      <td>False</td>\n",
       "      <td>6</td>\n",
       "    </tr>\n",
       "    <tr>\n",
       "      <th>25</th>\n",
       "      <td>25</td>\n",
       "      <td>False</td>\n",
       "      <td>7</td>\n",
       "    </tr>\n",
       "    <tr>\n",
       "      <th>18</th>\n",
       "      <td>18</td>\n",
       "      <td>False</td>\n",
       "      <td>8</td>\n",
       "    </tr>\n",
       "    <tr>\n",
       "      <th>7</th>\n",
       "      <td>7</td>\n",
       "      <td>False</td>\n",
       "      <td>9</td>\n",
       "    </tr>\n",
       "    <tr>\n",
       "      <th>13</th>\n",
       "      <td>13</td>\n",
       "      <td>False</td>\n",
       "      <td>10</td>\n",
       "    </tr>\n",
       "  </tbody>\n",
       "</table>\n",
       "</div>"
      ],
      "text/plain": [
       "   feature support ranking\n",
       "0        0    True       1\n",
       "4        4   False       2\n",
       "5        5   False       3\n",
       "3        3   False       4\n",
       "6        6   False       5\n",
       "9        9   False       6\n",
       "25      25   False       7\n",
       "18      18   False       8\n",
       "7        7   False       9\n",
       "13      13   False      10"
      ]
     },
     "execution_count": 82,
     "metadata": {},
     "output_type": "execute_result"
    }
   ],
   "source": [
    "df_features = pd.DataFrame(columns = ['feature', 'support', 'ranking'])\n",
    "\n",
    "for i in range(X_train_v1.shape[1]):\n",
    "    row = {'feature': i, 'support': rfecv.support_[i], 'ranking': rfecv.ranking_[i]}\n",
    "    df_features = df_features.append(row, ignore_index=True)\n",
    "    \n",
    "df_features.sort_values(by='ranking').head(10)"
   ]
  },
  {
   "cell_type": "code",
   "execution_count": 83,
   "metadata": {},
   "outputs": [
    {
     "data": {
      "text/html": [
       "<div>\n",
       "<style scoped>\n",
       "    .dataframe tbody tr th:only-of-type {\n",
       "        vertical-align: middle;\n",
       "    }\n",
       "\n",
       "    .dataframe tbody tr th {\n",
       "        vertical-align: top;\n",
       "    }\n",
       "\n",
       "    .dataframe thead th {\n",
       "        text-align: right;\n",
       "    }\n",
       "</style>\n",
       "<table border=\"1\" class=\"dataframe\">\n",
       "  <thead>\n",
       "    <tr style=\"text-align: right;\">\n",
       "      <th></th>\n",
       "      <th>feature</th>\n",
       "      <th>support</th>\n",
       "      <th>ranking</th>\n",
       "    </tr>\n",
       "  </thead>\n",
       "  <tbody>\n",
       "    <tr>\n",
       "      <th>0</th>\n",
       "      <td>0</td>\n",
       "      <td>True</td>\n",
       "      <td>1</td>\n",
       "    </tr>\n",
       "  </tbody>\n",
       "</table>\n",
       "</div>"
      ],
      "text/plain": [
       "  feature support ranking\n",
       "0       0    True       1"
      ]
     },
     "execution_count": 83,
     "metadata": {},
     "output_type": "execute_result"
    }
   ],
   "source": [
    "df_features[df_features['support']==True]\n"
   ]
  },
  {
   "cell_type": "code",
   "execution_count": 84,
   "metadata": {},
   "outputs": [],
   "source": [
    "X_train_rfe = rfecv.transform(X_train_scaled)\n",
    "X_test_rfe = rfecv.transform(X_test_scaled)"
   ]
  },
  {
   "cell_type": "code",
   "execution_count": 85,
   "metadata": {},
   "outputs": [
    {
     "data": {
      "text/plain": [
       "array([[-0.57043742],\n",
       "       [-0.57023323],\n",
       "       [-0.57023323],\n",
       "       ...,\n",
       "       [ 0.72763224],\n",
       "       [-0.12055241],\n",
       "       [-0.4827391 ]])"
      ]
     },
     "execution_count": 85,
     "metadata": {},
     "output_type": "execute_result"
    }
   ],
   "source": [
    "X_train_rfe"
   ]
  },
  {
   "cell_type": "code",
   "execution_count": 86,
   "metadata": {},
   "outputs": [
    {
     "data": {
      "text/plain": [
       "1"
      ]
     },
     "execution_count": 86,
     "metadata": {},
     "output_type": "execute_result"
    }
   ],
   "source": [
    "X_train_rfe.shape[1]"
   ]
  },
  {
   "cell_type": "code",
   "execution_count": 87,
   "metadata": {},
   "outputs": [],
   "source": [
    "cv_results_rfe = cross_val_score(linreg_rfe, X_train_rfe, Y_train, cv = tscv, scoring = 'neg_root_mean_squared_error')"
   ]
  },
  {
   "cell_type": "code",
   "execution_count": 88,
   "metadata": {},
   "outputs": [
    {
     "data": {
      "text/plain": [
       "-1.2294898817498414"
      ]
     },
     "execution_count": 88,
     "metadata": {},
     "output_type": "execute_result"
    }
   ],
   "source": [
    "cv_results_rfe.mean()"
   ]
  },
  {
   "cell_type": "code",
   "execution_count": 89,
   "metadata": {},
   "outputs": [
    {
     "data": {
      "text/plain": [
       "LinearRegression()"
      ]
     },
     "execution_count": 89,
     "metadata": {},
     "output_type": "execute_result"
    }
   ],
   "source": [
    "linreg_rfe.fit(X_train_rfe, Y_train)"
   ]
  },
  {
   "cell_type": "code",
   "execution_count": 90,
   "metadata": {},
   "outputs": [],
   "source": [
    "Y_train_rfe_pred = linreg_rfe.predict(X_train_rfe)\n",
    "Y_test_rfe_pred = linreg_rfe.predict(X_test_rfe)"
   ]
  },
  {
   "cell_type": "code",
   "execution_count": 114,
   "metadata": {},
   "outputs": [
    {
     "name": "stdout",
     "output_type": "stream",
     "text": [
      "1.0717534954800483\n",
      "2.720829014330574\n"
     ]
    }
   ],
   "source": [
    "print(np.sqrt(sklearn.metrics.mean_squared_error(Y_train, Y_train_rfe_pred)))\n",
    "print(np.sqrt(sklearn.metrics.mean_squared_error(Y_test, Y_test_rfe_pred)))"
   ]
  },
  {
   "cell_type": "markdown",
   "metadata": {},
   "source": [
    "#### RFE + Ridge"
   ]
  },
  {
   "cell_type": "code",
   "execution_count": 265,
   "metadata": {},
   "outputs": [
    {
     "name": "stdout",
     "output_type": "stream",
     "text": [
      "{'alpha': 0.10101010101010101}\n",
      "-1.2294870044604844\n"
     ]
    }
   ],
   "source": [
    "ridge_rfe = Ridge()\n",
    "ridge_rfe_cv = GridSearchCV(ridge_rfe, param_grid, cv=tscv, scoring = 'neg_root_mean_squared_error')\n",
    "ridge_rfe_cv.fit(X_train_rfe, Y_train)\n",
    "print(ridge_rfe_cv.best_params_)\n",
    "print(ridge_rfe_cv.best_score_)"
   ]
  },
  {
   "cell_type": "code",
   "execution_count": 117,
   "metadata": {},
   "outputs": [
    {
     "name": "stdout",
     "output_type": "stream",
     "text": [
      "1.0717534959135477\n",
      "2.720831317607202\n"
     ]
    }
   ],
   "source": [
    "ridge_rfe = Ridge(alpha = 0.1)\n",
    "ridge_rfe.fit(X_train_rfe, Y_train)\n",
    "Y_train_ridge_rfe_pred = ridge_rfe.predict(X_train_rfe)\n",
    "Y_test_ridge_rfe_pred = ridge_rfe.predict(X_test_rfe)\n",
    "print(np.sqrt(sklearn.metrics.mean_squared_error(Y_train, Y_train_ridge_rfe_pred)))\n",
    "print(np.sqrt(sklearn.metrics.mean_squared_error(Y_test, Y_test_ridge_rfe_pred)))"
   ]
  },
  {
   "cell_type": "code",
   "execution_count": 98,
   "metadata": {},
   "outputs": [
    {
     "data": {
      "text/plain": [
       "array([[40.03322627]])"
      ]
     },
     "execution_count": 98,
     "metadata": {},
     "output_type": "execute_result"
    }
   ],
   "source": [
    "ridge_rfe.coef_\n"
   ]
  },
  {
   "cell_type": "code",
   "execution_count": 116,
   "metadata": {},
   "outputs": [
    {
     "data": {
      "text/plain": [
       "array([23.23850162])"
      ]
     },
     "execution_count": 116,
     "metadata": {},
     "output_type": "execute_result"
    }
   ],
   "source": [
    "ridge_rfe.intercept_"
   ]
  },
  {
   "cell_type": "markdown",
   "metadata": {},
   "source": [
    "### Principle component regression"
   ]
  },
  {
   "cell_type": "code",
   "execution_count": 273,
   "metadata": {},
   "outputs": [],
   "source": [
    "import sklearn.model_selection\n",
    "from sklearn.decomposition import PCA\n"
   ]
  },
  {
   "cell_type": "code",
   "execution_count": 274,
   "metadata": {},
   "outputs": [],
   "source": [
    "pca = PCA()\n"
   ]
  },
  {
   "cell_type": "code",
   "execution_count": 275,
   "metadata": {},
   "outputs": [],
   "source": [
    "pca.fit(X_train_scaled)\n",
    "X_train_reduced = pca.transform(X_train_scaled)\n",
    "X_test_reduced = pca.transform(X_test_scaled)"
   ]
  },
  {
   "cell_type": "code",
   "execution_count": 276,
   "metadata": {},
   "outputs": [
    {
     "data": {
      "text/plain": [
       "(131330, 27)"
      ]
     },
     "execution_count": 276,
     "metadata": {},
     "output_type": "execute_result"
    }
   ],
   "source": [
    "X_train_reduced.shape"
   ]
  },
  {
   "cell_type": "code",
   "execution_count": 277,
   "metadata": {},
   "outputs": [],
   "source": [
    "lr_pca = LinearRegression()"
   ]
  },
  {
   "cell_type": "code",
   "execution_count": 306,
   "metadata": {},
   "outputs": [],
   "source": [
    "mse = []\n",
    "for i in np.arange(1, 27):\n",
    "    score = -1*sklearn.model_selection.cross_val_score(lr_pca,\n",
    "               X_train_reduced[:,:i], Y_train, cv=tscv, scoring='neg_root_mean_squared_error').mean()\n",
    "    mse.append(score)"
   ]
  },
  {
   "cell_type": "code",
   "execution_count": 307,
   "metadata": {},
   "outputs": [
    {
     "data": {
      "text/plain": [
       "Text(0.5, 1.0, 'hp')"
      ]
     },
     "execution_count": 307,
     "metadata": {},
     "output_type": "execute_result"
    },
    {
     "data": {
      "image/png": "[encoded data removed]",
      "text/plain": [
       "<Figure size 432x288 with 1 Axes>"
      ]
     },
     "metadata": {
      "needs_background": "light"
     },
     "output_type": "display_data"
    }
   ],
   "source": [
    "plt.plot(mse)\n",
    "plt.xlabel('Number of Principal Components')\n",
    "plt.ylabel('MSE')\n",
    "plt.title('hp')"
   ]
  },
  {
   "cell_type": "code",
   "execution_count": 308,
   "metadata": {},
   "outputs": [
    {
     "data": {
      "text/html": [
       "<div>\n",
       "<style scoped>\n",
       "    .dataframe tbody tr th:only-of-type {\n",
       "        vertical-align: middle;\n",
       "    }\n",
       "\n",
       "    .dataframe tbody tr th {\n",
       "        vertical-align: top;\n",
       "    }\n",
       "\n",
       "    .dataframe thead th {\n",
       "        text-align: right;\n",
       "    }\n",
       "</style>\n",
       "<table border=\"1\" class=\"dataframe\">\n",
       "  <thead>\n",
       "    <tr style=\"text-align: right;\">\n",
       "      <th></th>\n",
       "      <th>0</th>\n",
       "      <th>1</th>\n",
       "      <th>2</th>\n",
       "      <th>3</th>\n",
       "      <th>4</th>\n",
       "      <th>5</th>\n",
       "      <th>6</th>\n",
       "      <th>7</th>\n",
       "      <th>8</th>\n",
       "      <th>9</th>\n",
       "      <th>...</th>\n",
       "      <th>17</th>\n",
       "      <th>18</th>\n",
       "      <th>19</th>\n",
       "      <th>20</th>\n",
       "      <th>21</th>\n",
       "      <th>22</th>\n",
       "      <th>23</th>\n",
       "      <th>24</th>\n",
       "      <th>25</th>\n",
       "      <th>26</th>\n",
       "    </tr>\n",
       "  </thead>\n",
       "  <tbody>\n",
       "    <tr>\n",
       "      <th>0</th>\n",
       "      <td>-1.810134</td>\n",
       "      <td>-0.128979</td>\n",
       "      <td>0.240644</td>\n",
       "      <td>-2.460070</td>\n",
       "      <td>-0.324731</td>\n",
       "      <td>0.312487</td>\n",
       "      <td>-0.512902</td>\n",
       "      <td>-0.688663</td>\n",
       "      <td>-0.014101</td>\n",
       "      <td>0.186144</td>\n",
       "      <td>...</td>\n",
       "      <td>0.284515</td>\n",
       "      <td>-0.664966</td>\n",
       "      <td>-0.330223</td>\n",
       "      <td>0.029648</td>\n",
       "      <td>-0.021146</td>\n",
       "      <td>-0.029795</td>\n",
       "      <td>-0.075789</td>\n",
       "      <td>-0.023430</td>\n",
       "      <td>-0.102350</td>\n",
       "      <td>-0.018486</td>\n",
       "    </tr>\n",
       "    <tr>\n",
       "      <th>1</th>\n",
       "      <td>-1.807630</td>\n",
       "      <td>-0.128102</td>\n",
       "      <td>0.186137</td>\n",
       "      <td>-2.473127</td>\n",
       "      <td>-0.315414</td>\n",
       "      <td>0.347206</td>\n",
       "      <td>-0.156171</td>\n",
       "      <td>0.489954</td>\n",
       "      <td>-0.684419</td>\n",
       "      <td>0.009027</td>\n",
       "      <td>...</td>\n",
       "      <td>0.278075</td>\n",
       "      <td>-0.671747</td>\n",
       "      <td>-0.329075</td>\n",
       "      <td>0.010490</td>\n",
       "      <td>-0.036712</td>\n",
       "      <td>-0.041988</td>\n",
       "      <td>-0.083201</td>\n",
       "      <td>-0.023543</td>\n",
       "      <td>-0.105056</td>\n",
       "      <td>-0.019002</td>\n",
       "    </tr>\n",
       "    <tr>\n",
       "      <th>2</th>\n",
       "      <td>-1.810168</td>\n",
       "      <td>-0.124957</td>\n",
       "      <td>0.225954</td>\n",
       "      <td>-2.463548</td>\n",
       "      <td>-0.309923</td>\n",
       "      <td>0.341987</td>\n",
       "      <td>-0.172874</td>\n",
       "      <td>0.431416</td>\n",
       "      <td>0.723238</td>\n",
       "      <td>-0.103510</td>\n",
       "      <td>...</td>\n",
       "      <td>0.285253</td>\n",
       "      <td>-0.666040</td>\n",
       "      <td>-0.331199</td>\n",
       "      <td>0.025794</td>\n",
       "      <td>-0.021473</td>\n",
       "      <td>-0.010479</td>\n",
       "      <td>-0.072493</td>\n",
       "      <td>-0.022705</td>\n",
       "      <td>-0.105471</td>\n",
       "      <td>-0.018963</td>\n",
       "    </tr>\n",
       "    <tr>\n",
       "      <th>3</th>\n",
       "      <td>-1.815926</td>\n",
       "      <td>-0.124900</td>\n",
       "      <td>0.248964</td>\n",
       "      <td>-2.457186</td>\n",
       "      <td>-0.330219</td>\n",
       "      <td>0.324699</td>\n",
       "      <td>-0.013974</td>\n",
       "      <td>0.016155</td>\n",
       "      <td>0.016198</td>\n",
       "      <td>0.118703</td>\n",
       "      <td>...</td>\n",
       "      <td>0.289019</td>\n",
       "      <td>-0.658526</td>\n",
       "      <td>-0.340260</td>\n",
       "      <td>0.017908</td>\n",
       "      <td>-0.043017</td>\n",
       "      <td>-0.018652</td>\n",
       "      <td>-0.089092</td>\n",
       "      <td>-0.028266</td>\n",
       "      <td>0.395150</td>\n",
       "      <td>-0.014547</td>\n",
       "    </tr>\n",
       "    <tr>\n",
       "      <th>4</th>\n",
       "      <td>-1.815588</td>\n",
       "      <td>-0.128753</td>\n",
       "      <td>0.223298</td>\n",
       "      <td>-2.463025</td>\n",
       "      <td>-0.343978</td>\n",
       "      <td>0.304035</td>\n",
       "      <td>0.782935</td>\n",
       "      <td>-0.168653</td>\n",
       "      <td>0.040009</td>\n",
       "      <td>0.398100</td>\n",
       "      <td>...</td>\n",
       "      <td>0.284891</td>\n",
       "      <td>-0.662746</td>\n",
       "      <td>-0.328506</td>\n",
       "      <td>0.029706</td>\n",
       "      <td>-0.021052</td>\n",
       "      <td>-0.032107</td>\n",
       "      <td>-0.075867</td>\n",
       "      <td>-0.022589</td>\n",
       "      <td>-0.102295</td>\n",
       "      <td>-0.018298</td>\n",
       "    </tr>\n",
       "    <tr>\n",
       "      <th>...</th>\n",
       "      <td>...</td>\n",
       "      <td>...</td>\n",
       "      <td>...</td>\n",
       "      <td>...</td>\n",
       "      <td>...</td>\n",
       "      <td>...</td>\n",
       "      <td>...</td>\n",
       "      <td>...</td>\n",
       "      <td>...</td>\n",
       "      <td>...</td>\n",
       "      <td>...</td>\n",
       "      <td>...</td>\n",
       "      <td>...</td>\n",
       "      <td>...</td>\n",
       "      <td>...</td>\n",
       "      <td>...</td>\n",
       "      <td>...</td>\n",
       "      <td>...</td>\n",
       "      <td>...</td>\n",
       "      <td>...</td>\n",
       "      <td>...</td>\n",
       "    </tr>\n",
       "    <tr>\n",
       "      <th>131325</th>\n",
       "      <td>1.904071</td>\n",
       "      <td>1.665754</td>\n",
       "      <td>-0.621695</td>\n",
       "      <td>1.139873</td>\n",
       "      <td>-0.468750</td>\n",
       "      <td>-0.330138</td>\n",
       "      <td>-0.241613</td>\n",
       "      <td>0.588967</td>\n",
       "      <td>-0.670541</td>\n",
       "      <td>0.267923</td>\n",
       "      <td>...</td>\n",
       "      <td>0.041644</td>\n",
       "      <td>0.160959</td>\n",
       "      <td>0.007798</td>\n",
       "      <td>0.099838</td>\n",
       "      <td>-0.028524</td>\n",
       "      <td>0.031548</td>\n",
       "      <td>-0.011956</td>\n",
       "      <td>-0.126637</td>\n",
       "      <td>-0.106245</td>\n",
       "      <td>-0.020852</td>\n",
       "    </tr>\n",
       "    <tr>\n",
       "      <th>131326</th>\n",
       "      <td>0.059223</td>\n",
       "      <td>0.816353</td>\n",
       "      <td>-0.904837</td>\n",
       "      <td>1.370102</td>\n",
       "      <td>-0.249958</td>\n",
       "      <td>0.298528</td>\n",
       "      <td>-0.213157</td>\n",
       "      <td>0.534690</td>\n",
       "      <td>-0.696176</td>\n",
       "      <td>0.004523</td>\n",
       "      <td>...</td>\n",
       "      <td>0.127236</td>\n",
       "      <td>-0.024834</td>\n",
       "      <td>-0.066102</td>\n",
       "      <td>0.073861</td>\n",
       "      <td>-0.036595</td>\n",
       "      <td>0.002479</td>\n",
       "      <td>-0.002784</td>\n",
       "      <td>0.094295</td>\n",
       "      <td>-0.104282</td>\n",
       "      <td>-0.025739</td>\n",
       "    </tr>\n",
       "    <tr>\n",
       "      <th>131327</th>\n",
       "      <td>1.240891</td>\n",
       "      <td>0.122984</td>\n",
       "      <td>-0.712189</td>\n",
       "      <td>1.256172</td>\n",
       "      <td>-0.301224</td>\n",
       "      <td>-0.248023</td>\n",
       "      <td>-0.195210</td>\n",
       "      <td>0.542208</td>\n",
       "      <td>-0.685014</td>\n",
       "      <td>0.101519</td>\n",
       "      <td>...</td>\n",
       "      <td>0.084943</td>\n",
       "      <td>0.167374</td>\n",
       "      <td>-0.001393</td>\n",
       "      <td>0.047790</td>\n",
       "      <td>-0.036895</td>\n",
       "      <td>-0.079443</td>\n",
       "      <td>-0.054120</td>\n",
       "      <td>0.196970</td>\n",
       "      <td>-0.111272</td>\n",
       "      <td>-0.035891</td>\n",
       "    </tr>\n",
       "    <tr>\n",
       "      <th>131328</th>\n",
       "      <td>-0.431446</td>\n",
       "      <td>0.686156</td>\n",
       "      <td>-0.617663</td>\n",
       "      <td>1.428060</td>\n",
       "      <td>0.289086</td>\n",
       "      <td>-0.085350</td>\n",
       "      <td>-0.154148</td>\n",
       "      <td>0.493123</td>\n",
       "      <td>-0.699928</td>\n",
       "      <td>-0.031624</td>\n",
       "      <td>...</td>\n",
       "      <td>0.062293</td>\n",
       "      <td>0.155796</td>\n",
       "      <td>0.005590</td>\n",
       "      <td>0.083800</td>\n",
       "      <td>-0.032473</td>\n",
       "      <td>-0.002721</td>\n",
       "      <td>-0.006142</td>\n",
       "      <td>0.036950</td>\n",
       "      <td>-0.105257</td>\n",
       "      <td>-0.025373</td>\n",
       "    </tr>\n",
       "    <tr>\n",
       "      <th>131329</th>\n",
       "      <td>-0.977920</td>\n",
       "      <td>0.104655</td>\n",
       "      <td>-0.670391</td>\n",
       "      <td>1.456162</td>\n",
       "      <td>0.163186</td>\n",
       "      <td>-0.234210</td>\n",
       "      <td>-0.144070</td>\n",
       "      <td>0.472633</td>\n",
       "      <td>-0.722998</td>\n",
       "      <td>-0.268292</td>\n",
       "      <td>...</td>\n",
       "      <td>0.131343</td>\n",
       "      <td>-0.044562</td>\n",
       "      <td>-0.080405</td>\n",
       "      <td>0.071759</td>\n",
       "      <td>-0.026211</td>\n",
       "      <td>-0.004923</td>\n",
       "      <td>-0.014162</td>\n",
       "      <td>0.124714</td>\n",
       "      <td>-0.105223</td>\n",
       "      <td>-0.028354</td>\n",
       "    </tr>\n",
       "  </tbody>\n",
       "</table>\n",
       "<p>131330 rows × 27 columns</p>\n",
       "</div>"
      ],
      "text/plain": [
       "              0         1         2         3         4         5         6   \\\n",
       "0      -1.810134 -0.128979  0.240644 -2.460070 -0.324731  0.312487 -0.512902   \n",
       "1      -1.807630 -0.128102  0.186137 -2.473127 -0.315414  0.347206 -0.156171   \n",
       "2      -1.810168 -0.124957  0.225954 -2.463548 -0.309923  0.341987 -0.172874   \n",
       "3      -1.815926 -0.124900  0.248964 -2.457186 -0.330219  0.324699 -0.013974   \n",
       "4      -1.815588 -0.128753  0.223298 -2.463025 -0.343978  0.304035  0.782935   \n",
       "...          ...       ...       ...       ...       ...       ...       ...   \n",
       "131325  1.904071  1.665754 -0.621695  1.139873 -0.468750 -0.330138 -0.241613   \n",
       "131326  0.059223  0.816353 -0.904837  1.370102 -0.249958  0.298528 -0.213157   \n",
       "131327  1.240891  0.122984 -0.712189  1.256172 -0.301224 -0.248023 -0.195210   \n",
       "131328 -0.431446  0.686156 -0.617663  1.428060  0.289086 -0.085350 -0.154148   \n",
       "131329 -0.977920  0.104655 -0.670391  1.456162  0.163186 -0.234210 -0.144070   \n",
       "\n",
       "              7         8         9   ...        17        18        19  \\\n",
       "0      -0.688663 -0.014101  0.186144  ...  0.284515 -0.664966 -0.330223   \n",
       "1       0.489954 -0.684419  0.009027  ...  0.278075 -0.671747 -0.329075   \n",
       "2       0.431416  0.723238 -0.103510  ...  0.285253 -0.666040 -0.331199   \n",
       "3       0.016155  0.016198  0.118703  ...  0.289019 -0.658526 -0.340260   \n",
       "4      -0.168653  0.040009  0.398100  ...  0.284891 -0.662746 -0.328506   \n",
       "...          ...       ...       ...  ...       ...       ...       ...   \n",
       "131325  0.588967 -0.670541  0.267923  ...  0.041644  0.160959  0.007798   \n",
       "131326  0.534690 -0.696176  0.004523  ...  0.127236 -0.024834 -0.066102   \n",
       "131327  0.542208 -0.685014  0.101519  ...  0.084943  0.167374 -0.001393   \n",
       "131328  0.493123 -0.699928 -0.031624  ...  0.062293  0.155796  0.005590   \n",
       "131329  0.472633 -0.722998 -0.268292  ...  0.131343 -0.044562 -0.080405   \n",
       "\n",
       "              20        21        22        23        24        25        26  \n",
       "0       0.029648 -0.021146 -0.029795 -0.075789 -0.023430 -0.102350 -0.018486  \n",
       "1       0.010490 -0.036712 -0.041988 -0.083201 -0.023543 -0.105056 -0.019002  \n",
       "2       0.025794 -0.021473 -0.010479 -0.072493 -0.022705 -0.105471 -0.018963  \n",
       "3       0.017908 -0.043017 -0.018652 -0.089092 -0.028266  0.395150 -0.014547  \n",
       "4       0.029706 -0.021052 -0.032107 -0.075867 -0.022589 -0.102295 -0.018298  \n",
       "...          ...       ...       ...       ...       ...       ...       ...  \n",
       "131325  0.099838 -0.028524  0.031548 -0.011956 -0.126637 -0.106245 -0.020852  \n",
       "131326  0.073861 -0.036595  0.002479 -0.002784  0.094295 -0.104282 -0.025739  \n",
       "131327  0.047790 -0.036895 -0.079443 -0.054120  0.196970 -0.111272 -0.035891  \n",
       "131328  0.083800 -0.032473 -0.002721 -0.006142  0.036950 -0.105257 -0.025373  \n",
       "131329  0.071759 -0.026211 -0.004923 -0.014162  0.124714 -0.105223 -0.028354  \n",
       "\n",
       "[131330 rows x 27 columns]"
      ]
     },
     "execution_count": 308,
     "metadata": {},
     "output_type": "execute_result"
    }
   ],
   "source": [
    "pd.DataFrame(X_train_reduced)"
   ]
  },
  {
   "cell_type": "code",
   "execution_count": 309,
   "metadata": {},
   "outputs": [
    {
     "data": {
      "text/plain": [
       "[22.067158963429296,\n",
       " 21.981287048623614,\n",
       " 22.100250200403767,\n",
       " 19.995829980581487,\n",
       " 17.16087339631356,\n",
       " 6.868627291703841,\n",
       " 6.644039567171127,\n",
       " 6.469476688476948,\n",
       " 6.4320575249162255,\n",
       " 2.6841609390539287,\n",
       " 1.9248447130152098,\n",
       " 1.6186234692756092,\n",
       " 1.6186462832923263,\n",
       " 1.606165442817676,\n",
       " 1.600167246228512,\n",
       " 1.5984196039930312,\n",
       " 1.569439938118963,\n",
       " 1.5608507608711777,\n",
       " 1.4200254369420942,\n",
       " 1.3872324688022968,\n",
       " 1.3847736442420928,\n",
       " 1.3762218789949274,\n",
       " 1.3823150283609216,\n",
       " 1.3471427015725326,\n",
       " 1.247093613925829,\n",
       " 1.2469791205139231]"
      ]
     },
     "execution_count": 309,
     "metadata": {},
     "output_type": "execute_result"
    }
   ],
   "source": [
    "mse"
   ]
  },
  {
   "cell_type": "code",
   "execution_count": 310,
   "metadata": {},
   "outputs": [],
   "source": [
    "train_error = []\n",
    "test_error = []\n",
    "\n",
    "for i in range(1, 27):\n",
    "\n",
    "    X_trained_reduced_temp = pd.DataFrame(X_train_reduced).iloc[:, :i]\n",
    "    X_test_reduced_temp = pd.DataFrame(X_test_reduced).iloc[:, :i]\n",
    "\n",
    "    lr_reduced_temp = LinearRegression()\n",
    "    lr_reduced_temp.fit(X_trained_reduced_temp, Y_train)\n",
    "\n",
    "    Y_train_temp_pred = lr_reduced_temp.predict(X_trained_reduced_temp)\n",
    "    Y_test_temp_pred = lr_reduced_temp.predict(X_test_reduced_temp)\n",
    "\n",
    "    train_error.append(sklearn.metrics.mean_squared_error(Y_train, Y_train_temp_pred))\n",
    "    test_error.append(sklearn.metrics.mean_squared_error(Y_test, Y_test_temp_pred))"
   ]
  },
  {
   "cell_type": "code",
   "execution_count": 311,
   "metadata": {},
   "outputs": [
    {
     "data": {
      "text/plain": [
       "26"
      ]
     },
     "execution_count": 311,
     "metadata": {},
     "output_type": "execute_result"
    }
   ],
   "source": [
    "len(mse)"
   ]
  },
  {
   "cell_type": "code",
   "execution_count": 312,
   "metadata": {},
   "outputs": [
    {
     "data": {
      "application/vnd.plotly.v1+json": {
       "config": {
        "plotlyServerURL": "https://plot.ly"
       },
       "data": [
        {
         "mode": "lines+markers",
         "name": "train error",
         "type": "scatter",
         "x": [
          20,
          21,
          22,
          23,
          24,
          25,
          26
         ],
         "y": [
          1.3598595645034628,
          1.3559604336178503,
          1.331342483271467,
          1.3310010430371335,
          1.3073958469797693,
          1.1442571969583184,
          1.144141513748744
         ]
        },
        {
         "mode": "lines+markers",
         "name": "test error",
         "type": "scatter",
         "x": [
          20,
          21,
          22,
          23,
          24,
          25,
          26
         ],
         "y": [
          8.259828541657667,
          8.250273546760594,
          8.217624173611597,
          8.211286392270823,
          8.191284179015897,
          7.378691000162502,
          7.378782020813235
         ]
        },
        {
         "mode": "lines+markers",
         "name": "test error",
         "type": "scatter",
         "x": [
          20,
          21,
          22,
          23,
          24,
          25,
          26
         ],
         "y": [
          1.3872324688022968,
          1.3847736442420928,
          1.3762218789949274,
          1.3823150283609216,
          1.3471427015725326,
          1.247093613925829,
          1.2469791205139231
         ]
        }
       ],
       "layout": {
        "template": {
         "data": {
          "bar": [
           {
            "error_x": {
             "color": "#2a3f5f"
            },
            "error_y": {
             "color": "#2a3f5f"
            },
            "marker": {
             "line": {
              "color": "#E5ECF6",
              "width": 0.5
             },
             "pattern": {
              "fillmode": "overlay",
              "size": 10,
              "solidity": 0.2
             }
            },
            "type": "bar"
           }
          ],
          "barpolar": [
           {
            "marker": {
             "line": {
              "color": "#E5ECF6",
              "width": 0.5
             },
             "pattern": {
              "fillmode": "overlay",
              "size": 10,
              "solidity": 0.2
             }
            },
            "type": "barpolar"
           }
          ],
          "carpet": [
           {
            "aaxis": {
             "endlinecolor": "#2a3f5f",
             "gridcolor": "white",
             "linecolor": "white",
             "minorgridcolor": "white",
             "startlinecolor": "#2a3f5f"
            },
            "baxis": {
             "endlinecolor": "#2a3f5f",
             "gridcolor": "white",
             "linecolor": "white",
             "minorgridcolor": "white",
             "startlinecolor": "#2a3f5f"
            },
            "type": "carpet"
           }
          ],
          "choropleth": [
           {
            "colorbar": {
             "outlinewidth": 0,
             "ticks": ""
            },
            "type": "choropleth"
           }
          ],
          "contour": [
           {
            "colorbar": {
             "outlinewidth": 0,
             "ticks": ""
            },
            "colorscale": [
             [
              0,
              "#0d0887"
             ],
             [
              0.1111111111111111,
              "#46039f"
             ],
             [
              0.2222222222222222,
              "#7201a8"
             ],
             [
              0.3333333333333333,
              "#9c179e"
             ],
             [
              0.4444444444444444,
              "#bd3786"
             ],
             [
              0.5555555555555556,
              "#d8576b"
             ],
             [
              0.6666666666666666,
              "#ed7953"
             ],
             [
              0.7777777777777778,
              "#fb9f3a"
             ],
             [
              0.8888888888888888,
              "#fdca26"
             ],
             [
              1,
              "#f0f921"
             ]
            ],
            "type": "contour"
           }
          ],
          "contourcarpet": [
           {
            "colorbar": {
             "outlinewidth": 0,
             "ticks": ""
            },
            "type": "contourcarpet"
           }
          ],
          "heatmap": [
           {
            "colorbar": {
             "outlinewidth": 0,
             "ticks": ""
            },
            "colorscale": [
             [
              0,
              "#0d0887"
             ],
             [
              0.1111111111111111,
              "#46039f"
             ],
             [
              0.2222222222222222,
              "#7201a8"
             ],
             [
              0.3333333333333333,
              "#9c179e"
             ],
             [
              0.4444444444444444,
              "#bd3786"
             ],
             [
              0.5555555555555556,
              "#d8576b"
             ],
             [
              0.6666666666666666,
              "#ed7953"
             ],
             [
              0.7777777777777778,
              "#fb9f3a"
             ],
             [
              0.8888888888888888,
              "#fdca26"
             ],
             [
              1,
              "#f0f921"
             ]
            ],
            "type": "heatmap"
           }
          ],
          "heatmapgl": [
           {
            "colorbar": {
             "outlinewidth": 0,
             "ticks": ""
            },
            "colorscale": [
             [
              0,
              "#0d0887"
             ],
             [
              0.1111111111111111,
              "#46039f"
             ],
             [
              0.2222222222222222,
              "#7201a8"
             ],
             [
              0.3333333333333333,
              "#9c179e"
             ],
             [
              0.4444444444444444,
              "#bd3786"
             ],
             [
              0.5555555555555556,
              "#d8576b"
             ],
             [
              0.6666666666666666,
              "#ed7953"
             ],
             [
              0.7777777777777778,
              "#fb9f3a"
             ],
             [
              0.8888888888888888,
              "#fdca26"
             ],
             [
              1,
              "#f0f921"
             ]
            ],
            "type": "heatmapgl"
           }
          ],
          "histogram": [
           {
            "marker": {
             "pattern": {
              "fillmode": "overlay",
              "size": 10,
              "solidity": 0.2
             }
            },
            "type": "histogram"
           }
          ],
          "histogram2d": [
           {
            "colorbar": {
             "outlinewidth": 0,
             "ticks": ""
            },
            "colorscale": [
             [
              0,
              "#0d0887"
             ],
             [
              0.1111111111111111,
              "#46039f"
             ],
             [
              0.2222222222222222,
              "#7201a8"
             ],
             [
              0.3333333333333333,
              "#9c179e"
             ],
             [
              0.4444444444444444,
              "#bd3786"
             ],
             [
              0.5555555555555556,
              "#d8576b"
             ],
             [
              0.6666666666666666,
              "#ed7953"
             ],
             [
              0.7777777777777778,
              "#fb9f3a"
             ],
             [
              0.8888888888888888,
              "#fdca26"
             ],
             [
              1,
              "#f0f921"
             ]
            ],
            "type": "histogram2d"
           }
          ],
          "histogram2dcontour": [
           {
            "colorbar": {
             "outlinewidth": 0,
             "ticks": ""
            },
            "colorscale": [
             [
              0,
              "#0d0887"
             ],
             [
              0.1111111111111111,
              "#46039f"
             ],
             [
              0.2222222222222222,
              "#7201a8"
             ],
             [
              0.3333333333333333,
              "#9c179e"
             ],
             [
              0.4444444444444444,
              "#bd3786"
             ],
             [
              0.5555555555555556,
              "#d8576b"
             ],
             [
              0.6666666666666666,
              "#ed7953"
             ],
             [
              0.7777777777777778,
              "#fb9f3a"
             ],
             [
              0.8888888888888888,
              "#fdca26"
             ],
             [
              1,
              "#f0f921"
             ]
            ],
            "type": "histogram2dcontour"
           }
          ],
          "mesh3d": [
           {
            "colorbar": {
             "outlinewidth": 0,
             "ticks": ""
            },
            "type": "mesh3d"
           }
          ],
          "parcoords": [
           {
            "line": {
             "colorbar": {
              "outlinewidth": 0,
              "ticks": ""
             }
            },
            "type": "parcoords"
           }
          ],
          "pie": [
           {
            "automargin": true,
            "type": "pie"
           }
          ],
          "scatter": [
           {
            "fillpattern": {
             "fillmode": "overlay",
             "size": 10,
             "solidity": 0.2
            },
            "type": "scatter"
           }
          ],
          "scatter3d": [
           {
            "line": {
             "colorbar": {
              "outlinewidth": 0,
              "ticks": ""
             }
            },
            "marker": {
             "colorbar": {
              "outlinewidth": 0,
              "ticks": ""
             }
            },
            "type": "scatter3d"
           }
          ],
          "scattercarpet": [
           {
            "marker": {
             "colorbar": {
              "outlinewidth": 0,
              "ticks": ""
             }
            },
            "type": "scattercarpet"
           }
          ],
          "scattergeo": [
           {
            "marker": {
             "colorbar": {
              "outlinewidth": 0,
              "ticks": ""
             }
            },
            "type": "scattergeo"
           }
          ],
          "scattergl": [
           {
            "marker": {
             "colorbar": {
              "outlinewidth": 0,
              "ticks": ""
             }
            },
            "type": "scattergl"
           }
          ],
          "scattermapbox": [
           {
            "marker": {
             "colorbar": {
              "outlinewidth": 0,
              "ticks": ""
             }
            },
            "type": "scattermapbox"
           }
          ],
          "scatterpolar": [
           {
            "marker": {
             "colorbar": {
              "outlinewidth": 0,
              "ticks": ""
             }
            },
            "type": "scatterpolar"
           }
          ],
          "scatterpolargl": [
           {
            "marker": {
             "colorbar": {
              "outlinewidth": 0,
              "ticks": ""
             }
            },
            "type": "scatterpolargl"
           }
          ],
          "scatterternary": [
           {
            "marker": {
             "colorbar": {
              "outlinewidth": 0,
              "ticks": ""
             }
            },
            "type": "scatterternary"
           }
          ],
          "surface": [
           {
            "colorbar": {
             "outlinewidth": 0,
             "ticks": ""
            },
            "colorscale": [
             [
              0,
              "#0d0887"
             ],
             [
              0.1111111111111111,
              "#46039f"
             ],
             [
              0.2222222222222222,
              "#7201a8"
             ],
             [
              0.3333333333333333,
              "#9c179e"
             ],
             [
              0.4444444444444444,
              "#bd3786"
             ],
             [
              0.5555555555555556,
              "#d8576b"
             ],
             [
              0.6666666666666666,
              "#ed7953"
             ],
             [
              0.7777777777777778,
              "#fb9f3a"
             ],
             [
              0.8888888888888888,
              "#fdca26"
             ],
             [
              1,
              "#f0f921"
             ]
            ],
            "type": "surface"
           }
          ],
          "table": [
           {
            "cells": {
             "fill": {
              "color": "#EBF0F8"
             },
             "line": {
              "color": "white"
             }
            },
            "header": {
             "fill": {
              "color": "#C8D4E3"
             },
             "line": {
              "color": "white"
             }
            },
            "type": "table"
           }
          ]
         },
         "layout": {
          "annotationdefaults": {
           "arrowcolor": "#2a3f5f",
           "arrowhead": 0,
           "arrowwidth": 1
          },
          "autotypenumbers": "strict",
          "coloraxis": {
           "colorbar": {
            "outlinewidth": 0,
            "ticks": ""
           }
          },
          "colorscale": {
           "diverging": [
            [
             0,
             "#8e0152"
            ],
            [
             0.1,
             "#c51b7d"
            ],
            [
             0.2,
             "#de77ae"
            ],
            [
             0.3,
             "#f1b6da"
            ],
            [
             0.4,
             "#fde0ef"
            ],
            [
             0.5,
             "#f7f7f7"
            ],
            [
             0.6,
             "#e6f5d0"
            ],
            [
             0.7,
             "#b8e186"
            ],
            [
             0.8,
             "#7fbc41"
            ],
            [
             0.9,
             "#4d9221"
            ],
            [
             1,
             "#276419"
            ]
           ],
           "sequential": [
            [
             0,
             "#0d0887"
            ],
            [
             0.1111111111111111,
             "#46039f"
            ],
            [
             0.2222222222222222,
             "#7201a8"
            ],
            [
             0.3333333333333333,
             "#9c179e"
            ],
            [
             0.4444444444444444,
             "#bd3786"
            ],
            [
             0.5555555555555556,
             "#d8576b"
            ],
            [
             0.6666666666666666,
             "#ed7953"
            ],
            [
             0.7777777777777778,
             "#fb9f3a"
            ],
            [
             0.8888888888888888,
             "#fdca26"
            ],
            [
             1,
             "#f0f921"
            ]
           ],
           "sequentialminus": [
            [
             0,
             "#0d0887"
            ],
            [
             0.1111111111111111,
             "#46039f"
            ],
            [
             0.2222222222222222,
             "#7201a8"
            ],
            [
             0.3333333333333333,
             "#9c179e"
            ],
            [
             0.4444444444444444,
             "#bd3786"
            ],
            [
             0.5555555555555556,
             "#d8576b"
            ],
            [
             0.6666666666666666,
             "#ed7953"
            ],
            [
             0.7777777777777778,
             "#fb9f3a"
            ],
            [
             0.8888888888888888,
             "#fdca26"
            ],
            [
             1,
             "#f0f921"
            ]
           ]
          },
          "colorway": [
           "#636efa",
           "#EF553B",
           "#00cc96",
           "#ab63fa",
           "#FFA15A",
           "#19d3f3",
           "#FF6692",
           "#B6E880",
           "#FF97FF",
           "#FECB52"
          ],
          "font": {
           "color": "#2a3f5f"
          },
          "geo": {
           "bgcolor": "white",
           "lakecolor": "white",
           "landcolor": "#E5ECF6",
           "showlakes": true,
           "showland": true,
           "subunitcolor": "white"
          },
          "hoverlabel": {
           "align": "left"
          },
          "hovermode": "closest",
          "mapbox": {
           "style": "light"
          },
          "paper_bgcolor": "white",
          "plot_bgcolor": "#E5ECF6",
          "polar": {
           "angularaxis": {
            "gridcolor": "white",
            "linecolor": "white",
            "ticks": ""
           },
           "bgcolor": "#E5ECF6",
           "radialaxis": {
            "gridcolor": "white",
            "linecolor": "white",
            "ticks": ""
           }
          },
          "scene": {
           "xaxis": {
            "backgroundcolor": "#E5ECF6",
            "gridcolor": "white",
            "gridwidth": 2,
            "linecolor": "white",
            "showbackground": true,
            "ticks": "",
            "zerolinecolor": "white"
           },
           "yaxis": {
            "backgroundcolor": "#E5ECF6",
            "gridcolor": "white",
            "gridwidth": 2,
            "linecolor": "white",
            "showbackground": true,
            "ticks": "",
            "zerolinecolor": "white"
           },
           "zaxis": {
            "backgroundcolor": "#E5ECF6",
            "gridcolor": "white",
            "gridwidth": 2,
            "linecolor": "white",
            "showbackground": true,
            "ticks": "",
            "zerolinecolor": "white"
           }
          },
          "shapedefaults": {
           "line": {
            "color": "#2a3f5f"
           }
          },
          "ternary": {
           "aaxis": {
            "gridcolor": "white",
            "linecolor": "white",
            "ticks": ""
           },
           "baxis": {
            "gridcolor": "white",
            "linecolor": "white",
            "ticks": ""
           },
           "bgcolor": "#E5ECF6",
           "caxis": {
            "gridcolor": "white",
            "linecolor": "white",
            "ticks": ""
           }
          },
          "title": {
           "x": 0.05
          },
          "xaxis": {
           "automargin": true,
           "gridcolor": "white",
           "linecolor": "white",
           "ticks": "",
           "title": {
            "standoff": 15
           },
           "zerolinecolor": "white",
           "zerolinewidth": 2
          },
          "yaxis": {
           "automargin": true,
           "gridcolor": "white",
           "linecolor": "white",
           "ticks": "",
           "title": {
            "standoff": 15
           },
           "zerolinecolor": "white",
           "zerolinewidth": 2
          }
         }
        }
       }
      }
     },
     "metadata": {},
     "output_type": "display_data"
    }
   ],
   "source": [
    "import plotly.graph_objects as go\n",
    "\n",
    "seq = list(range(20,27))\n",
    "\n",
    "fig = go.Figure()\n",
    "fig.add_trace(go.Scatter(x=seq, y=train_error[19:27],\n",
    "                    mode='lines+markers',\n",
    "                    name='train error'))\n",
    "fig.add_trace(go.Scatter(x=seq, y=test_error[19:27],\n",
    "                    mode='lines+markers',\n",
    "                    name='test error'))\n",
    "fig.add_trace(go.Scatter(x=seq, y=mse[19:27],\n",
    "                    mode='lines+markers',\n",
    "                    name='test error'))                    "
   ]
  },
  {
   "cell_type": "code",
   "execution_count": 313,
   "metadata": {},
   "outputs": [
    {
     "name": "stdout",
     "output_type": "stream",
     "text": [
      "1.1441376996834907\n",
      "7.378693524501949\n"
     ]
    }
   ],
   "source": [
    "lr_pca.fit(X_train_reduced, Y_train)\n",
    "Y_train_reduced_pred = lr_pca.predict(X_train_reduced)\n",
    "Y_test_reduced_pred = lr_pca.predict(X_test_reduced)\n",
    "print(np.sqrt(sklearn.metrics.mean_squared_error(Y_train, Y_train_reduced_pred)))\n",
    "print(np.sqrt(sklearn.metrics.mean_squared_error(Y_test, Y_test_reduced_pred)))"
   ]
  },
  {
   "cell_type": "markdown",
   "metadata": {},
   "source": [
    "#### PCA + Ridge"
   ]
  },
  {
   "cell_type": "code",
   "execution_count": 314,
   "metadata": {},
   "outputs": [
    {
     "name": "stdout",
     "output_type": "stream",
     "text": [
      "{'alpha': 0.10101010101010101}\n",
      "-1.246889968234474\n"
     ]
    }
   ],
   "source": [
    "ridge_pca = Ridge()\n",
    "ridge_pca_cv = GridSearchCV(ridge_pca, param_grid, cv=tscv, scoring = 'neg_root_mean_squared_error')\n",
    "ridge_pca_cv.fit(X_train_reduced, Y_train)\n",
    "print(ridge_pca_cv.best_params_)\n",
    "print(ridge_pca_cv.best_score_)"
   ]
  },
  {
   "cell_type": "code",
   "execution_count": 315,
   "metadata": {},
   "outputs": [
    {
     "name": "stdout",
     "output_type": "stream",
     "text": [
      "1.1441377027373592\n",
      "7.378705699994078\n"
     ]
    }
   ],
   "source": [
    "ridge_pca.alpha = 0.1\n",
    "ridge_pca.fit(X_train_reduced, Y_train)\n",
    "y_train_reduced_pred = ridge_pca.predict(X_train_reduced)\n",
    "y_test_reduced_pred = ridge_pca.predict(X_test_reduced)\n",
    "\n",
    "print(np.sqrt(sklearn.metrics.mean_squared_error(y_train_reduced_pred, Y_train)))\n",
    "print(np.sqrt(sklearn.metrics.mean_squared_error(y_test_reduced_pred, Y_test)))"
   ]
  },
  {
   "cell_type": "markdown",
   "metadata": {},
   "source": [
    "#### PCA + RFE"
   ]
  },
  {
   "cell_type": "code",
   "execution_count": 316,
   "metadata": {},
   "outputs": [
    {
     "data": {
      "text/plain": [
       "RFECV(cv=TimeSeriesSplit(gap=0, max_train_size=30000, n_splits=3, test_size=None),\n",
       "      estimator=LinearRegression(), scoring='neg_root_mean_squared_error')"
      ]
     },
     "execution_count": 316,
     "metadata": {},
     "output_type": "execute_result"
    }
   ],
   "source": [
    "linreg_pca_rfe = LinearRegression()\n",
    "pca_rfecv = RFECV(estimator=linreg_pca_rfe, cv=tscv, scoring='neg_root_mean_squared_error')\n",
    "pca_rfecv.fit(X_train_reduced, Y_train)"
   ]
  },
  {
   "cell_type": "code",
   "execution_count": 317,
   "metadata": {},
   "outputs": [
    {
     "data": {
      "text/plain": [
       "array([-34.41009587, -31.08189946,  -9.64295665,  -6.53199815,\n",
       "        -6.34581257,  -6.01729235,  -5.75420813,  -5.63992336,\n",
       "        -5.48552831,  -3.81105362,  -2.83797186,  -1.68320857,\n",
       "        -1.47851139,  -1.3883705 ,  -1.3783248 ,  -1.36543379,\n",
       "        -1.29591548,  -1.26060397,  -1.25682116,  -1.25509825,\n",
       "        -1.25773223,  -1.25021439,  -1.24859753,  -1.24628046,\n",
       "        -1.24708534,  -1.24669209,  -1.24689009])"
      ]
     },
     "execution_count": 317,
     "metadata": {},
     "output_type": "execute_result"
    }
   ],
   "source": [
    "pca_rfecv.cv_results_[\"mean_test_score\"]"
   ]
  },
  {
   "cell_type": "code",
   "execution_count": 318,
   "metadata": {},
   "outputs": [
    {
     "data": {
      "image/png": "[encoded data removed]",
      "text/plain": [
       "<Figure size 1152x432 with 1 Axes>"
      ]
     },
     "metadata": {
      "needs_background": "light"
     },
     "output_type": "display_data"
    }
   ],
   "source": [
    "plt.figure( figsize=(16, 6))\n",
    "plt.title('Total features selected versus accuracy')\n",
    "plt.xlabel('Total features selected')\n",
    "plt.ylabel('Model accuracy')\n",
    "plt.plot(range(1, len(pca_rfecv.cv_results_['mean_test_score']) + 1), pca_rfecv.cv_results_['mean_test_score'])\n",
    "plt.show()"
   ]
  },
  {
   "cell_type": "code",
   "execution_count": 319,
   "metadata": {},
   "outputs": [
    {
     "data": {
      "text/html": [
       "<div>\n",
       "<style scoped>\n",
       "    .dataframe tbody tr th:only-of-type {\n",
       "        vertical-align: middle;\n",
       "    }\n",
       "\n",
       "    .dataframe tbody tr th {\n",
       "        vertical-align: top;\n",
       "    }\n",
       "\n",
       "    .dataframe thead th {\n",
       "        text-align: right;\n",
       "    }\n",
       "</style>\n",
       "<table border=\"1\" class=\"dataframe\">\n",
       "  <thead>\n",
       "    <tr style=\"text-align: right;\">\n",
       "      <th></th>\n",
       "      <th>feature</th>\n",
       "      <th>support</th>\n",
       "      <th>ranking</th>\n",
       "    </tr>\n",
       "  </thead>\n",
       "  <tbody>\n",
       "    <tr>\n",
       "      <th>0</th>\n",
       "      <td>0</td>\n",
       "      <td>True</td>\n",
       "      <td>1</td>\n",
       "    </tr>\n",
       "    <tr>\n",
       "      <th>24</th>\n",
       "      <td>24</td>\n",
       "      <td>True</td>\n",
       "      <td>1</td>\n",
       "    </tr>\n",
       "    <tr>\n",
       "      <th>23</th>\n",
       "      <td>23</td>\n",
       "      <td>True</td>\n",
       "      <td>1</td>\n",
       "    </tr>\n",
       "    <tr>\n",
       "      <th>21</th>\n",
       "      <td>21</td>\n",
       "      <td>True</td>\n",
       "      <td>1</td>\n",
       "    </tr>\n",
       "    <tr>\n",
       "      <th>20</th>\n",
       "      <td>20</td>\n",
       "      <td>True</td>\n",
       "      <td>1</td>\n",
       "    </tr>\n",
       "    <tr>\n",
       "      <th>19</th>\n",
       "      <td>19</td>\n",
       "      <td>True</td>\n",
       "      <td>1</td>\n",
       "    </tr>\n",
       "    <tr>\n",
       "      <th>18</th>\n",
       "      <td>18</td>\n",
       "      <td>True</td>\n",
       "      <td>1</td>\n",
       "    </tr>\n",
       "    <tr>\n",
       "      <th>17</th>\n",
       "      <td>17</td>\n",
       "      <td>True</td>\n",
       "      <td>1</td>\n",
       "    </tr>\n",
       "    <tr>\n",
       "      <th>16</th>\n",
       "      <td>16</td>\n",
       "      <td>True</td>\n",
       "      <td>1</td>\n",
       "    </tr>\n",
       "    <tr>\n",
       "      <th>15</th>\n",
       "      <td>15</td>\n",
       "      <td>True</td>\n",
       "      <td>1</td>\n",
       "    </tr>\n",
       "  </tbody>\n",
       "</table>\n",
       "</div>"
      ],
      "text/plain": [
       "   feature support ranking\n",
       "0        0    True       1\n",
       "24      24    True       1\n",
       "23      23    True       1\n",
       "21      21    True       1\n",
       "20      20    True       1\n",
       "19      19    True       1\n",
       "18      18    True       1\n",
       "17      17    True       1\n",
       "16      16    True       1\n",
       "15      15    True       1"
      ]
     },
     "execution_count": 319,
     "metadata": {},
     "output_type": "execute_result"
    }
   ],
   "source": [
    "df_features = pd.DataFrame(columns = ['feature', 'support', 'ranking'])\n",
    "\n",
    "for i in range(X_train_reduced.shape[1]):\n",
    "    row = {'feature': i, 'support': pca_rfecv.support_[i], 'ranking': pca_rfecv.ranking_[i]}\n",
    "    df_features = df_features.append(row, ignore_index=True)\n",
    "    \n",
    "df_features.sort_values(by='ranking').head(10)"
   ]
  },
  {
   "cell_type": "code",
   "execution_count": 320,
   "metadata": {},
   "outputs": [
    {
     "data": {
      "text/html": [
       "<div>\n",
       "<style scoped>\n",
       "    .dataframe tbody tr th:only-of-type {\n",
       "        vertical-align: middle;\n",
       "    }\n",
       "\n",
       "    .dataframe tbody tr th {\n",
       "        vertical-align: top;\n",
       "    }\n",
       "\n",
       "    .dataframe thead th {\n",
       "        text-align: right;\n",
       "    }\n",
       "</style>\n",
       "<table border=\"1\" class=\"dataframe\">\n",
       "  <thead>\n",
       "    <tr style=\"text-align: right;\">\n",
       "      <th></th>\n",
       "      <th>feature</th>\n",
       "      <th>support</th>\n",
       "      <th>ranking</th>\n",
       "    </tr>\n",
       "  </thead>\n",
       "  <tbody>\n",
       "    <tr>\n",
       "      <th>0</th>\n",
       "      <td>0</td>\n",
       "      <td>True</td>\n",
       "      <td>1</td>\n",
       "    </tr>\n",
       "    <tr>\n",
       "      <th>1</th>\n",
       "      <td>1</td>\n",
       "      <td>True</td>\n",
       "      <td>1</td>\n",
       "    </tr>\n",
       "    <tr>\n",
       "      <th>2</th>\n",
       "      <td>2</td>\n",
       "      <td>True</td>\n",
       "      <td>1</td>\n",
       "    </tr>\n",
       "    <tr>\n",
       "      <th>3</th>\n",
       "      <td>3</td>\n",
       "      <td>True</td>\n",
       "      <td>1</td>\n",
       "    </tr>\n",
       "    <tr>\n",
       "      <th>4</th>\n",
       "      <td>4</td>\n",
       "      <td>True</td>\n",
       "      <td>1</td>\n",
       "    </tr>\n",
       "    <tr>\n",
       "      <th>5</th>\n",
       "      <td>5</td>\n",
       "      <td>True</td>\n",
       "      <td>1</td>\n",
       "    </tr>\n",
       "    <tr>\n",
       "      <th>6</th>\n",
       "      <td>6</td>\n",
       "      <td>True</td>\n",
       "      <td>1</td>\n",
       "    </tr>\n",
       "    <tr>\n",
       "      <th>7</th>\n",
       "      <td>7</td>\n",
       "      <td>True</td>\n",
       "      <td>1</td>\n",
       "    </tr>\n",
       "    <tr>\n",
       "      <th>8</th>\n",
       "      <td>8</td>\n",
       "      <td>True</td>\n",
       "      <td>1</td>\n",
       "    </tr>\n",
       "    <tr>\n",
       "      <th>9</th>\n",
       "      <td>9</td>\n",
       "      <td>True</td>\n",
       "      <td>1</td>\n",
       "    </tr>\n",
       "    <tr>\n",
       "      <th>10</th>\n",
       "      <td>10</td>\n",
       "      <td>True</td>\n",
       "      <td>1</td>\n",
       "    </tr>\n",
       "    <tr>\n",
       "      <th>11</th>\n",
       "      <td>11</td>\n",
       "      <td>True</td>\n",
       "      <td>1</td>\n",
       "    </tr>\n",
       "    <tr>\n",
       "      <th>12</th>\n",
       "      <td>12</td>\n",
       "      <td>True</td>\n",
       "      <td>1</td>\n",
       "    </tr>\n",
       "    <tr>\n",
       "      <th>13</th>\n",
       "      <td>13</td>\n",
       "      <td>True</td>\n",
       "      <td>1</td>\n",
       "    </tr>\n",
       "    <tr>\n",
       "      <th>14</th>\n",
       "      <td>14</td>\n",
       "      <td>True</td>\n",
       "      <td>1</td>\n",
       "    </tr>\n",
       "    <tr>\n",
       "      <th>15</th>\n",
       "      <td>15</td>\n",
       "      <td>True</td>\n",
       "      <td>1</td>\n",
       "    </tr>\n",
       "    <tr>\n",
       "      <th>16</th>\n",
       "      <td>16</td>\n",
       "      <td>True</td>\n",
       "      <td>1</td>\n",
       "    </tr>\n",
       "    <tr>\n",
       "      <th>17</th>\n",
       "      <td>17</td>\n",
       "      <td>True</td>\n",
       "      <td>1</td>\n",
       "    </tr>\n",
       "    <tr>\n",
       "      <th>18</th>\n",
       "      <td>18</td>\n",
       "      <td>True</td>\n",
       "      <td>1</td>\n",
       "    </tr>\n",
       "    <tr>\n",
       "      <th>19</th>\n",
       "      <td>19</td>\n",
       "      <td>True</td>\n",
       "      <td>1</td>\n",
       "    </tr>\n",
       "    <tr>\n",
       "      <th>20</th>\n",
       "      <td>20</td>\n",
       "      <td>True</td>\n",
       "      <td>1</td>\n",
       "    </tr>\n",
       "    <tr>\n",
       "      <th>21</th>\n",
       "      <td>21</td>\n",
       "      <td>True</td>\n",
       "      <td>1</td>\n",
       "    </tr>\n",
       "    <tr>\n",
       "      <th>23</th>\n",
       "      <td>23</td>\n",
       "      <td>True</td>\n",
       "      <td>1</td>\n",
       "    </tr>\n",
       "    <tr>\n",
       "      <th>24</th>\n",
       "      <td>24</td>\n",
       "      <td>True</td>\n",
       "      <td>1</td>\n",
       "    </tr>\n",
       "  </tbody>\n",
       "</table>\n",
       "</div>"
      ],
      "text/plain": [
       "   feature support ranking\n",
       "0        0    True       1\n",
       "1        1    True       1\n",
       "2        2    True       1\n",
       "3        3    True       1\n",
       "4        4    True       1\n",
       "5        5    True       1\n",
       "6        6    True       1\n",
       "7        7    True       1\n",
       "8        8    True       1\n",
       "9        9    True       1\n",
       "10      10    True       1\n",
       "11      11    True       1\n",
       "12      12    True       1\n",
       "13      13    True       1\n",
       "14      14    True       1\n",
       "15      15    True       1\n",
       "16      16    True       1\n",
       "17      17    True       1\n",
       "18      18    True       1\n",
       "19      19    True       1\n",
       "20      20    True       1\n",
       "21      21    True       1\n",
       "23      23    True       1\n",
       "24      24    True       1"
      ]
     },
     "execution_count": 320,
     "metadata": {},
     "output_type": "execute_result"
    }
   ],
   "source": [
    "df_features[df_features['support']==True]\n"
   ]
  },
  {
   "cell_type": "code",
   "execution_count": 321,
   "metadata": {},
   "outputs": [
    {
     "data": {
      "text/plain": [
       "24"
      ]
     },
     "execution_count": 321,
     "metadata": {},
     "output_type": "execute_result"
    }
   ],
   "source": [
    "pca_rfecv.n_features_"
   ]
  },
  {
   "cell_type": "code",
   "execution_count": 335,
   "metadata": {},
   "outputs": [
    {
     "data": {
      "text/plain": [
       "{'mean_test_score': array([-34.41009587, -31.08189946,  -9.64295665,  -6.53199815,\n",
       "         -6.34581257,  -6.01729235,  -5.75420813,  -5.63992336,\n",
       "         -5.48552831,  -3.81105362,  -2.83797186,  -1.68320857,\n",
       "         -1.47851139,  -1.3883705 ,  -1.3783248 ,  -1.36543379,\n",
       "         -1.29591548,  -1.26060397,  -1.25682116,  -1.25509825,\n",
       "         -1.25773223,  -1.25021439,  -1.24859753,  -1.24628046,\n",
       "         -1.24708534,  -1.24669209,  -1.24689009]),\n",
       " 'std_test_score': array([16.78474571, 14.38121336,  1.67874912,  1.24383094,  1.20340816,\n",
       "         1.08946451,  0.96686357,  0.92526581,  0.84153426,  0.92717601,\n",
       "         0.40167114,  0.33179108,  0.14573575,  0.15593939,  0.1638046 ,\n",
       "         0.17573268,  0.11608919,  0.08732184,  0.08493015,  0.08612625,\n",
       "         0.09326938,  0.09133589,  0.09024266,  0.08676404,  0.08624567,\n",
       "         0.08610483,  0.08623342]),\n",
       " 'split0_test_score': array([-11.26943325, -10.85544802,  -9.44670818,  -7.9258303 ,\n",
       "         -7.65922821,  -7.21042385,  -6.7973113 ,  -6.61542445,\n",
       "         -6.40035999,  -2.56761492,  -2.28199303,  -2.15238522,\n",
       "         -1.68216786,  -1.60282638,  -1.60227629,  -1.60572768,\n",
       "         -1.44004113,  -1.35421721,  -1.34816059,  -1.34872034,\n",
       "         -1.36305807,  -1.35006947,  -1.34620032,  -1.33811828,\n",
       "         -1.33842011,  -1.3383988 ,  -1.33839614]),\n",
       " 'split1_test_score': array([-41.40070742, -43.03820492, -11.79008378,  -6.7643813 ,\n",
       "         -6.62638341,  -6.26495838,  -5.99828674,  -5.90746975,\n",
       "         -5.68734088,  -4.79315912,  -3.015089  ,  -1.45435952,\n",
       "         -1.34927154,  -1.23662126,  -1.21504391,  -1.19035875,\n",
       "         -1.15576522,  -1.14404725,  -1.14360497,  -1.14081295,\n",
       "         -1.13630436,  -1.12932849,  -1.12858603,  -1.12988916,\n",
       "         -1.13141122,  -1.13145955,  -1.13132097]),\n",
       " 'split2_test_score': array([-50.56014693, -39.35204544,  -7.69207801,  -4.90578285,\n",
       "         -4.75182607,  -4.57649482,  -4.46702636,  -4.39687589,\n",
       "         -4.36888405,  -4.07238681,  -3.21683354,  -1.44288097,\n",
       "         -1.40409478,  -1.32566387,  -1.31765421,  -1.30021495,\n",
       "         -1.2919401 ,  -1.28354744,  -1.27869793,  -1.27576146,\n",
       "         -1.27383425,  -1.27124522,  -1.27100624,  -1.27083393,\n",
       "         -1.27142468,  -1.27021791,  -1.27095315])}"
      ]
     },
     "execution_count": 335,
     "metadata": {},
     "output_type": "execute_result"
    }
   ],
   "source": [
    "pca_rfecv.cv_results_"
   ]
  },
  {
   "cell_type": "code",
   "execution_count": 322,
   "metadata": {},
   "outputs": [],
   "source": [
    "X_train_pca_rfe = pca_rfecv.transform(X_train_reduced)\n",
    "\n",
    "X_test_pca_rfe = pca_rfecv.transform(X_test_reduced)\n"
   ]
  },
  {
   "cell_type": "code",
   "execution_count": 337,
   "metadata": {},
   "outputs": [],
   "source": [
    "cv_results_pca_ridge = cross_val_score(linreg_pca_rfe, X_train_pca_rfe, Y_train, cv = tscv,  scoring = 'neg_root_mean_squared_error')"
   ]
  },
  {
   "cell_type": "code",
   "execution_count": 338,
   "metadata": {},
   "outputs": [
    {
     "data": {
      "text/plain": [
       "-1.246223566363251"
      ]
     },
     "execution_count": 338,
     "metadata": {},
     "output_type": "execute_result"
    }
   ],
   "source": [
    "cv_results_pca_ridge.mean()"
   ]
  },
  {
   "cell_type": "code",
   "execution_count": 323,
   "metadata": {},
   "outputs": [
    {
     "name": "stdout",
     "output_type": "stream",
     "text": [
      "1.1445986371926526\n",
      "7.380508199980403\n"
     ]
    }
   ],
   "source": [
    "linreg_pca_rfe.fit(X_train_pca_rfe, Y_train)\n",
    "Y_train_pca_rfe_pred = linreg_pca_rfe.predict(X_train_pca_rfe)\n",
    "Y_test_pca_rfe_pred = linreg_pca_rfe.predict(X_test_pca_rfe)\n",
    "print(np.sqrt(sklearn.metrics.mean_squared_error(Y_train, Y_train_pca_rfe_pred)))\n",
    "print(np.sqrt(sklearn.metrics.mean_squared_error(Y_test, Y_test_pca_rfe_pred)))"
   ]
  },
  {
   "cell_type": "code",
   "execution_count": 324,
   "metadata": {},
   "outputs": [
    {
     "name": "stdout",
     "output_type": "stream",
     "text": [
      "{'alpha': 0.0}\n",
      "-1.2462235663632348\n"
     ]
    }
   ],
   "source": [
    "pca_ridge_rfe = Ridge()\n",
    "pca_ridge_rfe_cv = GridSearchCV(pca_ridge_rfe, param_grid, cv=tscv, scoring = 'neg_root_mean_squared_error')\n",
    "pca_ridge_rfe_cv.fit(X_train_pca_rfe, Y_train)\n",
    "print(pca_ridge_rfe_cv.best_params_)\n",
    "print(pca_ridge_rfe_cv.best_score_)"
   ]
  },
  {
   "cell_type": "markdown",
   "metadata": {},
   "source": [
    "## Decision tree\n"
   ]
  },
  {
   "cell_type": "code",
   "execution_count": 325,
   "metadata": {},
   "outputs": [],
   "source": [
    "from sklearn.tree import DecisionTreeRegressor"
   ]
  },
  {
   "cell_type": "code",
   "execution_count": 326,
   "metadata": {},
   "outputs": [],
   "source": [
    "tree = DecisionTreeRegressor()"
   ]
  },
  {
   "cell_type": "code",
   "execution_count": 327,
   "metadata": {},
   "outputs": [
    {
     "data": {
      "text/plain": [
       "DecisionTreeRegressor()"
      ]
     },
     "execution_count": 327,
     "metadata": {},
     "output_type": "execute_result"
    }
   ],
   "source": [
    "tree.fit(X_train, Y_train)"
   ]
  },
  {
   "cell_type": "code",
   "execution_count": 328,
   "metadata": {},
   "outputs": [
    {
     "name": "stdout",
     "output_type": "stream",
     "text": [
      "6.633188399034756e-35\n",
      "1932.8475315358028\n"
     ]
    }
   ],
   "source": [
    "Y_train_pred_tree = tree.predict(X_train)\n",
    "Y_test_pred_tree = tree.predict(X_test)\n",
    "\n",
    "print(np.sqrt(sklearn.metrics.mean_squared_error(Y_train_pred_tree, Y_train)))\n",
    "print(np.sqrt(sklearn.metrics.mean_squared_error(Y_test_pred_tree, Y_test)))"
   ]
  },
  {
   "cell_type": "code",
   "execution_count": 329,
   "metadata": {},
   "outputs": [
    {
     "data": {
      "text/html": [
       "<div>\n",
       "<style scoped>\n",
       "    .dataframe tbody tr th:only-of-type {\n",
       "        vertical-align: middle;\n",
       "    }\n",
       "\n",
       "    .dataframe tbody tr th {\n",
       "        vertical-align: top;\n",
       "    }\n",
       "\n",
       "    .dataframe thead th {\n",
       "        text-align: right;\n",
       "    }\n",
       "</style>\n",
       "<table border=\"1\" class=\"dataframe\">\n",
       "  <thead>\n",
       "    <tr style=\"text-align: right;\">\n",
       "      <th></th>\n",
       "      <th>0</th>\n",
       "    </tr>\n",
       "  </thead>\n",
       "  <tbody>\n",
       "    <tr>\n",
       "      <th>count</th>\n",
       "      <td>131330.000000</td>\n",
       "    </tr>\n",
       "    <tr>\n",
       "      <th>mean</th>\n",
       "      <td>23.238502</td>\n",
       "    </tr>\n",
       "    <tr>\n",
       "      <th>std</th>\n",
       "      <td>40.047753</td>\n",
       "    </tr>\n",
       "    <tr>\n",
       "      <th>min</th>\n",
       "      <td>0.103790</td>\n",
       "    </tr>\n",
       "    <tr>\n",
       "      <th>25%</th>\n",
       "      <td>5.651300</td>\n",
       "    </tr>\n",
       "    <tr>\n",
       "      <th>50%</th>\n",
       "      <td>15.818000</td>\n",
       "    </tr>\n",
       "    <tr>\n",
       "      <th>75%</th>\n",
       "      <td>27.365000</td>\n",
       "    </tr>\n",
       "    <tr>\n",
       "      <th>max</th>\n",
       "      <td>610.080000</td>\n",
       "    </tr>\n",
       "  </tbody>\n",
       "</table>\n",
       "</div>"
      ],
      "text/plain": [
       "                   0\n",
       "count  131330.000000\n",
       "mean       23.238502\n",
       "std        40.047753\n",
       "min         0.103790\n",
       "25%         5.651300\n",
       "50%        15.818000\n",
       "75%        27.365000\n",
       "max       610.080000"
      ]
     },
     "execution_count": 329,
     "metadata": {},
     "output_type": "execute_result"
    }
   ],
   "source": [
    "pd.DataFrame(Y_train_pred_tree).describe()"
   ]
  },
  {
   "cell_type": "code",
   "execution_count": 330,
   "metadata": {},
   "outputs": [
    {
     "data": {
      "text/html": [
       "<div>\n",
       "<style scoped>\n",
       "    .dataframe tbody tr th:only-of-type {\n",
       "        vertical-align: middle;\n",
       "    }\n",
       "\n",
       "    .dataframe tbody tr th {\n",
       "        vertical-align: top;\n",
       "    }\n",
       "\n",
       "    .dataframe thead th {\n",
       "        text-align: right;\n",
       "    }\n",
       "</style>\n",
       "<table border=\"1\" class=\"dataframe\">\n",
       "  <thead>\n",
       "    <tr style=\"text-align: right;\">\n",
       "      <th></th>\n",
       "      <th>0</th>\n",
       "    </tr>\n",
       "  </thead>\n",
       "  <tbody>\n",
       "    <tr>\n",
       "      <th>count</th>\n",
       "      <td>30000.000000</td>\n",
       "    </tr>\n",
       "    <tr>\n",
       "      <th>mean</th>\n",
       "      <td>98.070808</td>\n",
       "    </tr>\n",
       "    <tr>\n",
       "      <th>std</th>\n",
       "      <td>127.661061</td>\n",
       "    </tr>\n",
       "    <tr>\n",
       "      <th>min</th>\n",
       "      <td>1.520000</td>\n",
       "    </tr>\n",
       "    <tr>\n",
       "      <th>25%</th>\n",
       "      <td>39.073000</td>\n",
       "    </tr>\n",
       "    <tr>\n",
       "      <th>50%</th>\n",
       "      <td>63.580000</td>\n",
       "    </tr>\n",
       "    <tr>\n",
       "      <th>75%</th>\n",
       "      <td>95.140000</td>\n",
       "    </tr>\n",
       "    <tr>\n",
       "      <th>max</th>\n",
       "      <td>610.080000</td>\n",
       "    </tr>\n",
       "  </tbody>\n",
       "</table>\n",
       "</div>"
      ],
      "text/plain": [
       "                  0\n",
       "count  30000.000000\n",
       "mean      98.070808\n",
       "std      127.661061\n",
       "min        1.520000\n",
       "25%       39.073000\n",
       "50%       63.580000\n",
       "75%       95.140000\n",
       "max      610.080000"
      ]
     },
     "execution_count": 330,
     "metadata": {},
     "output_type": "execute_result"
    }
   ],
   "source": [
    "pd.DataFrame(Y_test_pred_tree).describe()"
   ]
  },
  {
   "cell_type": "code",
   "execution_count": 118,
   "metadata": {},
   "outputs": [],
   "source": [
    "from sklearn.linear_model import LinearRegression\n",
    "from lineartree import LinearTreeRegressor\n",
    "from lineartree import LinearForestRegressor\n",
    "from sklearn.linear_model import Ridge"
   ]
  },
  {
   "cell_type": "code",
   "execution_count": 119,
   "metadata": {},
   "outputs": [],
   "source": [
    "tree = LinearTreeRegressor(base_estimator=LinearRegression())\n",
    "#tree_cv = GridSearchCV(tree)"
   ]
  },
  {
   "cell_type": "code",
   "execution_count": 120,
   "metadata": {},
   "outputs": [
    {
     "name": "stdout",
     "output_type": "stream",
     "text": [
      "1.1430781647163588\n",
      "7.5629437100827595\n"
     ]
    }
   ],
   "source": [
    "tree.fit(X_train_v1, Y_train)\n",
    "y_pred_tree_train = tree.predict(X_train_v1)\n",
    "y_pred_tree_test = tree.predict(X_test_v1)"
   ]
  },
  {
   "cell_type": "code",
   "execution_count": 123,
   "metadata": {},
   "outputs": [
    {
     "name": "stdout",
     "output_type": "stream",
     "text": [
      "1.069148336161245\n",
      "2.7500806733771936\n"
     ]
    }
   ],
   "source": [
    "print(np.sqrt(sklearn.metrics.mean_squared_error(y_pred_tree_train, Y_train)))\n",
    "print(np.sqrt(sklearn.metrics.mean_squared_error(y_pred_tree_test, Y_test)))"
   ]
  },
  {
   "cell_type": "code",
   "execution_count": 121,
   "metadata": {},
   "outputs": [
    {
     "data": {
      "text/plain": [
       "5"
      ]
     },
     "execution_count": 121,
     "metadata": {},
     "output_type": "execute_result"
    }
   ],
   "source": [
    "tree.max_depth"
   ]
  },
  {
   "cell_type": "code",
   "execution_count": 122,
   "metadata": {},
   "outputs": [
    {
     "name": "stdout",
     "output_type": "stream",
     "text": [
      "1.1430781647163588\n",
      "7.5629437100827595\n"
     ]
    }
   ],
   "source": [
    "tree1 = LinearTreeRegressor(base_estimator=LinearRegression(), max_depth = 3)\n",
    "tree1.fit(X_train_v1, Y_train)\n",
    "y_pred_tree_train1 = tree1.predict(X_train_v1)\n",
    "y_pred_tree_test1 = tree1.predict(X_test_v1)\n"
   ]
  },
  {
   "cell_type": "code",
   "execution_count": 124,
   "metadata": {},
   "outputs": [
    {
     "name": "stdout",
     "output_type": "stream",
     "text": [
      "1.069148336161245\n",
      "2.7500806733771936\n"
     ]
    }
   ],
   "source": [
    "print(np.sqrt(sklearn.metrics.mean_squared_error(y_pred_tree_train1, Y_train)))\n",
    "print(np.sqrt(sklearn.metrics.mean_squared_error(y_pred_tree_test1, Y_test)))"
   ]
  }
 ],
 "metadata": {
  "kernelspec": {
   "display_name": "Python 3.8.12 ('base')",
   "language": "python",
   "name": "python3"
  },
  "language_info": {
   "codemirror_mode": {
    "name": "ipython",
    "version": 3
   },
   "file_extension": ".py",
   "mimetype": "text/x-python",
   "name": "python",
   "nbconvert_exporter": "python",
   "pygments_lexer": "ipython3",
   "version": "3.8.12"
  },
  "orig_nbformat": 4,
  "vscode": {
   "interpreter": {
    "hash": "113efd2168bbaa2f001264e8437eecf1b921108df0e0d380fb53547f94859f36"
   }
  }
 },
 "nbformat": 4,
 "nbformat_minor": 2
}
